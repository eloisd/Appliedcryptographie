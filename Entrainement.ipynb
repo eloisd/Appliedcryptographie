{
 "cells": [
  {
   "cell_type": "code",
   "execution_count": 1,
   "metadata": {},
   "outputs": [],
   "source": [
    "import hashlib as hs\n",
    "import random \n",
    "import gmpy2 as gm\n",
    "import math\n",
    "import base64\n",
    "import os, binascii\n",
    "from backports.pbkdf2 import pbkdf2_hmac\n",
    "import pyaes, pbkdf2, secrets\n"
   ]
  },
  {
   "cell_type": "code",
   "execution_count": 14,
   "metadata": {},
   "outputs": [],
   "source": [
    "ma_chaine = \"bonjour_tout_le_monde\"\n",
    "encoder = ma_chaine.encode('utf-8')"
   ]
  },
  {
   "cell_type": "code",
   "execution_count": 16,
   "metadata": {},
   "outputs": [
    {
     "name": "stdout",
     "output_type": "stream",
     "text": [
      "98\n",
      "111\n",
      "110\n",
      "106\n",
      "111\n",
      "117\n",
      "114\n",
      "95\n",
      "116\n",
      "111\n",
      "117\n",
      "116\n",
      "95\n",
      "108\n",
      "101\n",
      "95\n",
      "109\n",
      "111\n",
      "110\n",
      "100\n",
      "101\n"
     ]
    }
   ],
   "source": [
    "for i in encoder:\n",
    "    print(i)"
   ]
  },
  {
   "cell_type": "code",
   "execution_count": 20,
   "metadata": {},
   "outputs": [
    {
     "data": {
      "text/plain": [
       "'0x62'"
      ]
     },
     "execution_count": 20,
     "metadata": {},
     "output_type": "execute_result"
    }
   ],
   "source": [
    "K = hex(encoder[0])\n",
    "#K=0x6e213189314cd8d2cdfd86c944da1467\n",
    "K"
   ]
  },
  {
   "cell_type": "code",
   "execution_count": 21,
   "metadata": {},
   "outputs": [
    {
     "data": {
      "text/plain": [
       "b'MHgxYjY5YjRiZTA1MmZhYjE='"
      ]
     },
     "execution_count": 21,
     "metadata": {},
     "output_type": "execute_result"
    }
   ],
   "source": [
    "n=123456789987654321\n",
    "base64.b64encode(hex(n).encode('utf8'))"
   ]
  },
  {
   "cell_type": "code",
   "execution_count": 3,
   "metadata": {},
   "outputs": [
    {
     "name": "stdout",
     "output_type": "stream",
     "text": [
      "0b1101110001000010011000110001001001100010100110011011000110100101100110111111101100001101100100101000100110110100001010001100111\n"
     ]
    }
   ],
   "source": [
    "binaire = bin(K)\n",
    "print(binaire)"
   ]
  },
  {
   "cell_type": "code",
   "execution_count": 24,
   "metadata": {},
   "outputs": [
    {
     "data": {
      "text/plain": [
       "b'\\xaa\\xef-?Mw\\xacf\\xe9\\xc5\\xa6\\xc3\\xd8\\xf9!\\xd1'"
      ]
     },
     "execution_count": 24,
     "metadata": {},
     "output_type": "execute_result"
    }
   ],
   "source": [
    "salt = binascii.unhexlify(\"aaef2d3f4d77ac66e9c5a6c3d8f921d1\".encode('utf-8'))    ##  OK\n",
    "salt"
   ]
  },
  {
   "cell_type": "code",
   "execution_count": 23,
   "metadata": {},
   "outputs": [
    {
     "data": {
      "text/plain": [
       "b'mon_super_mdr'"
      ]
     },
     "execution_count": 23,
     "metadata": {},
     "output_type": "execute_result"
    }
   ],
   "source": [
    "mdp = \"mon_super_mdr\".encode('utf-8')    ##  OK\n",
    "mdp"
   ]
  },
  {
   "cell_type": "code",
   "execution_count": 25,
   "metadata": {},
   "outputs": [
    {
     "data": {
      "text/plain": [
       "b\"\\xecI\\xdb_dG\\xe5\\x1c*m\\xd4\\x07\\x00yc\\xea\\xe1\\xec\\x05\\n\\xfb*\\x1fT\\xf8|\\xebA\\xc9'\\xb0\\xd5\""
      ]
     },
     "execution_count": 25,
     "metadata": {},
     "output_type": "execute_result"
    }
   ],
   "source": [
    "key = pbkdf2_hmac(\"sha256\", mdp, salt, 50000, 32)     ## OK, nombre d'itérations et longueur de clé\n",
    "key"
   ]
  },
  {
   "cell_type": "code",
   "execution_count": 26,
   "metadata": {},
   "outputs": [
    {
     "data": {
      "text/plain": [
       "b'ec49db5f6447e51c2a6dd407007963eae1ec050afb2a1f54f87ceb41c927b0d5'"
      ]
     },
     "execution_count": 26,
     "metadata": {},
     "output_type": "execute_result"
    }
   ],
   "source": [
    "Kb=binascii.hexlify(key)\n",
    "Kb"
   ]
  }
 ],
 "metadata": {
  "kernelspec": {
   "display_name": "Python 3",
   "language": "python",
   "name": "python3"
  },
  "language_info": {
   "codemirror_mode": {
    "name": "ipython",
    "version": 3
   },
   "file_extension": ".py",
   "mimetype": "text/x-python",
   "name": "python",
   "nbconvert_exporter": "python",
   "pygments_lexer": "ipython3",
   "version": "3.11.1"
  }
 },
 "nbformat": 4,
 "nbformat_minor": 2
}
