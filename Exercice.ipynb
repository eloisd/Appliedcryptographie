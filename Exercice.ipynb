{
 "cells": [
  {
   "cell_type": "markdown",
   "metadata": {},
   "source": [
    "**Date limite :** Mercredi 27 mars 2024\n",
    "\n",
    "**Groupe TD DIA 6 :**\n",
    "\n",
    "Henri Serano, Sara Thibierge, Eloi Seidlitz"
   ]
  },
  {
   "cell_type": "markdown",
   "metadata": {},
   "source": [
    "Code pour projet crypto\n",
    "\n",
    "Import des librairies"
   ]
  },
  {
   "cell_type": "code",
   "execution_count": 117,
   "metadata": {},
   "outputs": [],
   "source": [
    "import hashlib\n",
    "import random \n",
    "import time\n",
    "import secrets"
   ]
  },
  {
   "cell_type": "code",
   "execution_count": 118,
   "metadata": {},
   "outputs": [],
   "source": [
    "!nbdime config-git --enable"
   ]
  },
  {
   "cell_type": "markdown",
   "metadata": {},
   "source": [
    "## Exercice 1"
   ]
  },
  {
   "cell_type": "markdown",
   "metadata": {},
   "source": [
    "### Partie 1"
   ]
  },
  {
   "cell_type": "markdown",
   "metadata": {},
   "source": [
    "1. Trouver une chaîne de caractères (contenant vos noms et prénoms) dont le hash SHA256 se termine par le plus de zéros possible (en hexadécimal).\n",
    "\n"
   ]
  },
  {
   "cell_type": "markdown",
   "metadata": {},
   "source": [
    "Nous allons faire une fonction permettant de trouver une combinaison du chiffrage de la phrase avec l'algorithme sha256 qui finit avec un nombre finit de 0"
   ]
  },
  {
   "cell_type": "code",
   "execution_count": 188,
   "metadata": {},
   "outputs": [
    {
     "name": "stdout",
     "output_type": "stream",
     "text": [
      "chaine_trouvée: Serano_Henri__Sara_Thibierge__Eloi_Seidlitz_DIA6408284928\n",
      "Nonce trouvé: 408284928\n",
      "Hash correspondant: 9f12fa3ea9dd4cdb820f093c22f67e89f866701f637d49163f50c88940000000\n"
     ]
    }
   ],
   "source": [
    "def trouver_hash_avec_zeros(texte, nombre_zeros):\n",
    "    nonce = 0\n",
    "    zeros_cibles = '0' * nombre_zeros\n",
    "    while True:\n",
    "        texte_nonce = f\"{texte}{nonce}\"\n",
    "        hash_result = hashlib.sha256(texte_nonce.encode()).hexdigest()\n",
    "        if hash_result.endswith(zeros_cibles):\n",
    "            return texte_nonce, nonce, hash_result\n",
    "        nonce += 1\n",
    "\n",
    "texte = \"Serano_Henri__Sara_Thibierge__Eloi_Seidlitz_DIA6\"\n",
    "nombre_zeros = 7\n",
    "\n",
    "texte_nonce, nonce_trouve, hash_resultat = trouver_hash_avec_zeros(texte, nombre_zeros)\n",
    "print(f\"chaine_trouvée: {texte_nonce}\")\n",
    "print(f\"Nonce trouvé: {nonce_trouve}\")\n",
    "print(f\"Hash correspondant: {hash_resultat}\")"
   ]
  },
  {
   "cell_type": "markdown",
   "metadata": {},
   "source": [
    "Cette fonction permet d'executer la fonction et de trouver les différentes statistique en lien avec ce cryptage"
   ]
  },
  {
   "cell_type": "markdown",
   "metadata": {},
   "source": [
    "### Partie 2"
   ]
  },
  {
   "cell_type": "markdown",
   "metadata": {},
   "source": [
    "2. Mesurer le temps moyen pour obtenir n et n+1 zéros en fin de chaîne (n = 5) et calculer le rapport Tn+1/Tn."
   ]
  },
  {
   "cell_type": "code",
   "execution_count": 131,
   "metadata": {},
   "outputs": [
    {
     "name": "stdout",
     "output_type": "stream",
     "text": [
      "|                Chaine de caractère                |      Temps (n)    \t | nonce pour n zéros\t|     Temps (n+1)\t| nonce pour n+1 zéros\t|\n",
      "|\t\t\t\t\t\t    |\t\t\t\t | \t\t\t|\t\t\t| \t\t\t|\n",
      "| Serano_Henri__Sara_Thibierge__Eloi_Seidlitz_DIA6a | 0.28757810592651367    \t | 162278   \t\t| 78.48772192001343\t| 43659971   \t\t| \n",
      "| Serano_Henri__Sara_Thibierge__Eloi_Seidlitz_DIA6b | 4.660536050796509    \t | 2722191   \t\t| 4.6642560958862305\t| 2722191   \t\t| \n",
      "| Serano_Henri__Sara_Thibierge__Eloi_Seidlitz_DIA6c | 1.3069190979003906    \t | 827772   \t\t| 2.218435049057007\t| 1315884   \t\t| \n",
      "| Serano_Henri__Sara_Thibierge__Eloi_Seidlitz_DIA6d | 0.30907392501831055    \t | 193292   \t\t| 9.991142988204956\t| 5704604   \t\t| \n",
      "| Serano_Henri__Sara_Thibierge__Eloi_Seidlitz_DIA6e | 1.0553538799285889    \t | 664677   \t\t| 1.0682461261749268\t| 664677   \t\t| \n",
      "| Serano_Henri__Sara_Thibierge__Eloi_Seidlitz_DIA6f | 4.193653106689453    \t | 2452655   \t\t| 28.836936950683594\t| 16628857   \t\t| \n",
      "| Serano_Henri__Sara_Thibierge__Eloi_Seidlitz_DIA6g | 0.08840608596801758    \t | 55416   \t\t| 0.19530701637268066\t| 120432   \t\t| \n",
      "| Serano_Henri__Sara_Thibierge__Eloi_Seidlitz_DIA6h | 1.009490966796875    \t | 640851   \t\t| 2.4475419521331787\t| 1481607   \t\t| \n",
      "| Serano_Henri__Sara_Thibierge__Eloi_Seidlitz_DIA6i | 0.8160569667816162    \t | 515655   \t\t| 91.97642016410828\t| 51300004   \t\t| \n",
      "| Serano_Henri__Sara_Thibierge__Eloi_Seidlitz_DIA6j | 0.454132080078125    \t | 280173   \t\t| 51.734090089797974\t| 28564737   \t\t| \n",
      "| Serano_Henri__Sara_Thibierge__Eloi_Seidlitz_DIA6k | 0.6808598041534424    \t | 260034   \t\t| 94.52153491973877\t| 45895019   \t\t| \n",
      "| Serano_Henri__Sara_Thibierge__Eloi_Seidlitz_DIA6l | 0.034340858459472656    \t | 21821   \t\t| 48.162293910980225\t| 27320939   \t\t| \n",
      "| Serano_Henri__Sara_Thibierge__Eloi_Seidlitz_DIA6m | 2.45575213432312    \t | 1506486   \t\t| 51.74160695075989\t| 29235813   \t\t| \n",
      "| Serano_Henri__Sara_Thibierge__Eloi_Seidlitz_DIA6n | 1.8820819854736328    \t | 1161735   \t\t| 8.013759136199951\t| 4583459   \t\t| \n",
      "| Serano_Henri__Sara_Thibierge__Eloi_Seidlitz_DIA6o | 1.0005040168762207    \t | 626284   \t\t| 31.895952939987183\t| 18130895   \t\t| \n",
      "| Serano_Henri__Sara_Thibierge__Eloi_Seidlitz_DIA6p | 2.3474302291870117    \t | 1140445   \t\t| 89.96188426017761\t| 48215548   \t\t| \n",
      "| Serano_Henri__Sara_Thibierge__Eloi_Seidlitz_DIA6q | 0.5639002323150635    \t | 344653   \t\t| 41.31315040588379\t| 22958483   \t\t| \n",
      "| Serano_Henri__Sara_Thibierge__Eloi_Seidlitz_DIA6r | 0.9218370914459229    \t | 561347   \t\t| 0.9156239032745361\t| 561347   \t\t| \n",
      "| Serano_Henri__Sara_Thibierge__Eloi_Seidlitz_DIA6s | 0.9829459190368652    \t | 593827   \t\t| 20.338923931121826\t| 10338289   \t\t| \n",
      "| Serano_Henri__Sara_Thibierge__Eloi_Seidlitz_DIA6t | 0.7596499919891357    \t | 395832   \t\t| 68.97696995735168\t| 37718374   \t\t| \n",
      "| Serano_Henri__Sara_Thibierge__Eloi_Seidlitz_DIA6u | 1.2025880813598633    \t | 747274   \t\t| 11.91415810585022\t| 6738483   \t\t| \n",
      "| Serano_Henri__Sara_Thibierge__Eloi_Seidlitz_DIA6v | 1.3096160888671875    \t | 800341   \t\t| 25.673504114151\t| 14764669   \t\t| \n",
      "| Serano_Henri__Sara_Thibierge__Eloi_Seidlitz_DIA6w | 2.1440908908843994    \t | 1312489   \t\t| 56.4529709815979\t| 31830812   \t\t| \n",
      "| Serano_Henri__Sara_Thibierge__Eloi_Seidlitz_DIA6x | 0.2032461166381836    \t | 123005   \t\t| 30.847597122192383\t| 16963046   \t\t| \n",
      "| Serano_Henri__Sara_Thibierge__Eloi_Seidlitz_DIA6y | 1.7691659927368164    \t | 1099269   \t\t| 5.699707984924316\t| 2366478   \t\t| \n",
      "| Serano_Henri__Sara_Thibierge__Eloi_Seidlitz_DIA6z | 1.016714096069336    \t | 702792   \t\t| 20.632808923721313\t| 12787751   \t\t| \n",
      "| Serano_Henri__Sara_Thibierge__Eloi_Seidlitz_DIA6{ | 0.32736897468566895    \t | 223082   \t\t| 21.149573802947998\t| 12887729   \t\t| \n",
      "| Serano_Henri__Sara_Thibierge__Eloi_Seidlitz_DIA6| | 0.16135215759277344    \t | 107006   \t\t| 6.778410196304321\t| 4181061   \t\t| \n",
      "| Serano_Henri__Sara_Thibierge__Eloi_Seidlitz_DIA6} | 2.5789082050323486    \t | 1668744   \t\t| 17.919098138809204\t| 10998943   \t\t| \n",
      "| Serano_Henri__Sara_Thibierge__Eloi_Seidlitz_DIA6~ | 0.9464640617370605    \t | 656374   \t\t| 1.067173957824707\t| 738004   \t\t| \n"
     ]
    },
    {
     "data": {
      "text/plain": [
       "{'nombre_n_de_zeros': 5,\n",
       " 'temps_moyen_n': 1.249000573158264,\n",
       " 'temps_moyen_n+1': 30.853226733207702,\n",
       " 'rapport_temps': 24.702331925429956}"
      ]
     },
     "execution_count": 131,
     "metadata": {},
     "output_type": "execute_result"
    }
   ],
   "source": [
    "def trouver_chaine_et_stats(base, zeros_cibles, iterations_stat=30):\n",
    "\n",
    "    temps_n = []\n",
    "    temps_n_plus_1 = []\n",
    "    print(\"|                Chaine de caractère                |      Temps (n)    \\t | nonce pour n zéros\\t|     Temps (n+1)\\t| nonce pour n+1 zéros\\t|\")\n",
    "    print(\"|\\t\\t\\t\\t\\t\\t    |\\t\\t\\t\\t | \\t\\t\\t|\\t\\t\\t| \\t\\t\\t|\")\n",
    "\n",
    "    for i in range(iterations_stat):\n",
    "        start = time.time()\n",
    "        texte_nonce_n, nonce_trouve_n, hash_resultat_n = trouver_hash_avec_zeros(base+chr(97+i), zeros_cibles)\n",
    "        stop = time.time()\n",
    "        temps_n.append(stop - start)\n",
    "\n",
    "        start = time.time()\n",
    "        texte_nonce_n_plus_1, nonce_trouve_n_plus_1, hash_resultat_n_plus_1 = trouver_hash_avec_zeros(base+chr(97+i), zeros_cibles + 1)\n",
    "        stop = time.time()\n",
    "        temps_n_plus_1.append(stop - start)\n",
    "        print(f\"| {base+chr(97+i)} | {temps_n[-1]}    \\t | {nonce_trouve_n}   \\t\\t| {temps_n_plus_1[-1]}\\t| {nonce_trouve_n_plus_1}   \\t\\t| \")\n",
    "\n",
    "    temps_moyen_n = sum(temps_n) / len(temps_n)\n",
    "    temps_moyen_n_plus_1 = sum(temps_n_plus_1) / len(temps_n_plus_1)\n",
    "\n",
    "    rapport_temps = temps_moyen_n_plus_1 / temps_moyen_n\n",
    "\n",
    "    return {\n",
    "        \"nombre_n_de_zeros\": zeros_cibles,\n",
    "        \"temps_moyen_n\": temps_moyen_n,\n",
    "        \"temps_moyen_n+1\": temps_moyen_n_plus_1,\n",
    "        \"rapport_temps\": rapport_temps\n",
    "    }\n",
    "\n",
    "\n",
    "base_chaine = \"Serano_Henri__Sara_Thibierge__Eloi_Seidlitz_DIA6\"\n",
    "zeros_cibles = 5 # Nombre de zéros à la fin du hash\n",
    "resultats = trouver_chaine_et_stats(base_chaine, zeros_cibles)\n",
    "resultats\n"
   ]
  },
  {
   "cell_type": "markdown",
   "metadata": {},
   "source": [
    "## Exercice 2"
   ]
  },
  {
   "cell_type": "markdown",
   "metadata": {},
   "source": [
    "1. Creation of a function that will create a number with a chosen lenth (ex: 6 to 9) and ramdom digits using only the ones given (ex: 1, 2, 3, 4, 5, 6, 7, 8, 9)"
   ]
  },
  {
   "cell_type": "code",
   "execution_count": 182,
   "metadata": {},
   "outputs": [],
   "source": [
    "def generate_selected_digit_number(length,selected_digit):\n",
    "    return int(''.join(secrets.choice(selected_digit) for _ in range(length)))"
   ]
  },
  {
   "cell_type": "markdown",
   "metadata": {},
   "source": [
    "2. Creation of the password and the initial vector"
   ]
  },
  {
   "cell_type": "code",
   "execution_count": 183,
   "metadata": {},
   "outputs": [],
   "source": [
    "non_zero = \"123456789\"\n",
    "password = generate_selected_digit_number(random.randint(6, 9),non_zero)\n",
    "iv = generate_selected_digit_number(random.randint(6, 9),non_zero)"
   ]
  },
  {
   "cell_type": "markdown",
   "metadata": {},
   "source": [
    "3. get the integer N"
   ]
  },
  {
   "cell_type": "code",
   "execution_count": 184,
   "metadata": {},
   "outputs": [],
   "source": [
    "N = int(str(password) + \"0000\" + str(iv))"
   ]
  },
  {
   "cell_type": "code",
   "execution_count": 195,
   "metadata": {},
   "outputs": [],
   "source": [
    "# print(f\"Password:\\t{password}\")\n",
    "# print(f\"IV:\\t\\t{iv}\")\n",
    "# print(f\"N:\\t\\t{N}\")"
   ]
  },
  {
   "cell_type": "markdown",
   "metadata": {},
   "source": [
    "4. Now lets encrypt our text with AES 256 CTR PBKDF2 using our keys\n",
    "\n",
    "Keep in mind that we remplaced our N and iv by there name to avoid you to see there value"
   ]
  },
  {
   "cell_type": "code",
   "execution_count": 186,
   "metadata": {
    "vscode": {
     "languageId": "shellscript"
    }
   },
   "outputs": [
    {
     "name": "stdout",
     "output_type": "stream",
     "text": [
      "hex string is too short, padding with zero bytes to length\n",
      "hex string is too short, padding with zero bytes to length\n"
     ]
    }
   ],
   "source": [
    "!openssl enc -aes-256-ctr -pbkdf2 -in text_to_encrypt.txt -out ES_HS_ST.enc -pass pass:password -iv iv\n",
    "# !openssl enc -d -aes-256-ctr -pbkdf2 -in ES_HS_ST.enc -out text_to_encrypt2.txt -pass pass:password -iv iv"
   ]
  },
  {
   "cell_type": "code",
   "execution_count": 189,
   "metadata": {},
   "outputs": [],
   "source": [
    "# Le nombre premier p :                                      \n",
    "p = 7946851324679854613245823 \n",
    "# Le « générateur » d’un groupe d’ordre élevé : \n",
    "g = 5 \n",
    "# Clé publique A de Herbert Groscot:                                         \n",
    "A = 7579501795988122393422986\n",
    "\n",
    "b = random.SystemRandom().randint(2, p-2)"
   ]
  },
  {
   "cell_type": "code",
   "execution_count": 194,
   "metadata": {},
   "outputs": [],
   "source": [
    "# print(f\"Clé privée b de Eloi, Henri et Sara: \\t{b}\")"
   ]
  },
  {
   "cell_type": "code",
   "execution_count": 191,
   "metadata": {},
   "outputs": [
    {
     "name": "stdout",
     "output_type": "stream",
     "text": [
      "Clé publique B de Eloi, Henri et Sara: \t3089461795188824779451885\n",
      "Chiffrement C de lentier N: \t\t5855849996723033070255305\n"
     ]
    }
   ],
   "source": [
    "# Calcul de B et C pour ElGamal\n",
    "B = pow(g, b, p)\n",
    "K = pow(A, b, p)  \n",
    "C = (K * N) % p  \n",
    "\n",
    "print(f\"Clé publique B de Eloi, Henri et Sara: \\t{B}\")\n",
    "print(f\"Chiffrement C de lentier N: \\t\\t{C}\")"
   ]
  },
  {
   "cell_type": "markdown",
   "metadata": {},
   "source": [
    "## Exercice 3"
   ]
  },
  {
   "cell_type": "markdown",
   "metadata": {},
   "source": [
    "* Démonstration de la signature ElGamal ou RSA (avec des nombres différents de ceux du cours).\n",
    "* Exemple d'utilisation du RSA, Diffie-Hellman, ElGamal ou de la signature ElGamal dans Python ou openssl (contexte réel)."
   ]
  },
  {
   "cell_type": "markdown",
   "metadata": {},
   "source": [
    "#### 1. Démonstration de la signature ElGamal (avec des nombres différents de ceux du cours)."
   ]
  },
  {
   "cell_type": "code",
   "execution_count": 181,
   "metadata": {},
   "outputs": [
    {
     "name": "stdout",
     "output_type": "stream",
     "text": [
      "Signature valide : True\n"
     ]
    }
   ],
   "source": [
    "# Fonction pour calculer l'inverse modulo\n",
    "def inverse_modulo(a, m):\n",
    "    m0, x0, x1 = m, 0, 1\n",
    "    while a > 1:\n",
    "        q = a // m\n",
    "        m, a = a % m, m\n",
    "        x0, x1 = x1 - q * x0, x0\n",
    "    return x1 + m0 if x1 < 0 else x1\n",
    "\n",
    "# Fonction pour calculer le PGCD\n",
    "def pgcd(a, b):\n",
    "    while b:\n",
    "        a, b = b, a % b\n",
    "    return a\n",
    "\n",
    "# Fonction pour calculer la signature\n",
    "def sign_elgamal(m, x, p, g):\n",
    "    # Sélection d'un nombre aléatoire k\n",
    "    k = random.randint(2, p - 2)\n",
    "    while pgcd(k, p - 1) != 1:  # Assure que k est premier avec p-1\n",
    "        k = random.randint(2, p - 2)\n",
    "    r = pow(g, k, p)\n",
    "    k_inv = inverse_modulo(k, p - 1)\n",
    "    s = (m - x * r) * k_inv % (p - 1)\n",
    "    return r, s\n",
    "\n",
    "# Fonction pour vérifier la signature\n",
    "def verify_elgamal(m, r, s, y, p, g):\n",
    "    v1 = pow(g, m, p)\n",
    "    v2 = (pow(y, r, p) * pow(r, s, p)) % p\n",
    "    return v1 == v2\n",
    "\n",
    "# Paramètres ElGamal\n",
    "p = 257\n",
    "g = 3\n",
    "x = 97\n",
    "\n",
    "# Clé publique\n",
    "y = pow(g, x, p)\n",
    "\n",
    "# Message à signer\n",
    "m = 123\n",
    "\n",
    "# Signature\n",
    "r, s = sign_elgamal(m, x, p, g)\n",
    "\n",
    "# Vérification de la signature\n",
    "valid = verify_elgamal(m, r, s, y, p, g)\n",
    "\n",
    "print(\"Signature valide :\", valid)\n"
   ]
  },
  {
   "cell_type": "markdown",
   "metadata": {},
   "source": [
    "#### 2. Exemple d'utilisation du RSA dans openssl (contexte réel)."
   ]
  },
  {
   "cell_type": "markdown",
   "metadata": {},
   "source": [
    "Supposons que nous ayons un fichier texte appelé \"format.txt\" contenant le message à signer.\n"
   ]
  },
  {
   "cell_type": "markdown",
   "metadata": {},
   "source": [
    "\n",
    "**a) Génération des clés RSA :**\n",
    "Tout d'abord, nous devons générer une paire de clés RSA privée/publique à l'aide d'OpenSSL."
   ]
  },
  {
   "cell_type": "code",
   "execution_count": 196,
   "metadata": {
    "vscode": {
     "languageId": "shellscript"
    }
   },
   "outputs": [
    {
     "name": "stdout",
     "output_type": "stream",
     "text": [
      "..+....+...+...........+.......+.....+.......+..+.........+....+...+.....+...+.......+..+............+...+.......+...+..+.+.....+...+...................+++++++++++++++++++++++++++++++++++++++*..+..+.......+++++++++++++++++++++++++++++++++++++++*.+.....+.+..+....+...+..+.........+....+......+.........+.....................+.........+........+..........+.....+.......+......+...........+...................+..+............+.......+.........+..+...+.......+..+..........+......+..+...+....+..+........................+.+....................+...+.+......+.....+.+..+......++++++\n",
      "...+...+...............+....+...........+.+.....+.+.....+....+++++++++++++++++++++++++++++++++++++++*....+......+..........+..+.......+...+..+++++++++++++++++++++++++++++++++++++++*...+....+.....+..........+......+........+....+...+..+.......+......+..+.+......+...+..................+...+..+...+.......+..............+.........+....+...+...+......+.....+.+..+............+...+.+..+...+............+.......+.................+...+...+....+.........+.....+....+.....+.+..+...+.+...............+......+..+...+.........+.+..+.......+...+......+...........+...+.+..+....+...........+.......+..................+...............+.........+..............+.+...+......+..+.......+........+.........+...+.+.....+.........+......+....+..................+.....+...............+...+............+.........+.+...+......+..............+.+......+..+...+....+......+..................+.....+.+........+............+.........+.........+.......+.....+...+.+.........+.....+...+..................+.+......+...+..+..........+.....+...+.+...+........+.......+..+.+.....+....+...+......+......+..............+....+..+...+.+...........+....+..+.........+...+..................+.............+.........+........+.......+........+....+..............+.+.....+...+.+..+...+.....................+....+..+.........+.+............+........+...............+.......+...+........+......+....+.....+....+..+.........+.+..................+.....+...+............+...+....+......+........+.+......+...+.....+.........+.......+...............+.....+.+..............+.+...+...........+...+...+...+..........+.........+..+...+.............+..+.+.........+.....+.......+...+..+.+...............+............+.....+.+.....+.+......+.....+....+.....+.+.........+......+..+.+.....+.+........................+..+...+....+........+...............+...+.+........+.+.....+......++++++\n",
      "writing RSA key\n"
     ]
    }
   ],
   "source": [
    "!openssl genpkey -algorithm RSA -out private_key.pem\n",
    "!openssl rsa -pubout -in private_key.pem -out public_key.pem"
   ]
  },
  {
   "cell_type": "markdown",
   "metadata": {},
   "source": [
    "Ces commandes génèrent une clé privée private_key.pem et une clé publique correspondante `public_key.pem`.\n"
   ]
  },
  {
   "cell_type": "markdown",
   "metadata": {},
   "source": [
    "\n",
    "**b) Signature du message :**\n",
    "\n",
    "Ensuite, nous signons le message avec notre clé privée."
   ]
  },
  {
   "cell_type": "code",
   "execution_count": 197,
   "metadata": {
    "vscode": {
     "languageId": "shellscript"
    }
   },
   "outputs": [],
   "source": [
    "!openssl dgst -sha256 -sign private_key.pem -out signature.bin format.txt"
   ]
  },
  {
   "cell_type": "markdown",
   "metadata": {},
   "source": [
    "Cela crée une signature du message dans le fichier signature.bin.\n"
   ]
  },
  {
   "cell_type": "markdown",
   "metadata": {},
   "source": [
    "**c) Vérification de la signature :**\n",
    "\n",
    "Pour vérifier la signature avec la clé publique correspondante, nous utilisons :"
   ]
  },
  {
   "cell_type": "code",
   "execution_count": 198,
   "metadata": {
    "vscode": {
     "languageId": "shellscript"
    }
   },
   "outputs": [
    {
     "name": "stdout",
     "output_type": "stream",
     "text": [
      "Verified OK\n"
     ]
    }
   ],
   "source": [
    "!openssl dgst -sha256 -verify public_key.pem -signature signature.bin format.txt"
   ]
  },
  {
   "cell_type": "markdown",
   "metadata": {},
   "source": [
    "Si la vérification réussit, OpenSSL affichera \"Verified OK\".\n"
   ]
  }
 ],
 "metadata": {
  "kernelspec": {
   "display_name": "Python 3",
   "language": "python",
   "name": "python3"
  },
  "language_info": {
   "codemirror_mode": {
    "name": "ipython",
    "version": 3
   },
   "file_extension": ".py",
   "mimetype": "text/x-python",
   "name": "python",
   "nbconvert_exporter": "python",
   "pygments_lexer": "ipython3",
   "version": "3.10.11"
  }
 },
 "nbformat": 4,
 "nbformat_minor": 2
}
