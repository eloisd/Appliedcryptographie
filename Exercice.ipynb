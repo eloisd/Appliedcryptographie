{
 "cells": [
  {
   "cell_type": "markdown",
   "metadata": {},
   "source": [
    "Code pour projet crypto\n",
    "\n",
    "Import des librairies"
   ]
  },
  {
   "cell_type": "markdown",
   "metadata": {},
   "source": [
    "**Date limite :** Mercredi 27 mars 2024\n",
    "\n",
    "**Groupe TD DIA 6 :**\n",
    "\n",
    "Henri Serano, Sara Thibierge, Eloi Seidlitz"
   ]
  },
  {
   "cell_type": "code",
   "execution_count": 3,
   "metadata": {},
   "outputs": [],
   "source": [
    "import hashlib\n",
    "import random \n",
    "import gmpy2 as gm\n",
    "import math\n",
    "import time\n",
    "import base64\n",
    "import os, binascii\n",
    "from backports.pbkdf2 import pbkdf2_hmac\n",
    "import pyaes, pbkdf2, secrets\n",
    "import nbdime\n"
   ]
  },
  {
   "cell_type": "code",
   "execution_count": 33,
   "metadata": {},
   "outputs": [],
   "source": [
    "!nbdime config-git --enable"
   ]
  },
  {
   "cell_type": "markdown",
   "metadata": {},
   "source": [
    "## Exercice 1"
   ]
  },
  {
   "cell_type": "markdown",
   "metadata": {},
   "source": [
    "1. Trouver une chaîne de caractères (contenant vos noms et prénoms) dont le hash SHA256 se termine par le plus de zéros possible (en hexadécimal).\n",
    "\n",
    "2. Mesurer le temps moyen pour obtenir n et n+1 zéros en fin de chaîne (n = 5) et calculer le rapport Tn+1/Tn."
   ]
  },
  {
   "cell_type": "markdown",
   "metadata": {},
   "source": [
    "### Partie 1"
   ]
  },
  {
   "cell_type": "markdown",
   "metadata": {},
   "source": [
    "Nous allons faire une fonction permettant de trouver une combinaison du chiffrage de la phrase avec l'algorithme sha256 qui finit avec un nombre finit de 0"
   ]
  },
  {
   "cell_type": "code",
   "execution_count": 8,
   "metadata": {},
   "outputs": [],
   "source": [
    "def trouver_chaine(base, zeros_cibles):\n",
    "        compteur = 0\n",
    "        while True:\n",
    "            chaine_test = base + str(compteur)\n",
    "            hash_resultat = sha256_hash(chaine_test)\n",
    "            if hash_resultat.endswith('0' * zeros_cibles):\n",
    "                return chaine_test, compteur, hash_resultat\n",
    "            compteur += 1\n",
    "\n",
    "def sha256_hash(chaine):\n",
    "        return hashlib.sha256(chaine.encode()).hexdigest()"
   ]
  },
  {
   "cell_type": "code",
   "execution_count": 46,
   "metadata": {},
   "outputs": [
    {
     "name": "stdout",
     "output_type": "stream",
     "text": [
      "chaine_trouvée: Serano_Henri__Sara_Thibierge__Eloi_Seidlitz_DIA6a162278\n",
      "Nonce trouvé: 162278\n",
      "Hash correspondant: 9a08ff6abdfc740cc320f0feced49520aea2a3999c15a52b1a42ffa49f300000\n"
     ]
    }
   ],
   "source": [
    "def trouver_hash_avec_zeros(texte, nombre_zeros):\n",
    "    nonce = 0\n",
    "    zeros_cibles = '0' * nombre_zeros\n",
    "    while True:\n",
    "        texte_nonce = f\"{texte}{nonce}\"\n",
    "        hash_result = hashlib.sha256(texte_nonce.encode()).hexdigest()\n",
    "        if hash_result.endswith(zeros_cibles):\n",
    "            return texte_nonce, nonce, hash_result\n",
    "        nonce += 1\n",
    "\n",
    "texte = \"Serano_Henri__Sara_Thibierge__Eloi_Seidlitz_DIA6a\"\n",
    "nombre_zeros = 4\n",
    "\n",
    "texte_nonce, nonce_trouve, hash_resultat = trouver_hash_avec_zeros(texte, nombre_zeros)\n",
    "print(f\"chaine_trouvée: {texte_nonce}\")\n",
    "print(f\"Nonce trouvé: {nonce_trouve}\")\n",
    "print(f\"Hash correspondant: {hash_resultat}\")"
   ]
  },
  {
   "cell_type": "markdown",
   "metadata": {},
   "source": [
    "Cette fonction permet d'executer la fonction et de trouver les différentes statistique en lien avec ce cryptage"
   ]
  },
  {
   "cell_type": "markdown",
   "metadata": {},
   "source": [
    "### Partie 2"
   ]
  },
  {
   "cell_type": "code",
   "execution_count": 50,
   "metadata": {},
   "outputs": [
    {
     "name": "stdout",
     "output_type": "stream",
     "text": [
      "|                Chaine de caractère                |      Temps (n)    \t | nonce pour n zéros\t|     Temps (n+1)\t| nonce pour n+1 zéros\t|\n",
      "|\t\t\t\t\t\t    |\t\t\t\t | \t\t\t|\t\t\t| \t\t\t|\n",
      "| Serano_Henri__Sara_Thibierge__Eloi_Seidlitz_DIA6a | 0.402634859085083    \t | 162278   \t\t| 0.36391687393188477\t| 162278   \t\t| \n",
      "| Serano_Henri__Sara_Thibierge__Eloi_Seidlitz_DIA6b | 0.7915651798248291    \t | 350066   \t\t| 7.1882240772247314\t| 2722191   \t\t| \n",
      "| Serano_Henri__Sara_Thibierge__Eloi_Seidlitz_DIA6c | 0.185302734375    \t | 86137   \t\t| 1.9304389953613281\t| 827772   \t\t| \n",
      "| Serano_Henri__Sara_Thibierge__Eloi_Seidlitz_DIA6d | 0.13721013069152832    \t | 61749   \t\t| 0.42972397804260254\t| 193292   \t\t| \n",
      "| Serano_Henri__Sara_Thibierge__Eloi_Seidlitz_DIA6e | 0.010272026062011719    \t | 4623   \t\t| 1.476850986480713\t| 664677   \t\t| \n"
     ]
    },
    {
     "data": {
      "text/plain": [
       "{'nombre_n_de_zeros': 4,\n",
       " 'temps_moyen_n': 0.30539698600769044,\n",
       " 'temps_moyen_n+1': 2.277830982208252,\n",
       " 'rapport_temps': 7.458590249973495}"
      ]
     },
     "execution_count": 50,
     "metadata": {},
     "output_type": "execute_result"
    }
   ],
   "source": [
    "def trouver_chaine_et_stats(base, zeros_cibles, iterations_stat=30):\n",
    "\n",
    "    temps_n = []\n",
    "    temps_n_plus_1 = []\n",
    "    print(\"|                Chaine de caractère                |      Temps (n)    \\t | nonce pour n zéros\\t|     Temps (n+1)\\t| nonce pour n+1 zéros\\t|\")\n",
    "    print(\"|\\t\\t\\t\\t\\t\\t    |\\t\\t\\t\\t | \\t\\t\\t|\\t\\t\\t| \\t\\t\\t|\")\n",
    "\n",
    "    for i in range(iterations_stat):\n",
    "        start = time.time()\n",
    "        texte_nonce_n, nonce_trouve_n, hash_resultat_n = trouver_hash_avec_zeros(base+chr(97+i), zeros_cibles)\n",
    "        stop = time.time()\n",
    "        temps_n.append(stop - start)\n",
    "\n",
    "        start = time.time()\n",
    "        texte_nonce_n_plus_1, nonce_trouve_n_plus_1, hash_resultat_n_plus_1 = trouver_hash_avec_zeros(base+chr(97+i), zeros_cibles + 1)\n",
    "        stop = time.time()\n",
    "        temps_n_plus_1.append(stop - start)\n",
    "        print(f\"| {base+chr(97+i)} | {temps_n[-1]}    \\t | {nonce_trouve_n}   \\t\\t| {temps_n_plus_1[-1]}\\t| {nonce_trouve_n_plus_1}   \\t\\t| \")\n",
    "\n",
    "    temps_moyen_n = sum(temps_n) / len(temps_n)\n",
    "    temps_moyen_n_plus_1 = sum(temps_n_plus_1) / len(temps_n_plus_1)\n",
    "\n",
    "    rapport_temps = temps_moyen_n_plus_1 / temps_moyen_n\n",
    "\n",
    "    return {\n",
    "        \"nombre_n_de_zeros\": zeros_cibles,\n",
    "        \"temps_moyen_n\": temps_moyen_n,\n",
    "        \"temps_moyen_n+1\": temps_moyen_n_plus_1,\n",
    "        \"rapport_temps\": rapport_temps\n",
    "    }\n",
    "\n",
    "\n",
    "base_chaine = \"Serano_Henri__Sara_Thibierge__Eloi_Seidlitz_DIA6\"\n",
    "zeros_cibles = 4 # Nombre de zéros à la fin du hash\n",
    "resultats = trouver_chaine_et_stats(base_chaine, zeros_cibles)\n",
    "resultats\n"
   ]
  },
  {
   "cell_type": "markdown",
   "metadata": {},
   "source": [
    "## Exercice 2"
   ]
  },
  {
   "cell_type": "markdown",
   "metadata": {},
   "source": [
    "1. Creation of a function that will create a number with a chosen lenth (ex: 6 to 9) and ramdom digits using only the ones given (ex: 1, 2, 3, 4, 5, 6, 7, 8, 9)"
   ]
  },
  {
   "cell_type": "code",
   "execution_count": 74,
   "metadata": {},
   "outputs": [],
   "source": [
    "def generate_selected_digit_number(length,selected_digit):\n",
    "    return int(''.join(secrets.choice(selected_digit) for _ in range(length)))"
   ]
  },
  {
   "cell_type": "markdown",
   "metadata": {},
   "source": [
    "2. Creation of the password and the initial vector"
   ]
  },
  {
   "cell_type": "code",
   "execution_count": 75,
   "metadata": {},
   "outputs": [],
   "source": [
    "non_zero = \"123456789\"\n",
    "password = generate_selected_digit_number(random.randint(6, 9),non_zero)\n",
    "iv = generate_selected_digit_number(random.randint(6, 9),non_zero)"
   ]
  },
  {
   "cell_type": "markdown",
   "metadata": {},
   "source": [
    "3. get the integer N"
   ]
  },
  {
   "cell_type": "code",
   "execution_count": 76,
   "metadata": {},
   "outputs": [],
   "source": [
    "N = int(str(password) + \"0000\" + str(iv))"
   ]
  },
  {
   "cell_type": "code",
   "execution_count": 113,
   "metadata": {},
   "outputs": [],
   "source": [
    "# print(f\"Password:\\t{password}\")\n",
    "# print(f\"IV:\\t\\t{iv}\")\n",
    "# print(f\"N:\\t\\t{N}\")"
   ]
  },
  {
   "cell_type": "markdown",
   "metadata": {},
   "source": [
    "4. Now lets encrypt our text with AES 256 CTR PBKDF2 using our keys\n",
    "\n",
    "Keep in mind that we remplaced our N and iv by there name to avoid you to see there value"
   ]
  },
  {
   "cell_type": "code",
   "execution_count": 116,
   "metadata": {
    "vscode": {
     "languageId": "shellscript"
    }
   },
   "outputs": [
    {
     "name": "stdout",
     "output_type": "stream",
     "text": [
      "hex string is too short, padding with zero bytes to length\n",
      "non-hex digit\n",
      "invalid hex iv value\n"
     ]
    }
   ],
   "source": [
    "!openssl enc -aes-256-ctr -pbkdf2 -in text_to_encrypt.txt -out ES_HS_ST.enc -pass pass:N -iv iv\n",
    "# !openssl enc -d -aes-256-ctr -pbkdf2 -in ES_HS_ST.enc -out text_to_encrypt2.txt -pass pass:N -iv iv"
   ]
  },
  {
   "cell_type": "code",
   "execution_count": 108,
   "metadata": {},
   "outputs": [
    {
     "name": "stdout",
     "output_type": "stream",
     "text": [
      "Clé publique B de Eloi, Henri et Sara: \t7928524311388737963568910\n",
      "Chiffrement C de lentier N: \t\t6207001348060844298451324\n"
     ]
    }
   ],
   "source": [
    "# Le nombre premier p :                                      \n",
    "p = 7946851324679854613245823 \n",
    "# Le « générateur » d’un groupe d’ordre élevé : \n",
    "g = 5 \n",
    "# Clé publique A de Herbert Groscot:                                         \n",
    "A = 7579501795988122393422986\n",
    "\n",
    "b = random.SystemRandom().randint(2, p-2)\n",
    "\n",
    "# Calcul de B et C pour ElGamal\n",
    "B = pow(g, b, p)\n",
    "K = pow(A, b, p)  \n",
    "C = (K * N) % p  \n",
    "\n",
    "print(f\"Clé publique B de Eloi, Henri et Sara: \\t{B}\")\n",
    "print(f\"Chiffrement C de lentier N: \\t\\t{C}\")"
   ]
  },
  {
   "cell_type": "markdown",
   "metadata": {},
   "source": [
    "## Exercice 3"
   ]
  },
  {
   "cell_type": "markdown",
   "metadata": {},
   "source": [
    "* Démonstration de la signature ElGamal ou RSA (avec des nombres différents de ceux du cours).\n",
    "* Exemple d'utilisation du RSA, Diffie-Hellman, ElGamal ou de la signature ElGamal dans Python ou openssl (contexte réel)."
   ]
  },
  {
   "cell_type": "markdown",
   "metadata": {},
   "source": [
    "#### 1. Démonstration de la signature ElGamal ou RSA (avec des nombres différents de ceux du cours)."
   ]
  },
  {
   "cell_type": "code",
   "execution_count": 24,
   "metadata": {},
   "outputs": [
    {
     "name": "stdout",
     "output_type": "stream",
     "text": [
      "Signature valide : True\n"
     ]
    }
   ],
   "source": [
    "# Fonction pour calculer l'inverse modulo\n",
    "def inverse_modulo(a, m):\n",
    "    m0, x0, x1 = m, 0, 1\n",
    "    while a > 1:\n",
    "        q = a // m\n",
    "        m, a = a % m, m\n",
    "        x0, x1 = x1 - q * x0, x0\n",
    "    return x1 + m0 if x1 < 0 else x1\n",
    "\n",
    "# Fonction pour calculer la signature\n",
    "def sign_elgamal(m, x, p, g):\n",
    "    # Sélection d'un nombre aléatoire k\n",
    "    k = random.randint(2, p - 2)\n",
    "    while pow(k, -1, p - 1) == 0:  # Assure que k est premier avec p-1\n",
    "        k = random.randint(2, p - 2)\n",
    "    r = pow(g, k, p)\n",
    "    k_inv = inverse_modulo(k, p - 1)\n",
    "    s = (m - x * r) * k_inv % (p - 1)\n",
    "    return r, s\n",
    "\n",
    "# Fonction pour vérifier la signature\n",
    "def verify_elgamal(m, r, s, y, p, g):\n",
    "    v1 = pow(g, m, p)\n",
    "    v2 = (pow(y, r, p) * pow(r, s, p)) % p\n",
    "    return v1 == v2\n",
    "\n",
    "# Paramètres ElGamal\n",
    "p = 257\n",
    "g = 3\n",
    "x = 97\n",
    "\n",
    "# Clé publique\n",
    "y = pow(g, x, p)\n",
    "\n",
    "# Message à signer\n",
    "m = 123\n",
    "\n",
    "# Signature\n",
    "r, s = sign_elgamal(m, x, p, g)\n",
    "\n",
    "# Vérification de la signature\n",
    "valid = verify_elgamal(m, r, s, y, p, g)\n",
    "\n",
    "print(\"Signature valide :\", valid)\n"
   ]
  },
  {
   "cell_type": "markdown",
   "metadata": {},
   "source": [
    "#### 2. Exemple d'utilisation du RSA, Diffie-Hellman, ElGamal ou de la signature ElGamal dans Python ou openssl (contexte réel)."
   ]
  },
  {
   "cell_type": "markdown",
   "metadata": {},
   "source": [
    "Supposons que nous ayons un fichier texte appelé \"format.txt\" contenant le message à signer.\n"
   ]
  },
  {
   "cell_type": "markdown",
   "metadata": {},
   "source": [
    "\n",
    "**a) Génération des clés RSA :**\n",
    "Tout d'abord, nous devons générer une paire de clés RSA privée/publique à l'aide d'OpenSSL."
   ]
  },
  {
   "cell_type": "code",
   "execution_count": 25,
   "metadata": {
    "vscode": {
     "languageId": "shellscript"
    }
   },
   "outputs": [
    {
     "name": "stdout",
     "output_type": "stream",
     "text": [
      "....+...+..+++++++++++++++++++++++++++++++++++++++*.+.............+.........+.....+..........+..+...+.......+.....+++++++++++++++++++++++++++++++++++++++*..+.........+......+..........+.....+............+...+...................+...+......+...........+...+............+.+........+......+......+.......+..+.+...+.........+...+..+...+....+.........+.....+....+...+..+.+..+...+......+.+.................+............+...+.......+...+...+..............+....+..+.......+..+....++++++\n",
      "........+.......+..............+......+++++++++++++++++++++++++++++++++++++++*..+..................+....+...+...+...+.....+.+......+.........+......+.....+.........+.+..+.............+........+.......+..+...+.............+.....+....+......+......+.....+.+..+++++++++++++++++++++++++++++++++++++++*........++++++\n"
     ]
    },
    {
     "name": "stdout",
     "output_type": "stream",
     "text": [
      "writing RSA key\n"
     ]
    }
   ],
   "source": [
    "!openssl genpkey -algorithm RSA -out private_key.pem\n",
    "!openssl rsa -pubout -in private_key.pem -out public_key.pem"
   ]
  },
  {
   "cell_type": "markdown",
   "metadata": {},
   "source": [
    "Ces commandes génèrent une clé privée private_key.pem et une clé publique correspondante `public_key.pem`.\n"
   ]
  },
  {
   "cell_type": "markdown",
   "metadata": {},
   "source": [
    "\n",
    "**b) Signature du message :**\n",
    "\n",
    "Ensuite, nous signons le message avec notre clé privée."
   ]
  },
  {
   "cell_type": "code",
   "execution_count": 26,
   "metadata": {
    "vscode": {
     "languageId": "shellscript"
    }
   },
   "outputs": [],
   "source": [
    "!openssl dgst -sha256 -sign private_key.pem -out signature.bin format.txt"
   ]
  },
  {
   "cell_type": "markdown",
   "metadata": {},
   "source": [
    "Cela crée une signature du message dans le fichier signature.bin.\n"
   ]
  },
  {
   "cell_type": "markdown",
   "metadata": {},
   "source": [
    "**c) Vérification de la signature :**\n",
    "\n",
    "Pour vérifier la signature avec la clé publique correspondante, nous utilisons :"
   ]
  },
  {
   "cell_type": "code",
   "execution_count": 27,
   "metadata": {
    "vscode": {
     "languageId": "shellscript"
    }
   },
   "outputs": [
    {
     "name": "stdout",
     "output_type": "stream",
     "text": [
      "Verified OK\n"
     ]
    }
   ],
   "source": [
    "!openssl dgst -sha256 -verify public_key.pem -signature signature.bin format.txt"
   ]
  },
  {
   "cell_type": "markdown",
   "metadata": {},
   "source": [
    "Si la vérification réussit, OpenSSL affichera \"Verified OK\".\n"
   ]
  }
 ],
 "metadata": {
  "kernelspec": {
   "display_name": "Python 3",
   "language": "python",
   "name": "python3"
  },
  "language_info": {
   "codemirror_mode": {
    "name": "ipython",
    "version": 3
   },
   "file_extension": ".py",
   "mimetype": "text/x-python",
   "name": "python",
   "nbconvert_exporter": "python",
   "pygments_lexer": "ipython3",
   "version": "3.10.11"
  }
 },
 "nbformat": 4,
 "nbformat_minor": 2
}
