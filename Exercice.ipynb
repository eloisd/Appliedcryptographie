{
 "cells": [
  {
   "cell_type": "markdown",
   "metadata": {},
   "source": [
    "Code pour projet crypto\n",
    "\n",
    "Import des librairies"
   ]
  },
  {
   "cell_type": "code",
   "execution_count": 1,
   "metadata": {},
   "outputs": [],
   "source": [
    "import hashlib\n",
    "import random \n",
    "import gmpy2 as gm\n",
    "import math\n",
    "import time\n",
    "import base64\n",
    "import os, binascii\n",
    "from backports.pbkdf2 import pbkdf2_hmac\n",
    "import pyaes, pbkdf2, secrets\n"
   ]
  },
  {
   "cell_type": "markdown",
   "metadata": {},
   "source": [
    "## Exercice 1"
   ]
  },
  {
   "cell_type": "markdown",
   "metadata": {},
   "source": [
    "### Partie 1"
   ]
  },
  {
   "cell_type": "code",
   "execution_count": 2,
   "metadata": {},
   "outputs": [
    {
     "data": {
      "text/plain": [
       "{'chaine_trouvee': 'Serano_Henri__Sara_Thibierge__Eloi_Seidlitz_DIA677031',\n",
       " 'hash_trouve': '31e6f8e6377ad1c9895ef7c22b0ef9a252c0f0ec9d062178c58b416bcb470000',\n",
       " 'compteur_trouve': 77031,\n",
       " 'temps_moyen_n': 0.1403665065765381,\n",
       " 'temps_moyen_n_plus_1': 0.42521376609802247,\n",
       " 'rapport_temps': 3.029310741349574}"
      ]
     },
     "execution_count": 2,
     "metadata": {},
     "output_type": "execute_result"
    }
   ],
   "source": [
    "\n",
    "def trouver_chaine(base, zeros_cibles):\n",
    "        compteur = 0\n",
    "        while True:\n",
    "            chaine_test = base + str(compteur)\n",
    "            hash_resultat = sha256_hash(chaine_test)\n",
    "            if hash_resultat.endswith('0' * zeros_cibles):\n",
    "                return chaine_test, compteur, hash_resultat\n",
    "            compteur += 1\n",
    "\n",
    "def sha256_hash(chaine):\n",
    "        return hashlib.sha256(chaine.encode()).hexdigest()\n",
    "        \n",
    "def trouver_chaine_et_stats(base, zeros_cibles, iterations_stat=5):\n",
    "    \n",
    "\n",
    "    # Première partie : Trouver la chaîne\n",
    "    chaine_trouvee, compteur_trouve, hash_trouve = trouver_chaine(base, zeros_cibles)\n",
    "\n",
    "    # Deuxième partie : Statistiques de temps\n",
    "    temps_n = []\n",
    "    temps_n_plus_1 = []\n",
    "    \n",
    "    for _ in range(iterations_stat):\n",
    "        debut = time.time()\n",
    "        trouver_chaine(base, zeros_cibles)\n",
    "        fin = time.time()\n",
    "        temps_n.append(fin - debut)\n",
    "\n",
    "        debut = time.time()\n",
    "        trouver_chaine(base, zeros_cibles + 1)\n",
    "        fin = time.time()\n",
    "        temps_n_plus_1.append(fin - debut)\n",
    "\n",
    "    temps_moyen_n = sum(temps_n) / len(temps_n)\n",
    "    temps_moyen_n_plus_1 = sum(temps_n_plus_1) / len(temps_n_plus_1)\n",
    "\n",
    "    rapport_temps = temps_moyen_n_plus_1 / temps_moyen_n\n",
    "\n",
    "    return {\n",
    "        \"chaine_trouvee\": chaine_trouvee,\n",
    "        \"hash_trouve\": hash_trouve,\n",
    "        \"compteur_trouve\": compteur_trouve,\n",
    "        \"temps_moyen_n\": temps_moyen_n,\n",
    "        \"temps_moyen_n_plus_1\": temps_moyen_n_plus_1,\n",
    "        \"rapport_temps\": rapport_temps\n",
    "    }\n",
    "\n",
    "\n",
    "base_chaine = \"Serano_Henri__Sara_Thibierge__Eloi_Seidlitz_DIA6\"\n",
    "zeros_cibles = 4 # Nombre de zéros à la fin du hash\n",
    "resultats = trouver_chaine_et_stats(base_chaine, zeros_cibles)\n",
    "resultats\n"
   ]
  },
  {
   "cell_type": "markdown",
   "metadata": {},
   "source": [
    "## Exercice 2"
   ]
  },
  {
   "cell_type": "code",
   "execution_count": 3,
   "metadata": {},
   "outputs": [
    {
     "data": {
      "text/plain": [
       "\"Le marché des sneakers en France a connu une croissance exponentielle au cours des dernières années, devenant un phénomène de mode et un investissement lucratif pour de nombreux amateurs et professionnels. \\nCe texte explore les multiples faceteurs qui sous-tendent le commerce de sneakers dans l'Hexagone, en mettant en lumière ses dynamiques économiques, culturelles et sociales.\\nD'un point de vue économique, le commerce de sneakers en France est stimulé par une demande croissante pour des modèles rares et exclusifs. \\nLes éditions limitées et les collaborations entre marques de renom et designers célèbres créent une urgence d'achat, poussant les prix sur le marché secondaire à atteindre des sommets vertigineux. \\nCette situation a engendré l'émergence d'une véritable économie parallèle, où les sneakers sont non seulement des objets de mode, mais également des actifs spéculatifs.\\n\\nSur le plan culturel, les sneakers occupent une place prépondérante dans l'univers de la mode et de la street culture française. \\nElles transcendent leur simple fonctionnalité pour devenir des symboles d'appartenance à des groupes sociaux spécifiques, des marqueurs d'identité et des oeuvres d'art portable. \\nLes lancements de nouveaux modèles sont désormais des événements médiatiques majeurs, attirant l'attention de millions de passionnés à travers le pays.\\n\\nSocialement, le commerce de sneakers en France reflète les changements dans les comportements de consommation. \\nLa montée en puissance des réseaux sociaux a permis aux consommateurs de partager leur passion, d'échanger des conseils sur les dernières tendances et de se tenir informés des sorties à venir. \\nDe plus, le phénomène de revente a favorisé l'entrepreneuriat chez les jeunes, nombreux étant ceux qui ont saisi cette opportunité pour lancer leur propre business de revente de sneakers.\\n\\nEn conclusion, le commerce de sneakers en France est un miroir des tendances actuelles en matière de mode, d'économie et de culture. \\nIl illustre parfaitement comment un produit peut transcender sa fonction première pour devenir un véritable phénomène social, englobant une multitude de dimensions. \\nCe marché dynamique et en constante évolution continuera sans doute d'attirer de nouveaux adeptes, tout en défiant les conventions et en repoussant les limites de la mode et du commerce.\""
      ]
     },
     "execution_count": 3,
     "metadata": {},
     "output_type": "execute_result"
    }
   ],
   "source": [
    "with open(\"format.txt\", \"r\",encoding=\"utf-8\") as file:\n",
    "    text = str(file.read())\n",
    "text"
   ]
  },
  {
   "cell_type": "code",
   "execution_count": 4,
   "metadata": {},
   "outputs": [],
   "source": [
    "password = \"123456789\"\n",
    "passwordSalt = os.urandom(16)\n",
    "key = pbkdf2.PBKDF2(password, passwordSalt).read(32)\n",
    "iv = secrets.randbits(256)\n",
    "#On est obliger de recrée un mot de pass unique pour chiffrer le texte\n",
    "aes = pyaes.AESModeOfOperationCTR(key, pyaes.Counter(iv))\n",
    "ciphertext = aes.encrypt(text)"
   ]
  },
  {
   "cell_type": "code",
   "execution_count": 5,
   "metadata": {},
   "outputs": [
    {
     "name": "stdout",
     "output_type": "stream",
     "text": [
      "b'&\\x96jO\\x17k\\rvG\\xabA_H\\x99\\xf0%v\\x8cQ\\xd5\\xea\\x17\\x15\\xe9\\xec\\xcf\\xf3\\xa5\\x17\\xc0.\\x17(\\xde\\xd09\\xd0\\x13\\xf4\\x1f\\xa83j\\x7f\\xa2=\\x81\\x91\\xd5JA\\xc1\\xbd}kw:j\\xee\\x8d\\x15\\x99\\x82\\x1e\\xf4\\xe4\\xa9\\x0f\\x0f\\xb2\\xf57\\xae\\xf9I(\\x1d\\xad8\\x9ce\\xd8\\'V\\x84\\x1d\\xe0:\\xb7\\xa5\\x10\\xda\\xc4\\xb8\\xff_xN*\\xf4\\xdd\\xc7\\x1dC\\x12\\xdc\\x9b\\x98<\\xbdm\\xec\\xa2$wl\\xee\\x8fC\\xe2O:\\xdaQ\\xe2\\xf6\\x9f\\x91\\xe1\\xec\\x08\\x97\\x8b?\\xef\\xae\\x8b\\x8a\\x97F\\xaf\\xfd\\xda\\x9f\\xdf\\x03\\x0b\\xc7\\xc2\\x10\\xcc2-\\x1a\\x8d\\xd1\\x06\\x12h\\x8d=(>\\xdb\\xb4SO\\xefv~{\\xb80\\xdewN\\r\\xaf\\xebC\\x8e\\xb4t\\xc8\\xc2\\xc1\\xa4sl<4\\x95\\xde[;b\\x9e\\x05\\xd6H\\x85r\\xd2\\xc7B\\xd9\\xec4\\xa6\\x11\\xfa~\\xce\\x15\\x89\\xd4U\\x0eJw\\x0c$\\xf0\\xd2\\x0c\\xa9\\x1b\\xfb3\\xc4\\x1b\\xa9\\xa2\\xda\\xc9c#^\\xd9\\x0f\\xcf\\xad\\xab1\\xf8\\xbf8\\x86\\xc7_X\\x90\\xdfc\\xf5\\xac\\xe5\\x99\\x86`G\\xe2xL3\\x9c\\x9b\\x96\\xb0\\xff\\xb5\\xed\\xc8\\xae+q\\xd1\\xc2\\xd1\\xd86\\x9e8\\xc0\\xc3\\x1bK\\x92\\xb0\\xa5o@\\x0c\\x9ef\\x91\\xc0k\\x17>\\x8e\\xfd\\xcf#\\xfc\\xb4.f\\x9b\\x99\\x0b\\x08\\x914\\x96:\\x04\\xf8\\xeb\\x14R\\xe9\\x16\\x17\\xedO\\x88\\x97\\xcet\\x11\\xdbv\\xaf;B\\xce@(\\xafqy\"\\xebJ\\xc06\\xa2\\x0fq\\xad\\xb0\\xd7\\x14\\xf5\\xfd\\x95\\xc3\\xce\\xd6\\x8a5\\xfb\\xad\\xc6q/\\xa9\\xd18O\\x1e\\x03\\xadX/=}#A\\xe4\\xb5\\xc9\\x94\\x17\\xcb\\xaay.\\xf1\\xc7\\x13\\xb2\\x00U\\xee\\x11\\x93\\xa3\\xb4\\x80\\x8c\\x1bs8\\x08\\x99\\xb4\\x04\\xeb\\xbf\\xe4\\xf4!\\xe2\\xacw\\x087v\\xa4\\x9b\\xb0\\xc7C\\x0e~6Z\\xbaVW4\\x98\\x19\\xa1a\\x01\\xa9\\xd6Gy#X\\xeb\\xf1\\xc6\\xaeDjD\\xd2\\x00w\\x0e\\r6\\xc4\\xdf\\x07+-\\xe0\\x0c\\xabB\\x06\\xe8~\\'\\xc0\\xee1\\xcah\\xc3\\xbf\\x85\\xe1\\xa8\\xf29e3\\x19\\x04$\\xc8d\\x8d\\x9a\\x00\\x10h\\xf3S\\xf8\\x02#=\\r\\xe1{\\x1c\\xd9x\\x06Z\\xcb\\x05\\xf43\\\\\\xab\\xb5\\xa0\\x1d9\\xb1\\xcf\\x99\\xa8M\\x10\\xe6[\\x00:U\\xc5\\x92\\xc1l\\xe9zd+\\xd6\\x93\\xe0S\\xc9N\\xf4=\\xff\\xc4\\xc5\\xf9\\x0fs\\xe1\\xcc\\xbd\\x193\"$\\x99y-F \\xd1:\\xb2+\\xb1T\\x01v,\\x1cQM\\x9a\\xac\\xbfj\\x9dn\\xa7\\x9fG\\xb8\\x1d#\\\\p[\\xd1\\xa0PG\\xf2\\xa9\\x95\\xfd\\x1f\\x95\\xf9(P\\x06\\x0b\\xd9\\xd6\\x00u\\xb9\\xecg\\x14%\\xa0\\xa3}\\x07\\xba5\\x17\\xdf\\x8a:\\xbc\\xb9\\xa8\\x1c\\x01\\x1f~\\xdc\\xee\\xfa\\x99|\\xfd\\xb0>f\\x8a\\xf0t\\'\\xa5\\xabt\"^\\x14\\x0e.%\\xaa\\xfb\\xc4W\\x039\\x9a(\\xfc\\xb1I\\xeb$&\\xe2\\x96\\xb8\\x87\\x89\\xdfM\\xf8\\xca\\xc3>\\x87\\x98?\\x89\\x94oO\\x07\\x10X\\xc2\\xfb\\xe8\\xa1\\xed(\\xad\\x01\\x80j3\\xfa\\x13\\xbf\\x173\\xfe\\xa9\\xc3\\x8e\\n\\x8eh\\xfc\\xcc \\x06\\x904\\x0fr\\x9eCL\\xec\\x7f=\\xc37\\x15\\xf3\\x93\\xc4a\\x16\\xa1\\xde?_\\x10\\x05s\\xe5?s\\xc2\\x85\\xcd\\xb34{\\xf2\\xcf\\x85\\xbdn+\\xa9\\x04\\x16\\xb4\\'\\x17\\xfa\\x12\\xe2\\xa3\\\\y\\x08\\xa5\\xd4n\\x86\\x05\\xa5\\x1e\\xc1\\x8fH\\x0eq=js\\xdd\\xffU\\xf7qx09\\xd1+9\\xfa&p\\x8b\\xac\\xf0B\\x10\\x1e)\\x96WE\\x81\\x83L\\x80\\xea \\x85\\xdc\\xaf\\xaa\\xbf\\x14\\xc7\\x04\\x18\\xecw\\x06@\\xd2K\\x08\\x0b\\x82\\x0b\\xf3\\xa8\\xac\\xe3\\xbeK\\x10<\\x97X\\x87\\x03\\x06\\x08\\xe5\\x1a&o\\xa9\\xf5\\x8a\\x07\\xe4\\x0f\\x8c(\\xfd\\xd9\\xea\\xdb\\x0c\\xe6\\x9ez*\\t\\xfdXF\\xb3p\\xdb\\x97+\\x1d\\xfa\\x88EE\\xb2ED[\\xa8\\xc6\\xf7H\\x1b\\x8enR)\\x96\\xdcu\\xb6\\xd5\\xac\\x82\\xe9\\xd3y\\xbeD\\x94R.X\\x10\\xab\\xf1\\x111@d\\xb7[0\\xcbg\\re\\xfb\\xbc\\x11.\\xaf\\x81\\xa2\\xb4VaMeX\\xc5\\x01Fi\\xd0 \\xe6Q\\xbe\\xe6\\xf9\\n\\xb9\\x02\\xe1\\xdd<\\x87\\x81\\x16\\x12\\r \\xaa=a\\x1c=\\x89\\x9e\\xfc\\xb1pk\\xd5\\xcf\\xeb\\xf6\\xad\\xd0\\xde\\xa0cj`a\\x00\\x87\\x9c\\xd9N%.*\\xa9G\\xeb\\x06)\\x0en\\xbb\\xc0\\xd4\\x0b\\xdf|\\xd6\\xbc\\'\\xd3k\\x87\\xc3U\\xd7\\xbc.BM6\\\\\\x9c)v\\x03\\x9e\\xed\\xafL/\\xdbh\\x0f,x\\x15\\xa4\\xb6\\xd5\\xa3\\x04\\xe0c\"j\\xe3\\xb1LP\\xd4\\xae\\xf1S\\x04\\xec\\x06u\\x16\\x87B\\xba\\xac\\x7f\\x15\\x16\\xe8\\x12\\xf3e\\xa6lp\\x0b\\xdaMaw\\x15hE\\x03\\xcc\\n>\\xda|\\x12\\x9c\\xe9\\x04G\\xb8,\\xfc\\x8f~0\\xb9\\x06\\x8a%\\x9f$y\\xc2\\xdf;\\x7f\\x06\\xc0\\xe1Y\\xb2#\\xac\\xe57h\\xab\\xc7\\x00g\\x1c\\xf3\\x90D\\x05\\xbbX\\x83(\\x19\\xcf\\xc55\\x1d\\x96\\xb7\\x10?\\xe8\\xeb\\x9c_J\\xa2\\xe77s\\xb6\\xbc\\xf7dI\\xe02\\xfbbO\\xf6\\xf8\\xb4\\xd8X\\xd6\\xc1\\xb5\\x0c;\\xb8\\xab/\\x05\\xe3\\xd5\\x89\\n\\xf4\\xd9\\xd7\\x8a\\x10\\xc4\\xac\\xf4n\\xf9\\xc4\\xfc~\\x96}\\x1eG,\\x16\\xbf\\x9b\\xf3\\xd0\\xb4p7\\x15X/\\x0fQ\\x17V\\x00n\\x87\\xc6\\x89Z9y\\xfc\\xd8u@n\\xad\\x95\\xea\\xedZ2\\xf5\\x1f/\\xaeG^W\\xd3\\x86;\\xe6\\x80\\xa9\\xb6\\xbb\\x7f.\\xe5\\xd5~\\xdb$^\\x18\\xe6\\xc3\\xc0\\t\\xc4\\xdeb\\xfe\\xd3n\\x0b\\xaa+\\xf4j\\xdb\\xa8\\xe3T\\x1f\\x83\\xed\\xc9\\xb8\\x99\\xb2\\xads\\xa5\\xeb\\xd7\\x97a\\n\\xa3\\xe7\\x9a\\xb9\\xaef\\xb9\\x19\\xd70E\\x8c\\xba\\xc8\\x1f\\x99\\xa9\\xf2\\x05\\x11rB\\xf2\\xc9^\\xee\\xfbH\\xeb\\xcb\\xaf.}\\rw\\x83\\x08M\\xad\\xa7\\xb69\\xa9\\xa8\\x8eY\\xae\\x01\\x8b\\x15\\xdf\\xa4f\\xb3\\x87>\\xfe\\xde\\xcc*\\x98\\x85\\xb4d/U\\x96\\xc8\\xb3s\\x8c\\x1c\\x83\\xab@\\x1c\\xbeDL\\x804\\xb8l\\xacg\\xaac\\xb4%\\x8f\\xe9\\x94\\xc7k\\xdd.\\xf1\\xcf\\x05\\x9a\\x8d\\xc3o\\xae\\x87$\\xf1\\xac\\xc5\\x1aQ\\'\\xd3\\xf24{\\xf7\\xea\\xd9\\xd0yd\\xabe\\x8f]\\xd5l\\xe8\\xff\\x83\\t\\xd4\\xc9\\x96\\xfe!\\xcd\\xca\\x9bX\\xe3\\xed>\\xcawPe\\xd8O)\\xce\\x80\\x9b\\xdc\\x9e\\xce6[\\xcc\\x11\\x9b\\x0f_\\x15\\x96Q\\x90Bv\\xc1^\\xe9\\x7fq\\xce<Q\\xac\\x88\\x8e\\x1fe\\xbb!\\x83\\nl\\xab\\xe5%\\x80\\xb6\\xaa\\xa26\\xc1/0\\x1d\\x8fk\\x02\\x8a\\xc91;$\\xf8\\x13\\xaf\\xc8B\\x13\\xea;\\xcc\\x90\\xbe\\x11\\xe1\\xf4\\x95\\xf6\\x13\\xfeCLt\\x9d\\x83\\x8d\\xd30l\\xd4\\xa8\\xc2\\xaa\\x15\\xe17\\x87Qv\\xdb\\xdeW\\x17\\x079*\\xe4\\xbe\\x95\\xa7\"\\x08\\xdd-\\xc3\\xd9Cl\\x0ev\\x11\\xb7\\x8a\\xc3[\\xc0\\xfa\\x053\\xc0\\'\\xb5Qw\\xf4j\\xd6fH\\x85\\xbcDn\\xd4\\xe8\\xc8\\xf7u\\xa1\\xe3\\xc7\\xe9\\xe8\\xa0\\xae\\xfb\\xadx=U\\xefY\\xbd\\xa8U\\xa1\\xb2\\x87\\xf7le\\x92\\x8d.9\\xdc\\x10\\x14B\\x89\\xce\\xb7PWi6v\\xc7\\xc2f\\x1a\\xaa;#m\\x9d9O\\xd0\\'\\x81j\\xec\\x84\\xe9m\\xf4f\\x07\\xc3\\xcew\\x8d{\\xee\\x8d\\x95\\xd0\\x07\\xa1\\xb8\\xe3\\x1fm\\xfc\\x02\\xdaan\\xdbe\\x07N\\x9b\\xd2\\xf4{\\xce\\xf1\\x13m\\xe2J\\xfb\\xa5yX,\\xf0z\\x97\\xc5\\xdeE~\\x04\\xba90\\xaa\\x832\\x80\\xd9\\x84x\\xf3\\xeb\\xc1\\x08Q\\xa5$\\xa025\\xf1\\xe2\\x03a\\\\\\xf0}\\xe4\\xc1\\xed\\x9f\\xb7\\xd6\\xe9\\xd9a\\xfa\\xc7\\x17oy\\x91O\\x18\\x03M\\xec\\x85\\x0f\\xc9\\xd7\\x8f\\x0e=|\\x12\\xf2\\xbe\\r\\xd5m\\xe5%\\xe6\\x90\\xbd_\\x08l\\xf8usUyj\\xc6\\\\]\\xa96\\xb8\\xdd\\x0b\\x07r\\xbe`\\x88&\\xc1\\xa8\\xe2\\x17\\xe3\\xc3\\x1a\\n\\x06\\xfd\\xfc\\xbe`\\xb4\\xda\\xe4\\x8aQ\\x82\\rv\\xe3P\\xefJ\\xe9\\x08\\xc9\\xd2\\x0c\\x04C\\x97\\x80\\xde\\xe60A\\xd5\\xbf\\x03\\xda\\xf3%=\\xe3\\xb3\\xf2\\xdeu[\\x8a\\x89\\xa1\\x06\\x9d\\xeb\\xac\\xa6\\xa8\\xfc\\xd1*\\x95s>\\'k\\x9b\\'\\x7f\\x8d\\x97\\xac\\x90j//\\xfe[\\xd5\\xb83\\xe5S\\xcb\\xc0\\xe1\\xb4\\x06p\\x17\\xbd\\x9f\\x1b\\x19O\\xf6\\x8f\\x90l8T\\xb2P\\xfd`\\xb9\\xdb\\x8c\\x87iz!\\x06+\\xc0\\x8f\\xde-\\xb0\\xd9\\xc6\\x08K\\xfa\\xb2\\xe4\\x00\\xe1\\xd4\\xd0i\\x8a?.\\xb8\\n\\xe0\\x10\\xf8y\\xf5\\xbf\\xc3\\xee\\xcc\\x90\\x07\\xa8\\r\\x87\\x87Nx({\\x81pVY\\xb8\\xbao\\nz\\xacs\\xa1\\xae0J\\xd3\\xd8\\xff\\xf9\\x8a&\\xeaj&\\xa3\\xf0\\xee\\x89/?\\xb6\\xb4\\x8a\\xae\\x0e\\xaf\\xa4\\xc0\\xe4>\\x15\\xae9\\xcc3\\x7fo\\xf1$\\xff\\xf8\\xe9\\x94\\xde\\xe9\\xb5\\x0c\\x07\\xc5\\xef\\xfd\\x0f\\x88\\xb9h\\x8d\\xdd\\xb1\\x9d\\x9d\\x8c\\xda\\xbc\\x8elS\\x8a%4\\x86\\xa0\\x8c\\xbd\\x877\\xa9\\x92\\xb4\\'r\\xa9\\xab\\x02\\xd0j?\\x1e\\xd1\\x96\\x98\\xdd:\\xc6N7OG6\\x8e\\xfdD =P\\xa20t\\xa4\\x1c#[\\x8b\\xa1*;K\\x9f\\xa2E\\xaem\\xe0\\x04\\x19\\x0fs\\xaffNk\\x0c\\x85A\\x98\\x83\\x8a\\xc1b\\x84\\xc0v\\r\\xe0Q\\x14(3I.ipYsn\\x98\\n\\n\\x8f}\\xa0\\x1b\\xf1\\x83\\xb9\\x19\\xe5{e\\x89\\x9a-\\xe7Dfe\\xad \\x02\\xa4\\xbbx\\xee\\xc8\\x9c\\x0bu\\x9e>DV\\x1al\\x075[fo\\xd0\\xc7(^\\xb2!8\\x14\\x95c\\xaa\\xabz[#\\'\\xfd|\\xff!\\xf5\\xcf\\xc2\\xda\\xdd\\x9d\\x08\\xfbV\\xdf\\xa8\\xed\\xb6\\xce\\x15-\\x04K\\xdbUE@\\xee\\xea\\xe9\\xea\\x99+-\\x855\\x06\\xe6\\x84\\xda\\xe6\\xe8o\\x1e\\xa7\\xddP\\xf8\\x122\\xf6\\xfcJc<\\xf3\\r <\\xb2\\xbc\\x98w-\\x18\\x15Jrz\\xf2lN\\x11\\xdd\\xcc\\x86\\xc85\\xaa7\\x8d\\xd5y\\x96\\xf4\\xa3;\\xd0\\xc1\\x98J]\\x84*\\xccV\\xe6\\xd1\\xae~c\\xd9\\xe2\\xc8*%\\xf4\\xd4\\xf8\\xca\\x96+\\x9b0\\x16\\xad\\xd7\\xa0\\xfbW\\xd62\\x06\\x00|\\xf1\\xf6\\xc7\\xdb\\x89\\x8fN\\x97\\xe1ZG\\xe4\\xc7\\xae\\x98@`j\\xb1 \\x1eZ\\x86\\xa4\\x82\\xbf_{>\\xd1\\xad\\xc0\\xbf\\x0f\\x14\\x08\\xda\\xd5\\x97\\xf5lBr\\xd4\\xe2e+A\\x9c\\x13:\\x10K'\n"
     ]
    }
   ],
   "source": [
    "print(aes.decrypt(ciphertext))"
   ]
  },
  {
   "cell_type": "code",
   "execution_count": 6,
   "metadata": {},
   "outputs": [
    {
     "name": "stdout",
     "output_type": "stream",
     "text": [
      "<pyaes.aes.Counter object at 0x0000026D69CC71D0>\n",
      "b\"Le march\\xe9 des sneakers en France a connu une croissance exponentielle au cours des derni\\xe8res ann\\xe9es, devenant un ph\\xe9nom\\xe8ne de mode et un investissement lucratif pour de nombreux amateurs et professionnels. \\nCe texte explore les multiples faceteurs qui sous-tendent le commerce de sneakers dans l'Hexagone, en mettant en lumi\\xe8re ses dynamiques \\xe9conomiques, culturelles et sociales.\\nD'un point de vue \\xe9conomique, le commerce de sneakers en France est stimul\\xe9 par une demande croissante pour des mod\\xe8les rares et exclusifs. \\nLes \\xe9ditions limit\\xe9es et les collaborations entre marques de renom et designers c\\xe9l\\xe8bres cr\\xe9ent une urgence d'achat, poussant les prix sur le march\\xe9 secondaire \\xe0 atteindre des sommets vertigineux. \\nCette situation a engendr\\xe9 l'\\xe9mergence d'une v\\xe9ritable \\xe9conomie parall\\xe8le, o\\xf9 les sneakers sont non seulement des objets de mode, mais \\xe9galement des actifs sp\\xe9culatifs.\\n\\nSur le plan culturel, les sneakers occupent une place pr\\xe9pond\\xe9rante dans l'univers de la mode et de la street culture fran\\xe7aise. \\nElles transcendent leur simple fonctionnalit\\xe9 pour devenir des symboles d'appartenance \\xe0 des groupes sociaux sp\\xe9cifiques, des marqueurs d'identit\\xe9 et des oeuvres d'art portable. \\nLes lancements de nouveaux mod\\xe8les sont d\\xe9sormais des \\xe9v\\xe9nements m\\xe9diatiques majeurs, attirant l'attention de millions de passionn\\xe9s \\xe0 travers le pays.\\n\\nSocialement, le commerce de sneakers en France refl\\xe8te les changements dans les comportements de consommation. \\nLa mont\\xe9e en puissance des r\\xe9seaux sociaux a permis aux consommateurs de partager leur passion, d'\\xe9changer des conseils sur les derni\\xe8res tendances et de se tenir inform\\xe9s des sorties \\xe0 venir. \\nDe plus, le ph\\xe9nom\\xe8ne de revente a favoris\\xe9 l'entrepreneuriat chez les jeunes, nombreux \\xe9tant ceux qui ont saisi cette opportunit\\xe9 pour lancer leur propre business de revente de sneakers.\\n\\nEn conclusion, le commerce de sneakers en France est un miroir des tendances actuelles en mati\\xe8re de mode, d'\\xe9conomie et de culture. \\nIl illustre parfaitement comment un produit peut transcender sa fonction premi\\xe8re pour devenir un v\\xe9ritable ph\\xe9nom\\xe8ne social, englobant une multitude de dimensions. \\nCe march\\xe9 dynamique et en constante \\xe9volution continuera sans doute d'attirer de nouveaux adeptes, tout en d\\xe9fiant les conventions et en repoussant les limites de la mode et du commerce.\"\n"
     ]
    }
   ],
   "source": [
    "print(pyaes.Counter(iv))\n",
    "#Et du coup de le regénéré\n",
    "aes = pyaes.AESModeOfOperationCTR(key, pyaes.Counter(iv))\n",
    "print(aes.decrypt(ciphertext))"
   ]
  },
  {
   "cell_type": "code",
   "execution_count": 7,
   "metadata": {},
   "outputs": [
    {
     "data": {
      "text/plain": [
       "(387225946877039798412155, 5883019579684883513940408)"
      ]
     },
     "execution_count": 7,
     "metadata": {},
     "output_type": "execute_result"
    }
   ],
   "source": [
    "p = 7946851324679854613245823\n",
    "g = 5\n",
    "A = 7579501795988122393422986\n",
    "## Elle publie A\n",
    "password = \"35426517\"\n",
    "IV = \"756431\" \n",
    "N = int(password + \"0000\" + IV) \n",
    "\n",
    "b = 123456789  \n",
    "\n",
    "# Calcul de B et C pour ElGamal\n",
    "B = pow(g, b, p)\n",
    "K = pow(A, b, p)  # Clé secrète partagée\n",
    "C = (K * N) % p  # Chiffrement de N avec la clé secrète partagée\n",
    "\n",
    "B, C"
   ]
  },
  {
   "cell_type": "markdown",
   "metadata": {},
   "source": [
    "## Exercice 3"
   ]
  },
  {
   "cell_type": "markdown",
   "metadata": {},
   "source": [
    "#### 1. Démonstration de la signature ElGamal ou RSA (avec des nombres différents de ceux du cours)."
   ]
  },
  {
   "cell_type": "code",
   "execution_count": 8,
   "metadata": {},
   "outputs": [
    {
     "name": "stdout",
     "output_type": "stream",
     "text": [
      "Signature valide : True\n"
     ]
    }
   ],
   "source": [
    "# Fonction pour calculer l'inverse modulo\n",
    "def inverse_modulo(a, m):\n",
    "    m0, x0, x1 = m, 0, 1\n",
    "    while a > 1:\n",
    "        q = a // m\n",
    "        m, a = a % m, m\n",
    "        x0, x1 = x1 - q * x0, x0\n",
    "    return x1 + m0 if x1 < 0 else x1\n",
    "\n",
    "# Fonction pour calculer la signature\n",
    "def sign_elgamal(m, x, p, g):\n",
    "    import random\n",
    "    # Sélection d'un nombre aléatoire k\n",
    "    k = random.randint(2, p - 2)\n",
    "    while pow(k, -1, p - 1) == 0:  # Assure que k est premier avec p-1\n",
    "        k = random.randint(2, p - 2)\n",
    "    r = pow(g, k, p)\n",
    "    k_inv = inverse_modulo(k, p - 1)\n",
    "    s = (m - x * r) * k_inv % (p - 1)\n",
    "    return r, s\n",
    "\n",
    "# Fonction pour vérifier la signature\n",
    "def verify_elgamal(m, r, s, y, p, g):\n",
    "    v1 = pow(g, m, p)\n",
    "    v2 = (pow(y, r, p) * pow(r, s, p)) % p\n",
    "    return v1 == v2\n",
    "\n",
    "# Paramètres ElGamal\n",
    "p = 257\n",
    "g = 3\n",
    "x = 97\n",
    "\n",
    "# Clé publique\n",
    "y = pow(g, x, p)\n",
    "\n",
    "# Message à signer\n",
    "m = 123\n",
    "\n",
    "# Signature\n",
    "r, s = sign_elgamal(m, x, p, g)\n",
    "\n",
    "# Vérification de la signature\n",
    "valid = verify_elgamal(m, r, s, y, p, g)\n",
    "\n",
    "print(\"Signature valide :\", valid)\n"
   ]
  },
  {
   "cell_type": "markdown",
   "metadata": {},
   "source": [
    "#### 2. Exemple d'utilisation du RSA, Diffie-Hellman, ElGamal ou de la signature ElGamal dans Python ou openssl (contexte réel)."
   ]
  },
  {
   "cell_type": "markdown",
   "metadata": {},
   "source": [
    "Supposons que nous ayons un fichier texte appelé \"format.txt\" contenant le message à signer.\n"
   ]
  },
  {
   "cell_type": "markdown",
   "metadata": {},
   "source": [
    "\n",
    "**a) Génération des clés RSA :**\n",
    "Tout d'abord, nous devons générer une paire de clés RSA privée/publique à l'aide d'OpenSSL."
   ]
  },
  {
   "cell_type": "code",
   "execution_count": 10,
   "metadata": {
    "vscode": {
     "languageId": "shellscript"
    }
   },
   "outputs": [
    {
     "name": "stderr",
     "output_type": "stream",
     "text": [
      ".........+....+.....+...............+.+..+++++++++++++++++++++++++++++++++++++++*.....+...+......+.+........+.......+..............+....+..+.+..+.+......+...+......+..+...+.......+.....+.......+..+++++++++++++++++++++++++++++++++++++++*.+..+...................+......+........+......+.+........+...+....+......+.........+......+.....+...+....+...+.....+...+.......+........+....+............+...+..................+...+..+.......+..+.+...+.....+................+...+.....+......+.+...+..+................+...+..+....+........+.+.........+........+....+.....+...+.+...........................+.....+...+......+......+.......+......+......+.....+...+.+.........+........+...+......++++++\n",
      ".+...........+...+.+......+...+..+...+.......+......+.....+++++++++++++++++++++++++++++++++++++++*........+++++++++++++++++++++++++++++++++++++++*....+....+.....+.+............+..+......+......+.+..+...+....+......+.....+....+.........+..+...+......+....+..+...............+......................+..+...................+.....+......+...+..........+..+.+..............+..........+.........+..+....+......+..+.+..+.......+.....+.......+......+........+....+.....+......+.+...+...+........+......+...+.+.........+..+......+...+.......+..+.+.....+.......+...+..............+.+...........+...+...+.......+..+.+.....+.............+.................+.......+........+..........+..+......+......+....+.....+.+.....+...............+....+..+.......+..+.+...+......+.....+....+.....+.......+...+......+...+......+...........+................+.....+...+.......+.................+.+..+....+...+......+..+....+...+...+.....+....+........+.+...........+.+...+.....+.....................+......+..........+.....+............+.+.....+.+........+.......+..............+.+......+...+......+...+...+.....+....+.......................+.+..+.........+....+.....+..........+............+.................+.+.........+............+.....+....+.....+......+...+...+............+......+....+............+......+...+......+......+.....+...+.........+............+................+...+..............+...+...+.+...++++++\n",
      "writing RSA key\n"
     ]
    }
   ],
   "source": [
    "#copy paste in a terminal\n",
    "!openssl genpkey -algorithm RSA -out private_key.pem\n",
    "!openssl rsa -pubout -in private_key.pem -out public_key.pem"
   ]
  },
  {
   "cell_type": "markdown",
   "metadata": {},
   "source": [
    "Ces commandes génèrent une clé privée private_key.pem et une clé publique correspondante `public_key.pem`.\n"
   ]
  },
  {
   "cell_type": "markdown",
   "metadata": {},
   "source": [
    "\n",
    "**b) Signature du message :**\n",
    "\n",
    "Ensuite, nous signons le message avec notre clé privée."
   ]
  },
  {
   "cell_type": "code",
   "execution_count": 11,
   "metadata": {
    "vscode": {
     "languageId": "shellscript"
    }
   },
   "outputs": [],
   "source": [
    "#copy paste in a terminal\n",
    "!openssl dgst -sha256 -sign private_key.pem -out signature.bin format.txt"
   ]
  },
  {
   "cell_type": "markdown",
   "metadata": {},
   "source": [
    "Cela crée une signature du message dans le fichier signature.bin.\n"
   ]
  },
  {
   "cell_type": "markdown",
   "metadata": {},
   "source": [
    "**c) Vérification de la signature :**\n",
    "\n",
    "Pour vérifier la signature avec la clé publique correspondante, nous utilisons :"
   ]
  },
  {
   "cell_type": "code",
   "execution_count": 12,
   "metadata": {
    "vscode": {
     "languageId": "shellscript"
    }
   },
   "outputs": [
    {
     "name": "stdout",
     "output_type": "stream",
     "text": [
      "Verified OK\n"
     ]
    }
   ],
   "source": [
    "#copy paste in a terminal\n",
    "!openssl dgst -sha256 -verify public_key.pem -signature signature.bin format.txt"
   ]
  },
  {
   "cell_type": "markdown",
   "metadata": {},
   "source": [
    "Si la vérification réussit, OpenSSL affichera \"Verified OK\".\n"
   ]
  },
  {
   "cell_type": "markdown",
   "metadata": {},
   "source": [
    "Cet exemple montre comment utiliser OpenSSL pour générer une paire de clés RSA, signer un message avec la clé privée et vérifier la signature avec la clé publique. Vous pouvez répéter ces étapes dans un terminal pour expérimenter avec vos propres messages et clés."
   ]
  },
  {
   "cell_type": "code",
   "execution_count": 13,
   "metadata": {
    "vscode": {
     "languageId": "shellscript"
    }
   },
   "outputs": [
    {
     "name": "stderr",
     "output_type": "stream",
     "text": [
      ".....+++++++++++++++++++++++++++++++++++++++*.....+...+......+++++++++++++++++++++++++++++++++++++++*...+.+........+.......+..+.......+.........+.....+......+.+..+.+.........+.....+......+....+...........+......+....+.....+......+.........+.+......+.....+....+...+...+..............+.+.....+....+..................+...+........+......+...+...............+............+.+..+.......++++++\n",
      "......+...+...........+...+.+++++++++++++++++++++++++++++++++++++++*.+.+.................+..........+..............+.+..+...+.......+..+...+.+..+++++++++++++++++++++++++++++++++++++++*..+....+......+..+......+.......+..+...+...+...................+...............+..+.+............+........+...++++++\n"
     ]
    },
    {
     "name": "stderr",
     "output_type": "stream",
     "text": [
      "writing RSA key\n"
     ]
    },
    {
     "name": "stdout",
     "output_type": "stream",
     "text": [
      "Verified OK\n"
     ]
    }
   ],
   "source": [
    "!openssl genpkey -algorithm RSA -out private_key.pem\n",
    "!openssl rsa -pubout -in private_key.pem -out public_key.pem\n",
    "!openssl dgst -sha256 -sign private_key.pem -out signature.bin format.txt       \n",
    "!openssl dgst -sha256 -verify public_key.pem -signature signature.bin format.txt"
   ]
  }
 ],
 "metadata": {
  "kernelspec": {
   "display_name": "Python 3",
   "language": "python",
   "name": "python3"
  },
  "language_info": {
   "codemirror_mode": {
    "name": "ipython",
    "version": 3
   },
   "file_extension": ".py",
   "mimetype": "text/x-python",
   "name": "python",
   "nbconvert_exporter": "python",
   "pygments_lexer": "ipython3",
   "version": "3.11.1"
  }
 },
 "nbformat": 4,
 "nbformat_minor": 2
}
