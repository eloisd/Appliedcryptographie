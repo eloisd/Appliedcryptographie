{
 "cells": [
  {
   "cell_type": "markdown",
   "metadata": {},
   "source": [
    "Code pour projet crypto\n",
    "\n",
    "Import des librairies"
   ]
  },
  {
   "cell_type": "markdown",
   "metadata": {},
   "source": [
    "**Date limite :** Mercredi 27 mars 2024\n",
    "\n",
    "**Groupe TD DIA 6 :**\n",
    "\n",
    "Henri Serano, Sara Thibierge, Eloi Seidlitz"
   ]
  },
  {
   "cell_type": "code",
   "execution_count": 137,
   "metadata": {},
   "outputs": [],
   "source": [
    "import hashlib\n",
    "import random \n",
    "import gmpy2 as gm\n",
    "import math\n",
    "import time\n",
    "import base64\n",
    "import os, binascii\n",
    "from backports.pbkdf2 import pbkdf2_hmac\n",
    "import pyaes, pbkdf2, secrets\n"
   ]
  },
  {
   "cell_type": "markdown",
   "metadata": {},
   "source": [
    "## Exercice 1"
   ]
  },
  {
   "cell_type": "markdown",
   "metadata": {},
   "source": [
    "1. Trouver une chaîne de caractères (contenant vos noms et prénoms) dont le hash SHA256 se termine par le plus de zéros possible (en hexadécimal).\n",
    "\n",
    "2. Mesurer le temps moyen pour obtenir n et n+1 zéros en fin de chaîne (n = 5) et calculer le rapport Tn+1/Tn."
   ]
  },
  {
   "cell_type": "markdown",
   "metadata": {},
   "source": [
    "### Partie 1"
   ]
  },
  {
   "cell_type": "code",
   "execution_count": 138,
   "metadata": {},
   "outputs": [
    {
     "data": {
      "text/plain": [
       "{'chaine_trouvee': 'Serano_Henri__Sara_Thibierge__Eloi_Seidlitz_DIA677031',\n",
       " 'hash_trouve': '31e6f8e6377ad1c9895ef7c22b0ef9a252c0f0ec9d062178c58b416bcb470000',\n",
       " 'compteur_trouve': 77031,\n",
       " 'temps_moyen_n': 0.11019086837768555,\n",
       " 'temps_moyen_n_plus_1': 0.3324576854705811,\n",
       " 'rapport_temps': 3.0171074097634225}"
      ]
     },
     "execution_count": 138,
     "metadata": {},
     "output_type": "execute_result"
    }
   ],
   "source": [
    "\n",
    "def trouver_chaine(base, zeros_cibles):\n",
    "        compteur = 0\n",
    "        while True:\n",
    "            chaine_test = base + str(compteur)\n",
    "            hash_resultat = sha256_hash(chaine_test)\n",
    "            if hash_resultat.endswith('0' * zeros_cibles):\n",
    "                return chaine_test, compteur, hash_resultat\n",
    "            compteur += 1\n",
    "\n",
    "def sha256_hash(chaine):\n",
    "        return hashlib.sha256(chaine.encode()).hexdigest()\n",
    "        \n",
    "def trouver_chaine_et_stats(base, zeros_cibles, iterations_stat=5):\n",
    "    \n",
    "\n",
    "    # Première partie : Trouver la chaîne\n",
    "    chaine_trouvee, compteur_trouve, hash_trouve = trouver_chaine(base, zeros_cibles)\n",
    "\n",
    "    # Deuxième partie : Statistiques de temps\n",
    "    temps_n = []\n",
    "    temps_n_plus_1 = []\n",
    "    \n",
    "    for _ in range(iterations_stat):\n",
    "        debut = time.time()\n",
    "        trouver_chaine(base, zeros_cibles)\n",
    "        fin = time.time()\n",
    "        temps_n.append(fin - debut)\n",
    "\n",
    "        debut = time.time()\n",
    "        trouver_chaine(base, zeros_cibles + 1)\n",
    "        fin = time.time()\n",
    "        temps_n_plus_1.append(fin - debut)\n",
    "\n",
    "    temps_moyen_n = sum(temps_n) / len(temps_n)\n",
    "    temps_moyen_n_plus_1 = sum(temps_n_plus_1) / len(temps_n_plus_1)\n",
    "\n",
    "    rapport_temps = temps_moyen_n_plus_1 / temps_moyen_n\n",
    "\n",
    "    return {\n",
    "        \"chaine_trouvee\": chaine_trouvee,\n",
    "        \"hash_trouve\": hash_trouve,\n",
    "        \"compteur_trouve\": compteur_trouve,\n",
    "        \"temps_moyen_n\": temps_moyen_n,\n",
    "        \"temps_moyen_n_plus_1\": temps_moyen_n_plus_1,\n",
    "        \"rapport_temps\": rapport_temps\n",
    "    }\n",
    "\n",
    "\n",
    "base_chaine = \"Serano_Henri__Sara_Thibierge__Eloi_Seidlitz_DIA6\"\n",
    "zeros_cibles = 4 # Nombre de zéros à la fin du hash\n",
    "resultats = trouver_chaine_et_stats(base_chaine, zeros_cibles)\n",
    "resultats\n"
   ]
  },
  {
   "cell_type": "markdown",
   "metadata": {},
   "source": [
    "## Exercice 2"
   ]
  },
  {
   "cell_type": "markdown",
   "metadata": {},
   "source": [
    "1. Chiffrer un texte d'environ une demi-page (format .txt) avec AES256-CTR-PBKDF2 en utilisant un mot de passe et une valeur de compteur (IV) de 6 à 9 chiffres (sans 0).\n",
    "\n",
    "2. Constituez un entier N en accolant le mot de passe et l'IV séparés par quatre 0.\n",
    "\n",
    "3. Chiffrer N avec ElGamal en utilisant les nombres p, g et A fournis.\n",
    "\n",
    "4. Sauvegarder le fichier chiffré avec l'extension .enc."
   ]
  },
  {
   "cell_type": "code",
   "execution_count": 139,
   "metadata": {},
   "outputs": [
    {
     "data": {
      "text/plain": [
       "\"Le marché des sneakers en France a connu une croissance exponentielle au cours des dernières années, devenant un phénomène de mode et un investissement lucratif pour de nombreux amateurs et professionnels. \\nCe texte explore les multiples faceteurs qui sous-tendent le commerce de sneakers dans l'Hexagone, en mettant en lumière ses dynamiques économiques, culturelles et sociales.\\nD'un point de vue économique, le commerce de sneakers en France est stimulé par une demande croissante pour des modèles rares et exclusifs. \\nLes éditions limitées et les collaborations entre marques de renom et designers célèbres créent une urgence d'achat, poussant les prix sur le marché secondaire à atteindre des sommets vertigineux. \\nCette situation a engendré l'émergence d'une véritable économie parallèle, où les sneakers sont non seulement des objets de mode, mais également des actifs spéculatifs.\\n\\nSur le plan culturel, les sneakers occupent une place prépondérante dans l'univers de la mode et de la street culture française. \\nElles transcendent leur simple fonctionnalité pour devenir des symboles d'appartenance à des groupes sociaux spécifiques, des marqueurs d'identité et des oeuvres d'art portable. \\nLes lancements de nouveaux modèles sont désormais des événements médiatiques majeurs, attirant l'attention de millions de passionnés à travers le pays.\\n\\nSocialement, le commerce de sneakers en France reflète les changements dans les comportements de consommation. \\nLa montée en puissance des réseaux sociaux a permis aux consommateurs de partager leur passion, d'échanger des conseils sur les dernières tendances et de se tenir informés des sorties à venir. \\nDe plus, le phénomène de revente a favorisé l'entrepreneuriat chez les jeunes, nombreux étant ceux qui ont saisi cette opportunité pour lancer leur propre business de revente de sneakers.\\n\\nEn conclusion, le commerce de sneakers en France est un miroir des tendances actuelles en matière de mode, d'économie et de culture. \\nIl illustre parfaitement comment un produit peut transcender sa fonction première pour devenir un véritable phénomène social, englobant une multitude de dimensions. \\nCe marché dynamique et en constante évolution continuera sans doute d'attirer de nouveaux adeptes, tout en défiant les conventions et en repoussant les limites de la mode et du commerce.\""
      ]
     },
     "execution_count": 139,
     "metadata": {},
     "output_type": "execute_result"
    }
   ],
   "source": [
    "with open(\"format.txt\", \"r\",encoding=\"utf-8\") as file:\n",
    "    text = str(file.read())\n",
    "text"
   ]
  },
  {
   "cell_type": "code",
   "execution_count": 140,
   "metadata": {},
   "outputs": [
    {
     "name": "stdout",
     "output_type": "stream",
     "text": [
      "password:  123456789\n",
      "IV :  916771961\n",
      "N :  1234567890000916771961\n"
     ]
    }
   ],
   "source": [
    "def generate_non_zero_number(length,password):\n",
    "    return int(''.join(secrets.choice(password) for _ in range(length)))\n",
    "password = \"123456789\"\n",
    "salt = os.urandom(16)\n",
    "key = pbkdf2.PBKDF2(password, salt).read(32)\n",
    "iv = generate_non_zero_number(random.randint(6, 9),password)\n",
    "\n",
    "N = int(password + \"0000\" + str(iv)) \n",
    "print(\"password: \",password)\n",
    "print(\"IV : \",iv)\n",
    "print(\"N : \",N)\n",
    "\n"
   ]
  },
  {
   "cell_type": "code",
   "execution_count": 141,
   "metadata": {},
   "outputs": [
    {
     "name": "stdout",
     "output_type": "stream",
     "text": [
      "b'A\\x99\\x96\\xb3\\xb1\\xf1\\x83\\xf9$TL\\x13V\\x90\\x1a\\xc6\\x89\\x84o8\\x12\\x99\\x0c#\\x14~\\xac\\x90=\\xd3\\xb7\\x1f\\xe9\\x1fq\\xee>k\\xbe\\x8e\\x9c\\x1e\\xb0\\xeb\\x968L\\xe75\\xe3V\\xcc\\x898;\\x02\\xe4i:\\xce\\x00\\xaf)\\x87\\x93sY9\\r\\x0ep\\x91RfUk\\t\\xa2\\x01c\\\\1\\xc5\\xe0\\xd0<?\\x8e%\\xe3\\xc0u0\\x12J\\x0bnw0\\x1f\\xec\\x84!\\xc4\\xef\\xcb\\xcd)\\x02\\x86(\\xab\\xb1QG\\x19\\x0f[^\\x88Q\\x94\\xaa\\xf9\\xb3f\\\\\\xcc\\xf5\\xf1\\xdb\\xa1\\xed\\x9e\\x15\\x06\\x93\\x99Z\\xeb`O>\\xca\\x8a)}0Q\\x02\\x00\\x1a\\xb2\\xf0i\\xb3\\xb9\\xe6w\\xe8t2\"\\rib\\xec\\xdc\\xf7k\\x93\\xe1Y\\x96\\xf0\\x84x\\x89\\xcem\\x80\\x85<e\\x14C\\x12\\xfb\\xfbT\\xd3v\\xc3\\x8e\\xa5d!\"\\x9d\\x15\\xb4\\x8e\\x1eyDcV,\\xac\\xeao\\x1a\\xb6\\xda\\xde\\xa5]f\\xca\\\\\\xabZ@\\nx\\xf5\\xa5\\xba\\xf1\\xfd\\\\K\\xa6\\x9d\\x86\\xf9g_:(e\\x88\\x85\\xdf\\xc3\\xdf\\xe7\\xcc\\xab\\xb6\\x17p.\\x06\\x97\\xdc\\x8a\\x9dj<\\xcb\\xda\\xc2\"\\x14\\xfa\\x01\\x81\\xd8\\xe7.\\xba\\xbb\\xf7&b\\xe6\\x7fv\\x1b\\xfa\\x86Y3\\xc7 \\xb5\\x88R\\xdf<\\xdb\\x8d\\x02\\xca\\xd9\\xf9<<\\t\\xbd\\x8f\\x84\\x1eE\\xa6O\\x96\\xda;\\xd1\\x1e\\x08\\x82\\xc4\\x94\\xfd\\x88K\\xe2\\xbc(SbX\\xd2kc\\xf4\\xa3\\x1cz\\x8f\\xaf\\x06\\xca\\xc9\\xcd\\x82\\xd4\\xe9~\\x00\\xa9`Od\\x8a\\xa2\\xe0\\xee{9\\x93\\xa2\\xa2\\x1e?\\xa2\\xfcO\\xa0\\xab\\xe4\\xf4^\\xc9<\\n\\xbd\\x1aP\\x83\\xa6\\x96\\xb2\\xb3M\\x10?mq\\xcaM\\xef\\x1es\\xd2\\xc9\\x0bb6OR\\xc3v}\\xa0\\xc2\\xc8\\x195%(\\xff\\xd6\\x82\\x97\\xf6H\\xf8Y\\xef6\\xf2\\xf8\\xdc\\xbb=n\\xf3\\xab\\x1e\\x0fn`\\xc3\\xfaF\\xeb\\xd7\\x10\\x8bh\\x1c\\xd0d\\x19\\x141\\x9cm\\xc4^i\\xeb\\xfaWD\\xec\\xb65\\x96\\xf4-\\xcbd\\xbf\\x9e\\xf2\\xf7Nw?\\xac\\x8d\\xb3\\x03\\xc5\\xfc\\xf8\\xfd.\\x95\\xd2\\x87tf.>\\x08\\x9a\\x16\\x03\\x11\\x08\\xaa\\x93N\\xab\\x82Z\\x9e\\x0c\\xb4\\xd8\\xceL\\x8c\\xa0\\xe9\\xc5\\xda\\xa6\\x91\\x91su/Ct\\xdf\\xeee\\x14\\xb6\\xcd\\xcd\\xec\\x8c\\xdd-N!Pxd\\xff\\xa2\\x85c\\x8b\\x18\\xb7n\\xa35iM\\xe0\\x1d\\xdf\\x16\\x00\\x9b\\x83$Ul\\xa9\\xf5Ih\\x9e\\x13\\xf3\\xcbU\\x97\\x92D\\x9e\\xb0\\xe7\\xfe\\xd1/\\xaf\\x12\\x02\\xdf\\\\i\\x9e\\xa6\\xf2\\x14\\xcbF\\xd7\\xf8q\\x1f\\x1d+H\\xafT\\x01j\\xee\\xfb\\x94\\xcb\\xad\\x07\\x7fHf\\x17\\xb5\\xcb\\xd3C\\xfc\\xc8\\xb2\\xa5\\x82\\x1b\\xdd:\\xea>\\x14(\\xc3\\x1d\\xc1\\xb1\\xdc,\\xf0\\x7f%\\x13g\\xdb\\x9e\\x11\\xe1_\\xf3\\x1f\\xd2\\x83\\x01\\xb8$\\x9e\\xcc\\xcf\\x1eQ\\x8ep\\xc9\\xc8\\x0f$\\xb1\\xbd1\\xef\\x9dU^\\x0e\\xe5\\xc8\\x10\\xaeU\\xbf\\x80\\x00q\\xb1\\xa0\\x15T\\xc0\\x9d\\xadp\\xe5\\x87>8\\x03\\x98\\xe2Q\\xd3\\xe9\\xfb:\\xa7\\xe5S\\xb3\\xd6\\x10\\xebTU\\xd9\\xda\\xd7\\xa5\\x1c\\xec\\x85\\x83\\xfe\\x8c]+o\\xeb\\x13\\x95\\xf9l\\x0f$]j\\xeb6\\xea\\xc0:]\\x86\\xcf|\\xb8\\x18\\xbd\\xcbCP\\x167\\x90\\xa3\\xd0\\xd4\\x80!X\\xb88\\xa6\\\\\\x849\\xb0\\xe86\\xa9\\xc0.\\x9d\\xa3\\xdf[\\x93r\\xe8\\xbb\\xaa\\xe8\\xd9\\r^vt\\xc9\\x0b\\x92$\\x01sJ\\xcd\\xddo\\xee\\xda\\x9ak\\xb7\\xbbX\\x9f4\\x9a\\x0e\\x82oX\\xd8\\xd6D!\\xe5\\\\[)^\\t*\\xb0\\xb7\\x97$\\x96\\xf9*M\\x15F\\xb7\\xb1\\xb9\\xe6i\\x9a%\\xbf\\xafa\\xcd\\xc0o\\xae\\xb4\\xf82\\xe4D1\\xc9x\\xeb\\xa9W\\xb1\\'\\xfdqcP\\xb6<#\\xf5W\\x19XD\\xec\\xcc\\n\\x12\\xe1\"\\xe5\\x97\\x8a\\x06\\x97t3\\xc8Po\\xf73w\\xcb\\\\._\\xa8\\x83\\x0f\\xdd\\x93\\xf3\\xfe\\xc2\\x9f\\xd2f\\xe8\\xea\\xd2\\xf6\\x1cq\\xb9\\xad\\xf8^\\xb1\\x02Wb/z\\x89#\\xa6\"6\\x8fB%\\x18+y/\\xaa\\x95\\x9b\\x85\\xfa]\\xbd\\x81}\\xa5\\xb3\\x0b\\xfe:\\xd3%^~\\xc4\\x94w\\xf4\\xaf\\xbc#\\x92\\xc3\\x89\\xe5\\xa5_m_fwr\\x04\\xb1\\xf9\\xaf/\\xdf[+16\\xc2.@g\\xe17r\\xcaE\\x8eY\\x87\\xdaq\\x8d\\xb9\\xae-\\xd5`\\xd3\\xe7Xw\\x12\\x96o\\x88T\\x1d\\xf1\\x11\\x03\\x93\\xdapG\\xc2f\\'\\xdb\\xe8\\xab+z\\xcdpS\\x8b\\xf6\\x7f\\xcc\\xf4\\x13a\\x138U?c\\xe6\\xea\\\\Z\\xcd\\xd6Ae!p\\x84,\\x18\\r~\\xb4\\x89\\xcb987M|\"\\xbft\\x1bY\\x9f:52\\x16\\xba\\xdei\\xe0\\xc8\\xe8q(\\x9e\\xa1U\\xccc\\xfa\\xbc\\x96\\x04\\xc8O-\\xd4+\\xe2\\x93W\\xeb\\x0e\\'\\xf8UC[}\\xc9\"\\xc6\\xe3\\xffQ\\xb9\\xee^\\x1cT\\xed\\xed^\\x03O$\\xd9\\xc0\\xf6\\x82\\x0e\\x1f\\xcaC\\xf8Y%\\x97=j\\xfe`\\xf2\\xd1\\x07x\\x92\\xfc\\xe9T\\x93\\xbf\\xbc\\x0f\\x0e\\xadb\\x9f(\\xe5\\xdf\\x1b\\xf2!xO\\xbc\\xfb\\x86\\xe23^:\\xf5H\\xbc\\xe5\\xccC\\xe2\\xdc<\\x00$\\xf5u\\x96\\xff\\xe2\\xf2\\x9c{*;\\xab\\xfe\\xf1u\\x9f\\xb3*H\\xcf\\x06\\\\\\xe2\\xb1\\xa7\\xe6\\x0c\\xd9)h\\xacT\\xe6\\xaa\\x0c\\xec\\x90$\\x92{\\x8f\\x19l\\x18lK\\xc2~\\xdbX\\x9a\\xef\\x86\\xc5\\xed\\x07 \\xd7\\x18,\\x86\\x02\\xbe\\xce\\xdc\\xdf\\x18g\\xee\\xb4\\x7f\\xb1\\x8c\\xf8Q\\x88\\x9c\\x164\\xb6\\xb7\\t\\xa0\\'\\xa9\\x93\\xed\\xf9\\x1f&\\xbcn\\x0ey\\n\\xde\\xbef\\x81\\xa2<N\\x1dh@f\\x95X%\\xbc\\x17p\\xce#\\xf0\\xfa\\xc3\\xff\\xad\\xb5\\xc3\\xffI(\\xfcO\\xf2n\\xf2\\xe5#\\x99\\xab\\x9a\\x8e\\xfb\\xa7\\x9bx_i\\x7fo\\xd4!_\\xc1pN+\\xb1\\x9b\\xa5\\x04\\xbd<\\x07\\xc0\\'\\x88\\xde\\xfe\\x05;\\xc5\\x97[\\x9d\\xce)jf\\xf2\\xf5+\\x83\\x83\\x9d\\xc2\\xed\\x84y\\xe8\\x19\\xc2\\xbd\\xa3\\'\\\\^\\x19\\xd5C\\x86\\xed\\xdeMN\\xc2\\x01\\x82Noj\\xe3\\xb3\\xd7s\\x12\\xf3\\x05\\x9a\\x81-\\xc3\\xef\\xc7\\x95\\xc2\\xed\\x86\\xde\\x02\\xd3RvE\\x05\\xc5\\xc0\\x86z%\\xc8&\\x0b\\xd5\\xa7\\xd7\\xadG\\x95\\x9e$\\\\6\\xdb\\xcbLe\\xc7\\xb4A\\xd1\\xecQ\\nhD\\x8d_\\xc3\\xa5{\\x80\\x06\\xa1\\x8f\\xfb\\n\\xd9\\x9fb\\xf6\\x1c+L\\x00\\xaa\\x96\\xd0\\xb8\\xdc\\x8eW\\x81\\x93\\xfbF\\x8a7\\xd5\\xdbF\\x05\\x91\\xaa\\x0fV\\xe3\\xe8\\xa8\\xd4\\xa3tW\\x0e\\x98\\x97\\xbe\\x92\\xab(\\xd6\\xda\\x84\\xf3\\x02\\x01,\\xf7m\\xb4\\xe5y\\x13\\xdai\\xab\\xf5\\xe1\\xf4B:Q\\xb9\\xf1&\\x12C\\x05t\\x8e9\\x85W=G\\xc5n\\xbb\\xb2I\\x08\\xb4\\x12\\x90xT7\\x13\\x0e\\x8c`\\xe1\\x95\\xe4{3\\x1d\\xfd\\x04\\x8d^\\xbfF\\xfdk\\x8f\\x7fQR\\xbb\\x85\\xab\\xbbg[Y\\x83\\xe1}\\xaf\\xe4\\x05\\xdam\\x85sg*\\x0f\\xd2\\xd6v/\\xa1\\xbe\\xd7\\xf2\\x16\\xce\\x1f\\x95\\x1f\\xa7\\xe2\\x15B\\xfc\\xdd9\\xfa\\xb9\\x8a\\x82\\x84;\\x1a\\x82Z\\x96\\xcaH\\xf8>\\x1a8e\\xdc\\xb5\\xbf\\xa6z\\xfc\\xde\\xda\\x82J\\x8d\\x8b+\\x91\\x18\\xcd\\xfa\\xb1\\xd6\\xfa\\x8a\\x18%f\\xeb\\'x[\\xae\\xbcn\\xfa\\xd5QbhJ\\xf2\\xa7i\\xfe\\xfb4\\x159K\\xb6@\\xe24r4\\xe6\\xbe\\x0f\\xf2\\x17\\x19\\xff\\xa2\\xc1\\xdc\\x8cDd\\xa4\\xe9z\\x16J\\x96[g\\xae.\\xdb\\x0b$F\\xe8B\\xe9\\xeec/Fo\\xca\\xdcn\\xaeT\\xbf\\xd0\\xaf\\x8d\\xd85#a2\\xe1\\x86\\xde\\xf9\\xa5^\\xc6\\xfb]c\\xb7\\xe8\\xa4\\x9d\\xde/\\x90v4\\x00\\xfc\\x8f\\x9d\\xd9hN%\\xf9\\rAn\\x14\\xf3A\\xb3\\x80\\x11\\x98HT\\ty\\xbf\\xbeF2\\x05.\\xaa\\x85\\xce\\xc4P9\\xc9m\\xae;\\xcdQU\\xf1\\xfd\\xb8_s\\x1b\\xc35\\xcc\\xcd\\t0\\xd8\\xc4E\\xc10\\x04\\xd4\\xc4h\\xac\\x1b[\\xe0g\\xd6\\xec\\x94\\x94\\xc6\\x00\\xcbK\\xcd\\xec\\x89S!\\x9fH\\x9d\\xc6u\\x1c\\xbd\\xaf\\x94<\\xfe\\x1c\\xfd{D~}\\xf1t\\xd8\\xfda\\xa1+h\\xba\\xfa\\xafx2\\x9d\\x00>\\xe4\\xd1\\x17\\x03\"\\x11\\x16$\\x7fU\"\\xe5\\x17Z\\xe9\\x0b\\x0cR%\\x8b\\xe8\\x871\\xa6\\xd8:YQ2\\xd0\\xc2.\\x10\\xdd\\x9e\\x17\\xb0H)\\xc0%\\xd4\\x06I2\\xa2\\x0f\\',4\\x00\\xba\\xfaYj8Fo\\x8f\\xe1\\xffD\\xbc\\x9aq8\\x17k\\x1e\\xa3@\\xd6\\xcf6\\xd4\\xafY\\xf03\\x16\\xc3\\x91\\xc2\\x7f\\xd7\\xf3\\xb4\\xb1b\\x11\\x05\\x19\\xab\\xeb\\x9e\\xcf\\x1e.\\xfd\\xab\\t\\x86\\x81\\xc7\\xba?\\xa2\\x10\\xb5\\x91\\xb3\\x15JQ\\x90\\x03\\xc0[O7Y%\\xdb\\'zAy\\x06\\x88~\\xe4\\x01?\\x90\\xc6\\x0b\\xa4\\xfd\\'\\xd3w\\xc3\\x90\\xe6c\\xbd\\xefO\\xe6+\\x82\\xdb\\x96\\x90N\\xd4\\xc8\\xd5C\\x8da\\xbcoRhC\\xc8<~\\xd7\\xe0\\t$\\xdf/\\xd7B%\\xeey\\x82)}g\\x1aE!$\\xee\\xfbb\\xe7E\\xbf\\x17\\xdd\\x03\\xe9Yys\\xc0\\xd6\\xab\\x9a\\xb2\\x10\\x912\\xd8\\x99\\x14\\xcc\\xe8\\x08Aa\\xa7\\xb9\\x82u\\xa6Z q\\x01\\xc7\\x8du\\xdd\\x89<\\x00\\xe8\\xda6\\xfaD\\xba/\\x81\\x01\\x0f\\xc4\\x9e\\x9d\\xd1N\\xd1\\xeb[\\xb0V_V\\xea1\\xae\\xe2\\xaaD\"\\x1d\\x90q\\xc2 \\xfd:v\\xbd\\xd4;v;\\x92W6\\xea\\x8d\\xee\\xddjKfF\\xcf\\xa6AZ\\x94z\\xf3\\xc5g\\x17>vT\\xbcr:K\\xa4{\\xe5\\xd3g\\x81\\x8e\\x87#Jz{M\\xd7\\xe6\"DC\\xcfs\\x89\\xba\\xe0\\x8b\\'\\x8e\\x91\\xe7\\x01\\xbcR\\xd0\\x0b\\x8b\\xd3\\x95\\x12\\xf41\\x04!\\xb4\\x12\\xf6\\xed\\x07v\\x03\\xfc3\\xd2\\t\\x94\\xf3\\x87\\xccM:p8\\xa7v\\xe1\\x87o\\xb0}e\\x90\\\\\\x8cOR\\xcb\\x05PS{\\x7f\\x90\\xe0\\xa2\\xb9\\xc5!\\x8b\\xc5?\\xb6\\x93\\xc7\\xfb\\xa9\\x10\\xe2\\xbaR\\xdfDs\\xe1\\x83I7\\\\\\xf9\\xdeQ\\x830h\\xc3\\xd3\\xb2\\xe0\\xfd\\x0b\\xd2\\x93\\xad\\x13\\xfeON\\xb2\\xe9\"\\x85N\\x8fy\\xf9_R\\xd7*\\x02E\\x8d\\xc0\\x84\\xd7\\x95\\xef\\x88\\xb69\\x1b]N6\\x12\\xf0\\xf1\\x7fH\\x82d\\xce\\xbd\\xe0s\\x0byq\\x18\\t\\xfb\\x94\\x1a\\xde\\x9c\\x83>\\xa2w\\xe2\\x1d\\x1ac6H\\xe7\\xa4\\xdbK\\x99o\\xf5\\xbd}\\x8f\\x94\\x8c<!'\n"
     ]
    }
   ],
   "source": [
    "#On est obliger de recrée un mot de pass unique pour chiffrer le texte\n",
    "aes = pyaes.AESModeOfOperationCTR(key, pyaes.Counter(iv))\n",
    "ciphertext = aes.encrypt(text)\n",
    "with open(\"project.enc\", \"wb\") as encrypted_file:\n",
    "    encrypted_file.write(ciphertext)\n",
    "print(ciphertext)"
   ]
  },
  {
   "cell_type": "code",
   "execution_count": 142,
   "metadata": {},
   "outputs": [
    {
     "name": "stdout",
     "output_type": "stream",
     "text": [
      "b\"Le march\\xe9 des sneakers en France a connu une croissance exponentielle au cours des derni\\xe8res ann\\xe9es, devenant un ph\\xe9nom\\xe8ne de mode et un investissement lucratif pour de nombreux amateurs et professionnels. \\nCe texte explore les multiples faceteurs qui sous-tendent le commerce de sneakers dans l'Hexagone, en mettant en lumi\\xe8re ses dynamiques \\xe9conomiques, culturelles et sociales.\\nD'un point de vue \\xe9conomique, le commerce de sneakers en France est stimul\\xe9 par une demande croissante pour des mod\\xe8les rares et exclusifs. \\nLes \\xe9ditions limit\\xe9es et les collaborations entre marques de renom et designers c\\xe9l\\xe8bres cr\\xe9ent une urgence d'achat, poussant les prix sur le march\\xe9 secondaire \\xe0 atteindre des sommets vertigineux. \\nCette situation a engendr\\xe9 l'\\xe9mergence d'une v\\xe9ritable \\xe9conomie parall\\xe8le, o\\xf9 les sneakers sont non seulement des objets de mode, mais \\xe9galement des actifs sp\\xe9culatifs.\\n\\nSur le plan culturel, les sneakers occupent une place pr\\xe9pond\\xe9rante dans l'univers de la mode et de la street culture fran\\xe7aise. \\nElles transcendent leur simple fonctionnalit\\xe9 pour devenir des symboles d'appartenance \\xe0 des groupes sociaux sp\\xe9cifiques, des marqueurs d'identit\\xe9 et des oeuvres d'art portable. \\nLes lancements de nouveaux mod\\xe8les sont d\\xe9sormais des \\xe9v\\xe9nements m\\xe9diatiques majeurs, attirant l'attention de millions de passionn\\xe9s \\xe0 travers le pays.\\n\\nSocialement, le commerce de sneakers en France refl\\xe8te les changements dans les comportements de consommation. \\nLa mont\\xe9e en puissance des r\\xe9seaux sociaux a permis aux consommateurs de partager leur passion, d'\\xe9changer des conseils sur les derni\\xe8res tendances et de se tenir inform\\xe9s des sorties \\xe0 venir. \\nDe plus, le ph\\xe9nom\\xe8ne de revente a favoris\\xe9 l'entrepreneuriat chez les jeunes, nombreux \\xe9tant ceux qui ont saisi cette opportunit\\xe9 pour lancer leur propre business de revente de sneakers.\\n\\nEn conclusion, le commerce de sneakers en France est un miroir des tendances actuelles en mati\\xe8re de mode, d'\\xe9conomie et de culture. \\nIl illustre parfaitement comment un produit peut transcender sa fonction premi\\xe8re pour devenir un v\\xe9ritable ph\\xe9nom\\xe8ne social, englobant une multitude de dimensions. \\nCe march\\xe9 dynamique et en constante \\xe9volution continuera sans doute d'attirer de nouveaux adeptes, tout en d\\xe9fiant les conventions et en repoussant les limites de la mode et du commerce.\"\n"
     ]
    }
   ],
   "source": [
    "#Et du coup de le regénéré\n",
    "aes = pyaes.AESModeOfOperationCTR(key, pyaes.Counter(iv))\n",
    "print(aes.decrypt(ciphertext))"
   ]
  },
  {
   "cell_type": "code",
   "execution_count": 143,
   "metadata": {},
   "outputs": [
    {
     "data": {
      "text/plain": [
       "(2276989862123912491808511, 4661322510866707316622121)"
      ]
     },
     "execution_count": 143,
     "metadata": {},
     "output_type": "execute_result"
    }
   ],
   "source": [
    "p = 7946851324679854613245823\n",
    "g = 5\n",
    "A = 7579501795988122393422986\n",
    "\n",
    "b = random.SystemRandom().randint(2, p-2)\n",
    "\n",
    "# Calcul de B et C pour ElGamal\n",
    "B = pow(g, b, p)\n",
    "K = pow(A, b, p)  # Clé secrète partagée\n",
    "C = (K * N) % p  # Chiffrement de N avec la clé secrète partagée\n",
    "\n",
    "B, C"
   ]
  },
  {
   "cell_type": "code",
   "execution_count": 148,
   "metadata": {},
   "outputs": [
    {
     "name": "stdout",
     "output_type": "stream",
     "text": [
      "208\n"
     ]
    }
   ],
   "source": [
    "\"\"\"K = pow(B, g, p)\n",
    "\n",
    "# Calculer l'inverse modulaire de K\n",
    "K_inv = gm.invert(K, p)\n",
    "\n",
    "# Récupérer N\n",
    "N = (C * K_inv) % p\n",
    "\n",
    "print(N)\n",
    "\n",
    "password, iv = str(N)[:-13], int(str(N)[-10:])  # Ceci est un exemple; ajustez selon la structure réelle de N\n",
    "print(password,iv)\n",
    "# Dérivation de la clé AES à partir du mot de passe\n",
    "key = pbkdf2_hmac('sha256', password.encode('utf-8'), salt, 100000, dklen=32)\n",
    "\n",
    "aes = pyaes.AESModeOfOperationCTR(key, pyaes.Counter(iv))\n",
    "\n",
    "# Lire le fichier chiffré\n",
    "with open(\"project.enc\", \"rb\") as encrypted_file:\n",
    "    ciphertext = encrypted_file.read()\n",
    "# Déchiffrer le contenu\n",
    "aes = pyaes.AESModeOfOperationCTR(key, pyaes.Counter(iv))\n",
    "print(aes.decrypt(ciphertext)) \"\"\""
   ]
  },
  {
   "cell_type": "markdown",
   "metadata": {},
   "source": [
    "## Exercice 3"
   ]
  },
  {
   "cell_type": "markdown",
   "metadata": {},
   "source": [
    "* Démonstration de la signature ElGamal ou RSA (avec des nombres différents de ceux du cours).\n",
    "* Exemple d'utilisation du RSA, Diffie-Hellman, ElGamal ou de la signature ElGamal dans Python ou openssl (contexte réel)."
   ]
  },
  {
   "cell_type": "markdown",
   "metadata": {},
   "source": [
    "#### 1. Démonstration de la signature ElGamal ou RSA (avec des nombres différents de ceux du cours)."
   ]
  },
  {
   "cell_type": "code",
   "execution_count": 145,
   "metadata": {},
   "outputs": [
    {
     "ename": "ValueError",
     "evalue": "base is not invertible for the given modulus",
     "output_type": "error",
     "traceback": [
      "\u001b[1;31m---------------------------------------------------------------------------\u001b[0m",
      "\u001b[1;31mValueError\u001b[0m                                Traceback (most recent call last)",
      "Cell \u001b[1;32mIn[145], line 39\u001b[0m\n\u001b[0;32m     36\u001b[0m m \u001b[38;5;241m=\u001b[39m \u001b[38;5;241m123\u001b[39m\n\u001b[0;32m     38\u001b[0m \u001b[38;5;66;03m# Signature\u001b[39;00m\n\u001b[1;32m---> 39\u001b[0m r, s \u001b[38;5;241m=\u001b[39m \u001b[43msign_elgamal\u001b[49m\u001b[43m(\u001b[49m\u001b[43mm\u001b[49m\u001b[43m,\u001b[49m\u001b[43m \u001b[49m\u001b[43mx\u001b[49m\u001b[43m,\u001b[49m\u001b[43m \u001b[49m\u001b[43mp\u001b[49m\u001b[43m,\u001b[49m\u001b[43m \u001b[49m\u001b[43mg\u001b[49m\u001b[43m)\u001b[49m\n\u001b[0;32m     41\u001b[0m \u001b[38;5;66;03m# Vérification de la signature\u001b[39;00m\n\u001b[0;32m     42\u001b[0m valid \u001b[38;5;241m=\u001b[39m verify_elgamal(m, r, s, y, p, g)\n",
      "Cell \u001b[1;32mIn[145], line 14\u001b[0m, in \u001b[0;36msign_elgamal\u001b[1;34m(m, x, p, g)\u001b[0m\n\u001b[0;32m     11\u001b[0m \u001b[38;5;28;01mdef\u001b[39;00m \u001b[38;5;21msign_elgamal\u001b[39m(m, x, p, g):\n\u001b[0;32m     12\u001b[0m     \u001b[38;5;66;03m# Sélection d'un nombre aléatoire k\u001b[39;00m\n\u001b[0;32m     13\u001b[0m     k \u001b[38;5;241m=\u001b[39m random\u001b[38;5;241m.\u001b[39mrandint(\u001b[38;5;241m2\u001b[39m, p \u001b[38;5;241m-\u001b[39m \u001b[38;5;241m2\u001b[39m)\n\u001b[1;32m---> 14\u001b[0m     \u001b[38;5;28;01mwhile\u001b[39;00m \u001b[38;5;28;43mpow\u001b[39;49m\u001b[43m(\u001b[49m\u001b[43mk\u001b[49m\u001b[43m,\u001b[49m\u001b[43m \u001b[49m\u001b[38;5;241;43m-\u001b[39;49m\u001b[38;5;241;43m1\u001b[39;49m\u001b[43m,\u001b[49m\u001b[43m \u001b[49m\u001b[43mp\u001b[49m\u001b[43m \u001b[49m\u001b[38;5;241;43m-\u001b[39;49m\u001b[43m \u001b[49m\u001b[38;5;241;43m1\u001b[39;49m\u001b[43m)\u001b[49m \u001b[38;5;241m==\u001b[39m \u001b[38;5;241m0\u001b[39m:  \u001b[38;5;66;03m# Assure que k est premier avec p-1\u001b[39;00m\n\u001b[0;32m     15\u001b[0m         k \u001b[38;5;241m=\u001b[39m random\u001b[38;5;241m.\u001b[39mrandint(\u001b[38;5;241m2\u001b[39m, p \u001b[38;5;241m-\u001b[39m \u001b[38;5;241m2\u001b[39m)\n\u001b[0;32m     16\u001b[0m     r \u001b[38;5;241m=\u001b[39m \u001b[38;5;28mpow\u001b[39m(g, k, p)\n",
      "\u001b[1;31mValueError\u001b[0m: base is not invertible for the given modulus"
     ]
    }
   ],
   "source": [
    "# Fonction pour calculer l'inverse modulo\n",
    "def inverse_modulo(a, m):\n",
    "    m0, x0, x1 = m, 0, 1\n",
    "    while a > 1:\n",
    "        q = a // m\n",
    "        m, a = a % m, m\n",
    "        x0, x1 = x1 - q * x0, x0\n",
    "    return x1 + m0 if x1 < 0 else x1\n",
    "\n",
    "# Fonction pour calculer la signature\n",
    "def sign_elgamal(m, x, p, g):\n",
    "    # Sélection d'un nombre aléatoire k\n",
    "    k = random.randint(2, p - 2)\n",
    "    while pow(k, -1, p - 1) == 0:  # Assure que k est premier avec p-1\n",
    "        k = random.randint(2, p - 2)\n",
    "    r = pow(g, k, p)\n",
    "    k_inv = inverse_modulo(k, p - 1)\n",
    "    s = (m - x * r) * k_inv % (p - 1)\n",
    "    return r, s\n",
    "\n",
    "# Fonction pour vérifier la signature\n",
    "def verify_elgamal(m, r, s, y, p, g):\n",
    "    v1 = pow(g, m, p)\n",
    "    v2 = (pow(y, r, p) * pow(r, s, p)) % p\n",
    "    return v1 == v2\n",
    "\n",
    "# Paramètres ElGamal\n",
    "p = 257\n",
    "g = 3\n",
    "x = 97\n",
    "\n",
    "# Clé publique\n",
    "y = pow(g, x, p)\n",
    "\n",
    "# Message à signer\n",
    "m = 123\n",
    "\n",
    "# Signature\n",
    "r, s = sign_elgamal(m, x, p, g)\n",
    "\n",
    "# Vérification de la signature\n",
    "valid = verify_elgamal(m, r, s, y, p, g)\n",
    "\n",
    "print(\"Signature valide :\", valid)\n"
   ]
  },
  {
   "cell_type": "markdown",
   "metadata": {},
   "source": [
    "#### 2. Exemple d'utilisation du RSA, Diffie-Hellman, ElGamal ou de la signature ElGamal dans Python ou openssl (contexte réel)."
   ]
  },
  {
   "cell_type": "markdown",
   "metadata": {},
   "source": [
    "Supposons que nous ayons un fichier texte appelé \"format.txt\" contenant le message à signer.\n"
   ]
  },
  {
   "cell_type": "markdown",
   "metadata": {},
   "source": [
    "\n",
    "**a) Génération des clés RSA :**\n",
    "Tout d'abord, nous devons générer une paire de clés RSA privée/publique à l'aide d'OpenSSL."
   ]
  },
  {
   "cell_type": "code",
   "execution_count": null,
   "metadata": {
    "vscode": {
     "languageId": "shellscript"
    }
   },
   "outputs": [
    {
     "name": "stderr",
     "output_type": "stream",
     "text": [
      ".+.........+...+..+..........+........+++++++++++++++++++++++++++++++++++++++*..+.....+...+....+...+...+..+............+.+......+........+......+.......+..+.+......+...+...+.........+++++++++++++++++++++++++++++++++++++++*...+...+.+...........+................+..+......+.+........+.......+.....+.........+....+...+.....+...+.+..............+....+...+..+.+...............+..+...+.+....................+....+......+...........+....+...+.....+..........+..+......+..........+...+...............+.........+............+.....+.+........+.........+......+.........+......+.+.....+....+.........+..+...+.+..+.............+.....+.......+...+..+...+....+..+..........+........+.+......+...+..+.+........+.......+.....+..................................+......+..+...+...+.+...............+.....+...+.+......+........+...+.......+..................+.........+.........+.....++++++\n",
      ".......+....+......+......+.....+...+.+..+....+......+++++++++++++++++++++++++++++++++++++++*...........+...+..+...+......+.+...+......+..+...+.......+...+..+.........+....+.....+....+++++++++++++++++++++++++++++++++++++++*........+......+.......+.....+.+..+............+.......+..................+..+.+.....+....+..................+.....+...+.........+...+.+.....................+...............+.....+.++++++\n",
      "writing RSA key\n"
     ]
    }
   ],
   "source": [
    "#copy paste in a terminal\n",
    "!openssl genpkey -algorithm RSA -out private_key.pem\n",
    "!openssl rsa -pubout -in private_key.pem -out public_key.pem"
   ]
  },
  {
   "cell_type": "markdown",
   "metadata": {},
   "source": [
    "Ces commandes génèrent une clé privée private_key.pem et une clé publique correspondante `public_key.pem`.\n"
   ]
  },
  {
   "cell_type": "markdown",
   "metadata": {},
   "source": [
    "\n",
    "**b) Signature du message :**\n",
    "\n",
    "Ensuite, nous signons le message avec notre clé privée."
   ]
  },
  {
   "cell_type": "code",
   "execution_count": null,
   "metadata": {
    "vscode": {
     "languageId": "shellscript"
    }
   },
   "outputs": [],
   "source": [
    "#copy paste in a terminal\n",
    "!openssl dgst -sha256 -sign private_key.pem -out signature.bin format.txt"
   ]
  },
  {
   "cell_type": "markdown",
   "metadata": {},
   "source": [
    "Cela crée une signature du message dans le fichier signature.bin.\n"
   ]
  },
  {
   "cell_type": "markdown",
   "metadata": {},
   "source": [
    "**c) Vérification de la signature :**\n",
    "\n",
    "Pour vérifier la signature avec la clé publique correspondante, nous utilisons :"
   ]
  },
  {
   "cell_type": "code",
   "execution_count": null,
   "metadata": {
    "vscode": {
     "languageId": "shellscript"
    }
   },
   "outputs": [
    {
     "name": "stdout",
     "output_type": "stream",
     "text": [
      "Verified OK\n"
     ]
    }
   ],
   "source": [
    "#copy paste in a terminal\n",
    "!openssl dgst -sha256 -verify public_key.pem -signature signature.bin format.txt"
   ]
  },
  {
   "cell_type": "markdown",
   "metadata": {},
   "source": [
    "Si la vérification réussit, OpenSSL affichera \"Verified OK\".\n"
   ]
  },
  {
   "cell_type": "markdown",
   "metadata": {},
   "source": [
    "Cet exemple montre comment utiliser OpenSSL pour générer une paire de clés RSA, signer un message avec la clé privée et vérifier la signature avec la clé publique. Vous pouvez répéter ces étapes dans un terminal pour expérimenter avec vos propres messages et clés."
   ]
  },
  {
   "cell_type": "code",
   "execution_count": null,
   "metadata": {
    "vscode": {
     "languageId": "shellscript"
    }
   },
   "outputs": [
    {
     "name": "stderr",
     "output_type": "stream",
     "text": [
      "........+.....+++++++++++++++++++++++++++++++++++++++*....+..+.+...........+......+...+.+...........+.......+..+...............+.+...+..+............+...+...+.......+...+.........+..+.+++++++++++++++++++++++++++++++++++++++*..+..........+..+.+............+.....+...+.........+.........+.......+..++++++\n",
      ".......+........+.+.....+....+...+.....+.......+...+..+......+.+++++++++++++++++++++++++++++++++++++++*......+......+...+....+...+..+............+.........+.......+...+++++++++++++++++++++++++++++++++++++++*......+...+......+.+....................+..........+...........+.........+.+..+.+...........................+...+.........+..+.+...+.....+..........+..+...+......+......+.........+....+...............+.........+......+..+....+...+...+............+.....+..................+...+....+...+.........+.....+.+.....+...+....+............+.........+..+....+......+..+.......+.....+...............+...+.+......+.....+.+..+...+.........+...................+..+............+......+...............+....+..+.........+.......+..+.+.....+.+.....+.+..+...+....+......+...+..+.......+......+..+....+........+.......+......+.....+...+.+...+............+........+.+..+...+............+..........+...+.....+....+..+...............+...+.............+..+.............+.........+.....+.+...+.....+............+.......+........+.........+.+..+.......+...+......+.....+.+...+.....+...+.......+...+...+...........+.+..+.+..+..........+..+......+.+..............+......+.+..+.......+.....+...+...+...+.+.......................+.............+.....+............+..........+..+....+...........+.+.....+....+...+..+.........+....+...+...+......+........+......+.......+..+......................+...+..+.........+.......+..+.+......+...........+....+......+...+..+...+.+........+............+......+..........+..+......+....+..+.........+......+......+.............+..+.......+...+.................+.+......+.....+...+......+.+.....+.+.....+.......+......+.....+....+.....+.+...........+....+.........+.....+.+.........+..+.........+.+.....+.+...+.....+.+......+.....+........................+.............+.....+...............+.............+..++++++\n",
      "writing RSA key\n"
     ]
    },
    {
     "name": "stdout",
     "output_type": "stream",
     "text": [
      "Verified OK\n"
     ]
    }
   ],
   "source": [
    "!openssl genpkey -algorithm RSA -out private_key.pem\n",
    "!openssl rsa -pubout -in private_key.pem -out public_key.pem\n",
    "!openssl dgst -sha256 -sign private_key.pem -out signature.bin format.txt       \n",
    "!openssl dgst -sha256 -verify public_key.pem -signature signature.bin format.txt"
   ]
  }
 ],
 "metadata": {
  "kernelspec": {
   "display_name": "Python 3",
   "language": "python",
   "name": "python3"
  },
  "language_info": {
   "codemirror_mode": {
    "name": "ipython",
    "version": 3
   },
   "file_extension": ".py",
   "mimetype": "text/x-python",
   "name": "python",
   "nbconvert_exporter": "python",
   "pygments_lexer": "ipython3",
   "version": "3.11.1"
  }
 },
 "nbformat": 4,
 "nbformat_minor": 2
}
