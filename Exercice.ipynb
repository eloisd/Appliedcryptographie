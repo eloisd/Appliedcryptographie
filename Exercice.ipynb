{
 "cells": [
  {
   "cell_type": "markdown",
   "metadata": {},
   "source": [
    "Code pour projet crypto\n",
    "\n",
    "Import des librairies"
   ]
  },
  {
   "cell_type": "code",
   "execution_count": 3,
   "metadata": {},
   "outputs": [],
   "source": [
    "import hashlib as hs\n",
    "import random \n",
    "import gmpy2 as gm\n",
    "import math\n",
    "import time\n",
    "import base64\n",
    "import os, binascii\n",
    "from backports.pbkdf2 import pbkdf2_hmac\n",
    "import pyaes, pbkdf2, secrets\n"
   ]
  },
  {
   "cell_type": "markdown",
   "metadata": {},
   "source": [
    "Exercice 1"
   ]
  },
  {
   "cell_type": "markdown",
   "metadata": {},
   "source": [
    "Partie 1"
   ]
  },
  {
   "cell_type": "code",
   "execution_count": 4,
   "metadata": {},
   "outputs": [
    {
     "data": {
      "text/plain": [
       "{'chaine_trouvee': 'Serano_Henri__Sara_Thibierge__Eloi_Seidlitz_DIA677031',\n",
       " 'hash_trouve': '31e6f8e6377ad1c9895ef7c22b0ef9a252c0f0ec9d062178c58b416bcb470000',\n",
       " 'compteur_trouve': 77031,\n",
       " 'temps_moyen_n': 0.23336453437805177,\n",
       " 'temps_moyen_n_plus_1': 0.7032125949859619,\n",
       " 'rapport_temps': 3.0133653207421562}"
      ]
     },
     "execution_count": 4,
     "metadata": {},
     "output_type": "execute_result"
    }
   ],
   "source": [
    "\n",
    "def trouver_chaine(base, zeros_cibles):\n",
    "        compteur = 0\n",
    "        while True:\n",
    "            chaine_test = base + str(compteur)\n",
    "            hash_resultat = sha256_hash(chaine_test)\n",
    "            if hash_resultat.endswith('0' * zeros_cibles):\n",
    "                return chaine_test, compteur, hash_resultat\n",
    "            compteur += 1\n",
    "\n",
    "def sha256_hash(chaine):\n",
    "        return hashlib.sha256(chaine.encode()).hexdigest()\n",
    "        \n",
    "def trouver_chaine_et_stats(base, zeros_cibles, iterations_stat=5):\n",
    "    \n",
    "\n",
    "    # Première partie : Trouver la chaîne\n",
    "    chaine_trouvee, compteur_trouve, hash_trouve = trouver_chaine(base, zeros_cibles)\n",
    "\n",
    "    # Deuxième partie : Statistiques de temps\n",
    "    temps_n = []\n",
    "    temps_n_plus_1 = []\n",
    "    \n",
    "    for _ in range(iterations_stat):\n",
    "        debut = time.time()\n",
    "        trouver_chaine(base, zeros_cibles)\n",
    "        fin = time.time()\n",
    "        temps_n.append(fin - debut)\n",
    "\n",
    "        debut = time.time()\n",
    "        trouver_chaine(base, zeros_cibles + 1)\n",
    "        fin = time.time()\n",
    "        temps_n_plus_1.append(fin - debut)\n",
    "\n",
    "    temps_moyen_n = sum(temps_n) / len(temps_n)\n",
    "    temps_moyen_n_plus_1 = sum(temps_n_plus_1) / len(temps_n_plus_1)\n",
    "\n",
    "    rapport_temps = temps_moyen_n_plus_1 / temps_moyen_n\n",
    "\n",
    "    return {\n",
    "        \"chaine_trouvee\": chaine_trouvee,\n",
    "        \"hash_trouve\": hash_trouve,\n",
    "        \"compteur_trouve\": compteur_trouve,\n",
    "        \"temps_moyen_n\": temps_moyen_n,\n",
    "        \"temps_moyen_n_plus_1\": temps_moyen_n_plus_1,\n",
    "        \"rapport_temps\": rapport_temps\n",
    "    }\n",
    "\n",
    "# Utiliser une base de chaîne avec vos noms et prénoms (remplacer par vos vrais noms et prénoms)\n",
    "base_chaine = \"Serano_Henri__Sara_Thibierge__Eloi_Seidlitz_DIA6\"\n",
    "zeros_cibles = 4  # Nombre de zéros à la fin du hash\n",
    "resultats = trouver_chaine_et_stats(base_chaine, zeros_cibles)\n",
    "resultats\n"
   ]
  },
  {
   "cell_type": "markdown",
   "metadata": {},
   "source": [
    "Exercice 2"
   ]
  },
  {
   "cell_type": "code",
   "execution_count": null,
   "metadata": {},
   "outputs": [],
   "source": []
  },
  {
   "cell_type": "markdown",
   "metadata": {},
   "source": [
    "Exercice 3"
   ]
  },
  {
   "cell_type": "code",
   "execution_count": null,
   "metadata": {},
   "outputs": [],
   "source": []
  }
 ],
 "metadata": {
  "kernelspec": {
   "display_name": "Python 3",
   "language": "python",
   "name": "python3"
  },
  "language_info": {
   "codemirror_mode": {
    "name": "ipython",
    "version": 3
   },
   "file_extension": ".py",
   "mimetype": "text/x-python",
   "name": "python",
   "nbconvert_exporter": "python",
   "pygments_lexer": "ipython3",
   "version": "3.11.1"
  }
 },
 "nbformat": 4,
 "nbformat_minor": 2
}
