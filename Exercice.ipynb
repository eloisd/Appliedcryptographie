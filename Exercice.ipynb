{
 "cells": [
  {
   "cell_type": "markdown",
   "metadata": {},
   "source": [
    "Code pour projet crypto\n",
    "\n",
    "Import des librairies"
   ]
  },
  {
   "cell_type": "markdown",
   "metadata": {},
   "source": [
    "**Date limite :** Mercredi 27 mars 2024\n",
    "\n",
    "**Groupe TD DIA 6 :**\n",
    "\n",
    "Henri Serano, Sara Thibierge, Eloi Seidlitz"
   ]
  },
  {
   "cell_type": "code",
   "execution_count": 14,
   "metadata": {},
   "outputs": [],
   "source": [
    "import hashlib\n",
    "import random \n",
    "import gmpy2 as gm\n",
    "import math\n",
    "import time\n",
    "import base64\n",
    "import os, binascii\n",
    "from backports.pbkdf2 import pbkdf2_hmac\n",
    "import pyaes, pbkdf2, secrets\n",
    "import nbdime\n"
   ]
  },
  {
   "cell_type": "code",
   "execution_count": 15,
   "metadata": {},
   "outputs": [],
   "source": [
    "!nbdime config-git --enable"
   ]
  },
  {
   "cell_type": "markdown",
   "metadata": {},
   "source": [
    "## Exercice 1"
   ]
  },
  {
   "cell_type": "markdown",
   "metadata": {},
   "source": [
    "1. Trouver une chaîne de caractères (contenant vos noms et prénoms) dont le hash SHA256 se termine par le plus de zéros possible (en hexadécimal).\n",
    "\n",
    "2. Mesurer le temps moyen pour obtenir n et n+1 zéros en fin de chaîne (n = 5) et calculer le rapport Tn+1/Tn."
   ]
  },
  {
   "cell_type": "markdown",
   "metadata": {},
   "source": [
    "### Partie 1"
   ]
  },
  {
   "cell_type": "markdown",
   "metadata": {},
   "source": [
    "Nous allons faire une fonction permettant de trouver une combinaison du chiffrage de la phrase avec l'algorithme sha256 qui finit avec un nombre finit de 0"
   ]
  },
  {
   "cell_type": "code",
   "execution_count": 2,
   "metadata": {},
   "outputs": [],
   "source": [
    "def trouver_chaine(base, zeros_cibles):\n",
    "        compteur = 0\n",
    "        while True:\n",
    "            chaine_test = base + str(compteur)\n",
    "            hash_resultat = sha256_hash(chaine_test)\n",
    "            if hash_resultat.endswith('0' * zeros_cibles):\n",
    "                return chaine_test, compteur, hash_resultat\n",
    "            compteur += 1\n",
    "\n",
    "def sha256_hash(chaine):\n",
    "        return hashlib.sha256(chaine.encode()).hexdigest()"
   ]
  },
  {
   "cell_type": "markdown",
   "metadata": {},
   "source": [
    "Cette fonction permet d'executer la fonction et de trouver les différentes statistique en lien avec ce cryptage"
   ]
  },
  {
   "cell_type": "code",
   "execution_count": 3,
   "metadata": {},
   "outputs": [
    {
     "data": {
      "text/plain": [
       "{'chaine_trouvee': 'Serano_Henri__Sara_Thibierge__Eloi_Seidlitz_DIA677031',\n",
       " 'hash_trouve': '31e6f8e6377ad1c9895ef7c22b0ef9a252c0f0ec9d062178c58b416bcb470000',\n",
       " 'compteur_trouve': 77031,\n",
       " 'temps_moyen_n': 0.24442505836486816,\n",
       " 'temps_moyen_n_plus_1': 0.7190749168395996,\n",
       " 'rapport_temps': 2.9419034269644837}"
      ]
     },
     "execution_count": 3,
     "metadata": {},
     "output_type": "execute_result"
    }
   ],
   "source": [
    "def trouver_chaine_et_stats(base, zeros_cibles, iterations_stat=5):\n",
    "    \n",
    "\n",
    "    # Première partie : Trouver la chaîne\n",
    "    chaine_trouvee, compteur_trouve, hash_trouve = trouver_chaine(base, zeros_cibles)\n",
    "\n",
    "    # Deuxième partie : Statistiques de temps\n",
    "    temps_n = []\n",
    "    temps_n_plus_1 = []\n",
    "    \n",
    "    for _ in range(iterations_stat):\n",
    "        debut = time.time()\n",
    "        trouver_chaine(base, zeros_cibles)\n",
    "        fin = time.time()\n",
    "        temps_n.append(fin - debut)\n",
    "\n",
    "        debut = time.time()\n",
    "        trouver_chaine(base, zeros_cibles + 1)\n",
    "        fin = time.time()\n",
    "        temps_n_plus_1.append(fin - debut)\n",
    "\n",
    "    temps_moyen_n = sum(temps_n) / len(temps_n)\n",
    "    temps_moyen_n_plus_1 = sum(temps_n_plus_1) / len(temps_n_plus_1)\n",
    "\n",
    "    rapport_temps = temps_moyen_n_plus_1 / temps_moyen_n\n",
    "\n",
    "    return {\n",
    "        \"chaine_trouvee\": chaine_trouvee,\n",
    "        \"hash_trouve\": hash_trouve,\n",
    "        \"compteur_trouve\": compteur_trouve,\n",
    "        \"temps_moyen_n\": temps_moyen_n,\n",
    "        \"temps_moyen_n_plus_1\": temps_moyen_n_plus_1,\n",
    "        \"rapport_temps\": rapport_temps\n",
    "    }\n",
    "\n",
    "\n",
    "base_chaine = \"Serano_Henri__Sara_Thibierge__Eloi_Seidlitz_DIA6\"\n",
    "zeros_cibles = 4 # Nombre de zéros à la fin du hash\n",
    "resultats = trouver_chaine_et_stats(base_chaine, zeros_cibles)\n",
    "resultats\n"
   ]
  },
  {
   "cell_type": "markdown",
   "metadata": {},
   "source": [
    "## Exercice 2"
   ]
  },
  {
   "cell_type": "markdown",
   "metadata": {},
   "source": [
    "1. Chiffrer un texte d'environ une demi-page (format .txt) avec AES256-CTR-PBKDF2 en utilisant un mot de passe et une valeur de compteur (IV) de 6 à 9 chiffres (sans 0).\n",
    "\n",
    "2. Constituez un entier N en accolant le mot de passe et l'IV séparés par quatre 0.\n",
    "\n",
    "3. Chiffrer N avec ElGamal en utilisant les nombres p, g et A fournis.\n",
    "\n",
    "4. Sauvegarder le fichier chiffré avec l'extension .enc.\n",
    "\n",
    "Nous allons importer le texte directement depuis un fichier txt"
   ]
  },
  {
   "cell_type": "code",
   "execution_count": 4,
   "metadata": {},
   "outputs": [
    {
     "data": {
      "text/plain": [
       "\"Le marché des sneakers en France a connu une croissance exponentielle au cours des dernières années, devenant un phénomène de mode et un investissement lucratif pour de nombreux amateurs et professionnels. \\nCe texte explore les multiples faceteurs qui sous-tendent le commerce de sneakers dans l'Hexagone, en mettant en lumière ses dynamiques économiques, culturelles et sociales.\\nD'un point de vue économique, le commerce de sneakers en France est stimulé par une demande croissante pour des modèles rares et exclusifs. \\nLes éditions limitées et les collaborations entre marques de renom et designers célèbres créent une urgence d'achat, poussant les prix sur le marché secondaire à atteindre des sommets vertigineux. \\nCette situation a engendré l'émergence d'une véritable économie parallèle, où les sneakers sont non seulement des objets de mode, mais également des actifs spéculatifs.\\n\\nSur le plan culturel, les sneakers occupent une place prépondérante dans l'univers de la mode et de la street culture française. \\nElles transcendent leur simple fonctionnalité pour devenir des symboles d'appartenance à des groupes sociaux spécifiques, des marqueurs d'identité et des oeuvres d'art portable. \\nLes lancements de nouveaux modèles sont désormais des événements médiatiques majeurs, attirant l'attention de millions de passionnés à travers le pays.\\n\\nSocialement, le commerce de sneakers en France reflète les changements dans les comportements de consommation. \\nLa montée en puissance des réseaux sociaux a permis aux consommateurs de partager leur passion, d'échanger des conseils sur les dernières tendances et de se tenir informés des sorties à venir. \\nDe plus, le phénomène de revente a favorisé l'entrepreneuriat chez les jeunes, nombreux étant ceux qui ont saisi cette opportunité pour lancer leur propre business de revente de sneakers.\\n\\nEn conclusion, le commerce de sneakers en France est un miroir des tendances actuelles en matière de mode, d'économie et de culture. \\nIl illustre parfaitement comment un produit peut transcender sa fonction première pour devenir un véritable phénomène social, englobant une multitude de dimensions. \\nCe marché dynamique et en constante évolution continuera sans doute d'attirer de nouveaux adeptes, tout en défiant les conventions et en repoussant les limites de la mode et du commerce.\""
      ]
     },
     "execution_count": 4,
     "metadata": {},
     "output_type": "execute_result"
    }
   ],
   "source": [
    "with open(\"format.txt\", \"r\",encoding=\"utf-8\") as file:\n",
    "    text = str(file.read())\n",
    "text"
   ]
  },
  {
   "cell_type": "markdown",
   "metadata": {},
   "source": [
    "Nous allons initialisé nos différentes clés de sorte que l'on ait le bon nombre de 0"
   ]
  },
  {
   "cell_type": "code",
   "execution_count": 5,
   "metadata": {},
   "outputs": [
    {
     "name": "stdout",
     "output_type": "stream",
     "text": [
      "password:  123456789\n",
      "IV :  96662139\n",
      "N :  123456789000096662139\n"
     ]
    }
   ],
   "source": [
    "def generate_non_zero_number(length,password):\n",
    "    return int(''.join(secrets.choice(password) for _ in range(length)))\n",
    "password = \"123456789\"\n",
    "salt = os.urandom(16)\n",
    "key = pbkdf2.PBKDF2(password, salt).read(32)\n",
    "iv = generate_non_zero_number(random.randint(6, 9),password)\n",
    "\n",
    "N = int(password + \"0000\" + str(iv)) \n",
    "print(\"password: \",password)\n",
    "print(\"IV : \",iv)\n",
    "print(\"N : \",N)\n",
    "\n"
   ]
  },
  {
   "cell_type": "markdown",
   "metadata": {},
   "source": [
    "Après avoir généré les différentes clés nous allons crypté avec l'algo AES avec le mode CTR"
   ]
  },
  {
   "cell_type": "code",
   "execution_count": 6,
   "metadata": {},
   "outputs": [
    {
     "name": "stdout",
     "output_type": "stream",
     "text": [
      "b'h\\x87\\n\\x9c\\x98s\\xd8\\xb0\\xad2\\x14\\xf8aSOs\\x99\\x99\\xca\\\\\\xa0V2\\x96\\n\\x063i\\xea)QJV\\x95\\xce9\\x0b\\xe6Ci\\xd2\\x066\\x7f\\xf4\\xe86\\xad\\x11\\r;Qq\\xf6\\xcf\\x1dC\\x96dp\\x1b*\\xf9\\x9a#\\xe9\\x18\\x1c8u\\xf0\\xaa\\x8b:H\\x96\\xa6\\'\\xf7*\\xd2\\xe7\\x83\"dL\\x1b\\xc1`5g\\xad\\x15\\xb3\\x18a,\\x9b\\xcb_\\xdd\\x0c?\\xca,\\x84R+\\xd1\\xa42\\xe7m\\xfd\\xf8\\xaa\\xe4\\xc5\\xca\\xc0[\\xcfY\\xbf\\xf2)\\xa1\\x07\\xdb<\\x18>\\x0b\\xbb\\xe6jz\\x01\\xea\\xc8\\xb4\\x08R\\xff\\xdea\\x05\\xbd\\xc7gX\\xfd\\xcb\\xadt\\xcd\\x0f\\x10\\xe9\\xf1\\xc0I\\x00\\xb9\\x86\\xe4\\x94\\x81\\xaa\\x8f\\xda\\x7f\\xbc\\xfb7\\xba\\x90\\xe0\\xe8^\\xac\\x19\\x86Tkv\\xc8\\x1d\\xa57\\xa5P\\xc6,\\xda\\x0c\\xf2\\xe6\\xb1\\x12\\xc33Yo\\x80\\xcc$f\\x87}\\xde\\xd4\\x17\\x90UUD\\x982\\xb8Qtu q\\x11\\x85\\xb8T&g\\x98\\xbcK\\x89\\x1dE#\\x98gW?w\\xc7xGP;A1\\xf9VT\\xf8t/\\xe8\\x1a\\x8dO\\xaf.\\xeex\\x16\\x95\\xb9\\x0b\\x93%.\\x02\\xbd\\x02\\x14\\x7fT~\\xfd9\\x01T\\x8dc\\x88qL\\xc25Gu\\xf5\\x1f\\xe9G\\xa3\\x06F~\\x16_I3\\xfc\\x82\\x12\\xea\\xdd\\xdfP\\xe0u\\xbf^\\xf8\\x98qT\\xd2c\\xed\\xe1\\x83\\xbc\\xe5\\x8b\\x9f)^\\x154+\\xdfsx\\xb9:N\\x86\\\\\\x1d\\x1dq\\x0bm\\xbc>\\xac\\xe6:\\x82n\\xd5G?|\\x9c\\xc9\\x83\\x122~\\x9ch\\x8f\\xce\\xf4\\x9a\\xfc\\xb1\\x0eE\\xedZ\\xe0##\\x16\\x9d\\xba\\x86\\xec~\\xbb\\x98Bn\\x10L]%f\\xa1+\\x9a\\xba\\xea*17\\xd4\\xf5\\xa82_i]\\x02>}\\x0fR\\xae\\xe4 \\xd4\\xcc4\\x1c\\x83\\xa7\\xa1\\xb9.\\xf0\\xb6\\x91`\\xc6\\xc7\\x0fC\\xb5\\tt\\xd4\\xbd\\xad\\x8b\\x18\\x83\\xd8\\x06\\xc5\\xda\\xa4cd\\x12\\xd3\\xe7\\x1e-\\xe1\\n\\xdd\\xfc\\xbd2{\\x0ep\\rP\\x15\\x16:\\x82\\xbc\\xd8\\xf4\\xcf3\\x96x#X\\xc9iKz\\xe5dp.\\x1d\\xe2!d\\x88\\x0e\\x1bq\\x91\\x85\\xbdV\\x87nc\\x1fH\\x05:\\x16n\\x85\\x83\\x7f\\xca\\xe4\\xd1\"$\\xcf\\x04+o\\xef(F\\xbcL\\x89\\x19\\x94\\x98X\\xf9\\xab\\xd8Wz#\\x7f\\xe2\\\\\\xad\\xc7vP\\xe2\\x7f\\xe3\\x99\\x83v\\xb6\\x98\\x14\\xf3~\\xe7[\\xea\\'\\xab\\x850\\xcc\\xbc\\x1a\\x17\\x98\\x03\\xd6\\xd8\\x89T;5\\xe1\\xfe)\\xa6p\\x1a6\\xda\\x02Gp\\xaa]\\x8f\\xfcm\\x83\\xe5\\xc2\\xd7\\xaa\\xf2\\xdf\\xb3\\xd0\\x81:3\\xfa\\xe1)\\x1b\\xe3C6NE\\x1a\\xd4\\x8dn4\\xd4&\\x81*\\x1e|\\xdd\\xb5\\x97\\x8bY\\xd8\\xa7\\xdeU\\x87H\\x02\\xe3qJ6\\xd9\\x1d\\xa7\"\\x9e\\xe9\\x84\\x9djd\\x145\\xc5\\xcb\\xa4P\\xd4\\x8c\\x1a\\xab\\xe1\\xcb\\x90\\xf0(\\xb8\\xf1hG\\xcb\\x81(O\\xed\\xe3\\x18\\xdbl\\xfc\\x19+/\\x1d\\xbeK\\x9ava\\xb2\\xdf.\\x1f\\xab\\x19\\x07\\x04\\xb2\\xed\\xcd\\xc9\\x10\\xc8\\xb1}\\xb7>\\x18\\xfb\\x9fH\\x80\\x1d\\x1ew\\xba\\xef\\xfb\\xabmh\\xd38\\xfd\\xab\\x03\\xd1bzs\\xa0j\\x92f\\xccC4\\x16\\xc8\\xcf\\x03\\\\\\xc1Zhi\\xf6\\x8c\\xbe\\xefS/OW\\x9aI\\x9b\\x02\\xf3\\x8b!;s/\\x0c\\xd8xX\\xd2A\\xf8QF\\xad\\xddw\\xd0\\xca\\x93\\xfc\\\\\\xb7\\xaf+\\xb84\\xe1\\x89\\xd9<\\x984^\\xcf\\xc44M5\\xea*\\x8b\\xf5ku\\xcd.\\xc5\\xb2\\x06\\xf5hA\\xb4 N9M:\\x94\\x93\\xe2w\\xcb\\x13s=\\xacIy\\xf0g\\xb4\\x7f*1\\x08\\xe4\\x99z\\x1bO\\x8cl9v\\x1f\\x85b4\\\\\\xb2\\xad]Q\\xfe\\x1d\\x8cc\\xf0\\xd4\\xc1\\xd44Z\\xd9a\\xb8Ee\\xb48\\xc2fC\\xde\\x05.\\x1b}\\x10M\\xdfu{\\x91\\xa58\\xa3\\x8bD\\x97\\x7f\\xe0\\x92\\xe5\\xa8\\xc6W+\\xf7S\\x1cbU\\xeeQ\\x9b\\x19\\xaak\\xbd\\x9b\\xddc{\\xa7\\x7f\\x02\\x9bD\\xaf\"/\\xae\\xb4\\xa4\\x8e\\xd6\\xd1\\xdbf\\xb3\\x86\\x98\\x95\\xb3\\x95\\xb3g\\xaax\\x90\\xa8\\xee\\x08K\\xeb\\x19\\x9c\\xb8kpcYIw\\x8ciR\\x01\\x14$EP(\\xf9=O\\x0eI\\xa2\\x90\\x18\\xbb\\x89\\xf8Y\\xb3\\xd7sB\\xa5\\xb6Nw\\xcb!\\x8e\\xcc\\xc8\\xdd\\xed\\xdc\\xa5!:g\\x89\\x8b\\xe6\\x12>\\x16\\xa800\\x18\\x1c\\xd6\\xcf\\xfa\\x0f\\x8c3\\xad\\xc5\\xe2\\x87w\\xfa\\x83\\xf5_\\xb7\\xcfK<\\x92j\\x0e\\xc0\\xad\\x83$\\xbbV\\x19r\\x1a\\xc0\\x94n\\xad\\xf5O\\x06x\\x86\\x87\\xd0A<I/v\\x1a\\xf3_\\xb0\\xd6\\x878\\xa3}szN[[\\xbf%\\xbb\\x7ftZ\\xe9\\x8b@\\xce\\x0e\\xf2^\\x81\\'\\xe6&^\\x0cjj)b\\xe2F\\xe0co\\xffe>vpOT\\x8c\\xcb1\\xd9/)\\x97\\x81{\\x1d\\xce\\xf5\\xcfNxM\\x91\\xeb\\xc4\\x03\\x8f-\\x86\\xe0\\xe3\\x05\\xc0\\x97\\xff\\xda\\xc2\\x13S\\x159\\xf4\\xed\\x1e\\xd5@\\xc2\\xa5\\xad]k\\xe7wS\\x8e\\x82\\xd1\\x0f%Y\\x10\\xcdr\\x89\\xd4Ph^\\x8bTd\\xd3\\xc8\\xe4\\x1f\\x15\\x81\\x0f!\\x1b\\x84D\\xf1\\xf9Vrl\\xff\\x00\\xf0K\\x9e\\x08\\xf8qTw\\x19`\\xeeo\\x1f\\xf8\\xf9\\xc8\\xe8\\xef\\xee\\x93\\xc8\\xbbOJWJ\\x18\\xa4\\xee\\xe8j+:V\\xe2\\xef\\x8fF\\xd9\\xa1\\x86w\\xd6Ep\\xa1\\x08\\x85\\x1d\\xfc\\x99\\x86\\xa1\\x96\\x02L\\xe8\\x95\\xd3\\xe8\\xbb\\xbf\\x8aK\\xca\\xfa\\x13\\xcd,\\xafc\\xecNa6\\x94\\x98\\x87H~3\\x946|2P\\xfd\\xcd\\xcb_\\xbc\\xb3\\xad\\xf3\\xe90  \\x0b\\x96\\x19`Q\\xe8\\xeb\\xcfb\\x82\\xc6\\x9a\\x86\\x1c\\x92\\xc1>\\xc78\\xf0\\xb7\\x1cs\\xea0\\xcd\\x97\\xb8\\xc0\\x15\\xf6\\x12s\\x93\\x08nP\\xf8UR\\x9b\\x00vF\\\\\\x97k\\x92z\\xb1\\xdc\\xc3\\xcfS\\x1d/,~\\xe1\\x04-tsm(]\\x0f$\\xe9\\x83N\\'z\\xea\\xff\\x9b\\x80\\xe8\\xe3[(UD\\xf6\\x97\\x909\\x7f\\xdd*^\\xa3\\xdb\\xae\\x00o\\xef(\\x02*\\x95,\\xfe\\x0c5\\xb5)\\xf5\\xa0Z\\x19\\x97\\x0es\\x15ef+?\\xb9\\xc4\\xc9\\xa4\\xa5.1\\xd6\\x10\\xcazP\\x8bl\\xdd\\xe4\\r^\\xe2\\xa8A\\xc3hje\\xa8\\xd9\\x91\\xd6\\xf9u\\xc1\\xdc\\xd8\\xf4\\xb8\\x1e^\\xc3\\x9b\\xba^\\xf9\\xaa\\xe6\\xfb\\x907g-\\x9d`\\xcb\\x0f\"g\\xb6\\x04\\x11R\\xf8\\\\L\\x0e6\\x96\\xaf\\x08@\\xa4F\\x1d\\xd5\\x81o\\xd3\\x95\\xf2\\xc8c\\xf4\\xec\\xd0m*\\x80\\x05\\x9e\\xf7\\x88^\\x1f\\xf8/\\x02\\x90\\x8egP\\xd9\\xb0.\\x87\\xd0| \\xf2\\xca\\xf6\"\\x8fO\\xab\\xa0OE\\x00`\\xca\\x89\\xb4\\xd5%Q\\xc3\\x0b\\xaf\\xa6\\xe1uWS\\x1fh\\x81$@\\xf3\\t\\xda\\xca\\xdc\\xe3$\\x8a|\\xcc\\xfee\\x8a\\x9d\\xe9U\\xc2\\xfcyi]\\xa0XL\\x08\\xedM\\x19\\x03R\\x92\\x17d\\xa88\\xf3+\\x96\\xac\\xc0\\x8d\\xf2e\\x9f\\xcb\\xb6K\\x96\\n\\xf5\\xe1\\x9d\\xf1kV-Q\\x83\\xca=\\xa7\\xa7Io\\x99oa\\x9d1<\\x7f\\xf1\\xe1\\xa0\"\\xb6\\x90\\xb7\\xa8c\\xbbHp\\xf6#tp\\xd4\\xd0\\xc2\\x1dsp{%\\x1a-\\x06\\x19\\xb7\\xc0\\x1fa\\x8d\\xe7`\\tM~.-\\xa0\\xf0?X/WM\\x8d2\\xe2\\xb6\\xf8(*a\\xde\\xc61\\x06;%\\xa1\\x1b\\x8d\\x06\\xa3q\\x8a\\x82\\xf8\\xd9>^\\x1f1v4:\\xa7V\\xe2x\\xa5A\\xad\\x8c\\x93?i\\xeb\\x8a\\xcc~\\xee\\xbd\\xa7oj{\\x93R\\xaaB\\xeeG:f\\x8c\\xb8N\\xa4o[;\\xe7\\xeetD.?\\xc1\\xecM\\xe8`\\xca1\\xfb\\xa6\\xbe\\xcf\\x88[2\\xf9\\xfb:\\xa7\\xfc\\x19K.\\xe8N\\x90\\xae\\xb4\\xd9\\xb5\\xf4\\xfb<\\x1b\\xd0\\xdb\\xfb\\xba\\xf0\\xf8n\\x8b\\x8b\\xa8\\xa0\\xa9< >]\\x19\\xfa\\x07\\x80\\x02j\\xf6\\xdc\\nL\\xa6.\\xe1\\x99\\xec\\xf3\\x16-\\rWY\\x98H\\r$\\xef\\xe8z\\x05?\\x8c\\xfeg\\xc4\\x9f\\x02\\x83g\\xce\\xec\\xbc\\xe1\\xd3\\xccJ\\x06\\xa4PX\\'\\xe2\\xf3\\xb2\\x899\\x0e\\x95\\xea5)(\\x14\\x87\\x1d\\x01$\\xa2\\x80\\x145\\xb4\"/\\x1fQ\\x81 \\xb8\\t\\xef\\xaf\\xce\\x93\\xf1\\xb9\\x9fQ\\xd2\\x84\\xd8~V\\x13xB>\\xb1\\xe3\\'\\x03\\x1f\\xbfn\\xcd\\n\\x9e\\xe2~\\x88\\xeb\\xa0\\x1f)5C%\\xb4\\xe1\\xa6\\x15fz\\x9c\\x83\\x9d\\xf9\\x01\\xe2\\xe1\\xf3\\x11X\\x17\\xd4\\xf1\\xed@\\xa6F:I\\xd1C\\xcbbS\\x0f\\xd3\\xe4\\xa2\\x04\\xffh\\xb8\\xb0rk\\xb5\\x93hr\\xa8\\xf8>5\\x08\\xe4\\xfaI\\xe4\\x08\\x1bW\\xd9R`\\xec\\n\\x8c\\xca\\xad\\x1f\\xf2\\xd8\\x99\"\\xe0%\\xa7\\xfd\\xca\\xfeVF\\xba\\xbe-\\xd4\\xd2\\xf6\\xef\\xb6\\xad\\x0b\\n\\xc0\\xbc\\xcc~\\xe5P\\xa8\\x8b\\xf1\\xfe\\xd0\\xbe;rZS\\xff\\x98#q\\xbd*\\xca5\\xea\\x93\\xb2\\x8aD}\\xd0M\\xb9:\\xc2\\xfd\\xb8\\x92\\xb1\\x81p\\xa2\\x9d\\xdc\\x88\\x04N\\x91\\x92\\x97*<\\x1a\\xde\\x9f\\x11\\x843\\x11e\\xf7\\xfb\\x81\\x9b[I\\xc57\\x8c\\xce\\x11;D\\x8ef\\'bW\\xfe\\xf8`\\xa6\\x87|\\xa6\\xe9GRT\\xb8\\xfa\\x8b[yS3)\\x83,\\x8f6\\x8f.\\x00Hw\\x1d\\xed\\xa0o\\xed\\xf0\\x9aY1\\xcd\\x86R\\xa9\\t\\x07w\\xfe\\xb7\\x14x&7\\x91\\xf8\\x9e\\xeb\\xd3\\xc9gt\\xbeY\\xeak\\xa7\\xb6\\x042|e\\xfe\\xe0\\xa0\\xfa\\xf3\\xd1\\x1f\\x9b\\xbb%\\xbb\\x08\\xefh\\x1f38k\\xa1\\xc3[\\xac\\xad\\x17\"\\x90\\xd8\\x83!\\x0c\\xdax\\x99K\\x8c\\xdbF\\xc0\\xd5\\xf2Y\\xa2\\x9e\\xc8\\x9f\\'\\xd0\\x054y\\xfa\\xe0\\xd6\\xa9\\x1ey<&\\x8a\\xabY#\\x10\\x80\\xcca\\x10\\x03T\\xef\\xb7O\\xc1O\\xa1\\xba\\xb0\\x18g\\xca\\xe7y\\xf0O=aIa\\x07\\x16\\xd4\\xe8\\xb67\\xc5\\xae\\x03\\xa4z\\xec\\xef\\x13\\x9a\\xa8\\xd6/2\\xa3\\xfe\\xc7\\xa3\\xfc\\xe9\\x1f(l\\xcd\\x0f\\x99Ap\\x9d\\xeb\\xd8bL\\xb7@\\x14\\xdc\\x1aF\\xae\\xb3\\xbd\\x8eL?\\x9c\\x8fe\\xf5^\\xbc7\\xb4=\\xf9b\\x94\\xe84\\xb9\\x8eS[\\x12\\x80\\xc7..&/\\x18\\xfc,\\xf1\\x081\\xe9\\xfdq\\xaa\\x81\\x1cI&\\rg\"}y\\xb4\\xcc6\\xb4\\xb6\\xe7\\xae\\xd6\\n\\x93\\xbd\\x8ce\\xc8\\x9a\\x82\\xf8\\x1bnD\\x8a\\xd4R\\xda4'\n"
     ]
    }
   ],
   "source": [
    "#On est obliger de recrée un mot de pass unique pour chiffrer le texte\n",
    "aes = pyaes.AESModeOfOperationCTR(key, pyaes.Counter(iv))\n",
    "ciphertext = aes.encrypt(text)\n",
    "with open(\"project.enc\", \"wb\") as encrypted_file:\n",
    "    encrypted_file.write(ciphertext)\n",
    "print(ciphertext)"
   ]
  },
  {
   "cell_type": "markdown",
   "metadata": {},
   "source": [
    "Petites fonction permettant de tester si le décriptage de texte fonctionne correctement"
   ]
  },
  {
   "cell_type": "code",
   "execution_count": 7,
   "metadata": {},
   "outputs": [
    {
     "name": "stdout",
     "output_type": "stream",
     "text": [
      "b\"Le march\\xe9 des sneakers en France a connu une croissance exponentielle au cours des derni\\xe8res ann\\xe9es, devenant un ph\\xe9nom\\xe8ne de mode et un investissement lucratif pour de nombreux amateurs et professionnels. \\nCe texte explore les multiples faceteurs qui sous-tendent le commerce de sneakers dans l'Hexagone, en mettant en lumi\\xe8re ses dynamiques \\xe9conomiques, culturelles et sociales.\\nD'un point de vue \\xe9conomique, le commerce de sneakers en France est stimul\\xe9 par une demande croissante pour des mod\\xe8les rares et exclusifs. \\nLes \\xe9ditions limit\\xe9es et les collaborations entre marques de renom et designers c\\xe9l\\xe8bres cr\\xe9ent une urgence d'achat, poussant les prix sur le march\\xe9 secondaire \\xe0 atteindre des sommets vertigineux. \\nCette situation a engendr\\xe9 l'\\xe9mergence d'une v\\xe9ritable \\xe9conomie parall\\xe8le, o\\xf9 les sneakers sont non seulement des objets de mode, mais \\xe9galement des actifs sp\\xe9culatifs.\\n\\nSur le plan culturel, les sneakers occupent une place pr\\xe9pond\\xe9rante dans l'univers de la mode et de la street culture fran\\xe7aise. \\nElles transcendent leur simple fonctionnalit\\xe9 pour devenir des symboles d'appartenance \\xe0 des groupes sociaux sp\\xe9cifiques, des marqueurs d'identit\\xe9 et des oeuvres d'art portable. \\nLes lancements de nouveaux mod\\xe8les sont d\\xe9sormais des \\xe9v\\xe9nements m\\xe9diatiques majeurs, attirant l'attention de millions de passionn\\xe9s \\xe0 travers le pays.\\n\\nSocialement, le commerce de sneakers en France refl\\xe8te les changements dans les comportements de consommation. \\nLa mont\\xe9e en puissance des r\\xe9seaux sociaux a permis aux consommateurs de partager leur passion, d'\\xe9changer des conseils sur les derni\\xe8res tendances et de se tenir inform\\xe9s des sorties \\xe0 venir. \\nDe plus, le ph\\xe9nom\\xe8ne de revente a favoris\\xe9 l'entrepreneuriat chez les jeunes, nombreux \\xe9tant ceux qui ont saisi cette opportunit\\xe9 pour lancer leur propre business de revente de sneakers.\\n\\nEn conclusion, le commerce de sneakers en France est un miroir des tendances actuelles en mati\\xe8re de mode, d'\\xe9conomie et de culture. \\nIl illustre parfaitement comment un produit peut transcender sa fonction premi\\xe8re pour devenir un v\\xe9ritable ph\\xe9nom\\xe8ne social, englobant une multitude de dimensions. \\nCe march\\xe9 dynamique et en constante \\xe9volution continuera sans doute d'attirer de nouveaux adeptes, tout en d\\xe9fiant les conventions et en repoussant les limites de la mode et du commerce.\"\n"
     ]
    }
   ],
   "source": [
    "#Et du coup de le regénéré\n",
    "aes = pyaes.AESModeOfOperationCTR(key, pyaes.Counter(iv))\n",
    "print(aes.decrypt(ciphertext))"
   ]
  },
  {
   "cell_type": "markdown",
   "metadata": {},
   "source": [
    "Pour le cryptage ElGalmal nous allons prendre les variables que l'énoncé nous donnes et généré une variable B permettant de retrouver notre variable N qui contient la clé et le compteur iv"
   ]
  },
  {
   "cell_type": "code",
   "execution_count": 8,
   "metadata": {},
   "outputs": [
    {
     "data": {
      "text/plain": [
       "(6562940414057677943035811, 5225592046137241832847437)"
      ]
     },
     "execution_count": 8,
     "metadata": {},
     "output_type": "execute_result"
    }
   ],
   "source": [
    "p = 7946851324679854613245823\n",
    "g = 5\n",
    "A = 7579501795988122393422986\n",
    "\n",
    "b = random.SystemRandom().randint(2, p-2)\n",
    "\n",
    "# Calcul de B et C pour ElGamal\n",
    "B = pow(g, b, p)\n",
    "K = pow(A, b, p)  # Clé secrète partagée\n",
    "C = (K * N) % p  # Chiffrement de N avec la clé secrète partagée\n",
    "\n",
    "B, C"
   ]
  },
  {
   "cell_type": "code",
   "execution_count": 9,
   "metadata": {},
   "outputs": [
    {
     "data": {
      "text/plain": [
       "'K = pow(B, g, p)\\n\\n# Calculer l\\'inverse modulaire de K\\nK_inv = gm.invert(K, p)\\n\\n# Récupérer N\\nN = (C * K_inv) % p\\n\\nprint(N)\\n\\npassword, iv = str(N)[:-13], int(str(N)[-10:])  # Ceci est un exemple; ajustez selon la structure réelle de N\\nprint(password,iv)\\n# Dérivation de la clé AES à partir du mot de passe\\nkey = pbkdf2_hmac(\\'sha256\\', password.encode(\\'utf-8\\'), salt, 100000, dklen=32)\\n\\naes = pyaes.AESModeOfOperationCTR(key, pyaes.Counter(iv))\\n\\n# Lire le fichier chiffré\\nwith open(\"project.enc\", \"rb\") as encrypted_file:\\n    ciphertext = encrypted_file.read()\\n# Déchiffrer le contenu\\naes = pyaes.AESModeOfOperationCTR(key, pyaes.Counter(iv))\\nprint(aes.decrypt(ciphertext)) '"
      ]
     },
     "execution_count": 9,
     "metadata": {},
     "output_type": "execute_result"
    }
   ],
   "source": [
    "\"\"\"K = pow(B, g, p)\n",
    "\n",
    "# Calculer l'inverse modulaire de K\n",
    "K_inv = gm.invert(K, p)\n",
    "\n",
    "# Récupérer N\n",
    "N = (C * K_inv) % p\n",
    "\n",
    "print(N)\n",
    "\n",
    "password, iv = str(N)[:-13], int(str(N)[-10:])  # Ceci est un exemple; ajustez selon la structure réelle de N\n",
    "print(password,iv)\n",
    "# Dérivation de la clé AES à partir du mot de passe\n",
    "key = pbkdf2_hmac('sha256', password.encode('utf-8'), salt, 100000, dklen=32)\n",
    "\n",
    "aes = pyaes.AESModeOfOperationCTR(key, pyaes.Counter(iv))\n",
    "\n",
    "# Lire le fichier chiffré\n",
    "with open(\"project.enc\", \"rb\") as encrypted_file:\n",
    "    ciphertext = encrypted_file.read()\n",
    "# Déchiffrer le contenu\n",
    "aes = pyaes.AESModeOfOperationCTR(key, pyaes.Counter(iv))\n",
    "print(aes.decrypt(ciphertext)) \"\"\""
   ]
  },
  {
   "cell_type": "markdown",
   "metadata": {},
   "source": [
    "## Exercice 3"
   ]
  },
  {
   "cell_type": "markdown",
   "metadata": {},
   "source": [
    "* Démonstration de la signature ElGamal ou RSA (avec des nombres différents de ceux du cours).\n",
    "* Exemple d'utilisation du RSA, Diffie-Hellman, ElGamal ou de la signature ElGamal dans Python ou openssl (contexte réel)."
   ]
  },
  {
   "cell_type": "markdown",
   "metadata": {},
   "source": [
    "#### 1. Démonstration de la signature ElGamal ou RSA (avec des nombres différents de ceux du cours)."
   ]
  },
  {
   "cell_type": "code",
   "execution_count": 10,
   "metadata": {},
   "outputs": [
    {
     "name": "stdout",
     "output_type": "stream",
     "text": [
      "Signature valide : True\n"
     ]
    }
   ],
   "source": [
    "# Fonction pour calculer l'inverse modulo\n",
    "def inverse_modulo(a, m):\n",
    "    m0, x0, x1 = m, 0, 1\n",
    "    while a > 1:\n",
    "        q = a // m\n",
    "        m, a = a % m, m\n",
    "        x0, x1 = x1 - q * x0, x0\n",
    "    return x1 + m0 if x1 < 0 else x1\n",
    "\n",
    "# Fonction pour calculer la signature\n",
    "def sign_elgamal(m, x, p, g):\n",
    "    # Sélection d'un nombre aléatoire k\n",
    "    k = random.randint(2, p - 2)\n",
    "    while pow(k, -1, p - 1) == 0:  # Assure que k est premier avec p-1\n",
    "        k = random.randint(2, p - 2)\n",
    "    r = pow(g, k, p)\n",
    "    k_inv = inverse_modulo(k, p - 1)\n",
    "    s = (m - x * r) * k_inv % (p - 1)\n",
    "    return r, s\n",
    "\n",
    "# Fonction pour vérifier la signature\n",
    "def verify_elgamal(m, r, s, y, p, g):\n",
    "    v1 = pow(g, m, p)\n",
    "    v2 = (pow(y, r, p) * pow(r, s, p)) % p\n",
    "    return v1 == v2\n",
    "\n",
    "# Paramètres ElGamal\n",
    "p = 257\n",
    "g = 3\n",
    "x = 97\n",
    "\n",
    "# Clé publique\n",
    "y = pow(g, x, p)\n",
    "\n",
    "# Message à signer\n",
    "m = 123\n",
    "\n",
    "# Signature\n",
    "r, s = sign_elgamal(m, x, p, g)\n",
    "\n",
    "# Vérification de la signature\n",
    "valid = verify_elgamal(m, r, s, y, p, g)\n",
    "\n",
    "print(\"Signature valide :\", valid)\n"
   ]
  },
  {
   "cell_type": "markdown",
   "metadata": {},
   "source": [
    "#### 2. Exemple d'utilisation du RSA, Diffie-Hellman, ElGamal ou de la signature ElGamal dans Python ou openssl (contexte réel)."
   ]
  },
  {
   "cell_type": "markdown",
   "metadata": {},
   "source": [
    "Supposons que nous ayons un fichier texte appelé \"format.txt\" contenant le message à signer.\n"
   ]
  },
  {
   "cell_type": "markdown",
   "metadata": {},
   "source": [
    "\n",
    "**a) Génération des clés RSA :**\n",
    "Tout d'abord, nous devons générer une paire de clés RSA privée/publique à l'aide d'OpenSSL."
   ]
  },
  {
   "cell_type": "code",
   "execution_count": 11,
   "metadata": {
    "vscode": {
     "languageId": "shellscript"
    }
   },
   "outputs": [
    {
     "name": "stderr",
     "output_type": "stream",
     "text": [
      "......+..+..........+...+..+......+...............+....+...+..+......+....+...+...........+.+++++++++++++++++++++++++++++++++++++++*.+...+........+....+.....+++++++++++++++++++++++++++++++++++++++*...+.........+..............+.+......+...+..+.........+....+......+.....+................+..+.+....................+......................+........+............+...+.........+.+..............+...+.......+...............+...++++++\n",
      "....+..+....+++++++++++++++++++++++++++++++++++++++*......+....+..+...+...+....+...+++++++++++++++++++++++++++++++++++++++*.......+.........+..+...............+....+.........+..+...+..........+..+...+...+....+......+...+..+...+.+......+........+.+.....+.+.....+.......++++++\n",
      "writing RSA key\n"
     ]
    }
   ],
   "source": [
    "!openssl genpkey -algorithm RSA -out private_key.pem\n",
    "!openssl rsa -pubout -in private_key.pem -out public_key.pem"
   ]
  },
  {
   "cell_type": "markdown",
   "metadata": {},
   "source": [
    "Ces commandes génèrent une clé privée private_key.pem et une clé publique correspondante `public_key.pem`.\n"
   ]
  },
  {
   "cell_type": "markdown",
   "metadata": {},
   "source": [
    "\n",
    "**b) Signature du message :**\n",
    "\n",
    "Ensuite, nous signons le message avec notre clé privée."
   ]
  },
  {
   "cell_type": "code",
   "execution_count": 12,
   "metadata": {
    "vscode": {
     "languageId": "shellscript"
    }
   },
   "outputs": [],
   "source": [
    "!openssl dgst -sha256 -sign private_key.pem -out signature.bin format.txt"
   ]
  },
  {
   "cell_type": "markdown",
   "metadata": {},
   "source": [
    "Cela crée une signature du message dans le fichier signature.bin.\n"
   ]
  },
  {
   "cell_type": "markdown",
   "metadata": {},
   "source": [
    "**c) Vérification de la signature :**\n",
    "\n",
    "Pour vérifier la signature avec la clé publique correspondante, nous utilisons :"
   ]
  },
  {
   "cell_type": "code",
   "execution_count": 13,
   "metadata": {
    "vscode": {
     "languageId": "shellscript"
    }
   },
   "outputs": [
    {
     "name": "stdout",
     "output_type": "stream",
     "text": [
      "Verified OK\n"
     ]
    }
   ],
   "source": [
    "!openssl dgst -sha256 -verify public_key.pem -signature signature.bin format.txt"
   ]
  },
  {
   "cell_type": "markdown",
   "metadata": {},
   "source": [
    "Si la vérification réussit, OpenSSL affichera \"Verified OK\".\n"
   ]
  }
 ],
 "metadata": {
  "kernelspec": {
   "display_name": "Python 3",
   "language": "python",
   "name": "python3"
  },
  "language_info": {
   "codemirror_mode": {
    "name": "ipython",
    "version": 3
   },
   "file_extension": ".py",
   "mimetype": "text/x-python",
   "name": "python",
   "nbconvert_exporter": "python",
   "pygments_lexer": "ipython3",
   "version": "3.11.1"
  }
 },
 "nbformat": 4,
 "nbformat_minor": 2
}
