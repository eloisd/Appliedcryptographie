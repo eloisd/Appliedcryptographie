{
 "cells": [
  {
   "cell_type": "markdown",
   "metadata": {},
   "source": [
    "Code pour projet crypto\n",
    "\n",
    "Import des librairies"
   ]
  },
  {
   "cell_type": "markdown",
   "metadata": {},
   "source": [
    "**Date limite :** Mercredi 27 mars 2024\n",
    "\n",
    "**Groupe TD DIA 6 :**\n",
    "\n",
    "Henri Serano, Sara Thibierge, Eloi Seidlitz"
   ]
  },
  {
   "cell_type": "code",
   "execution_count": 149,
   "metadata": {},
   "outputs": [],
   "source": [
    "import hashlib\n",
    "import random \n",
    "import gmpy2 as gm\n",
    "import math\n",
    "import time\n",
    "import base64\n",
    "import os, binascii\n",
    "from backports.pbkdf2 import pbkdf2_hmac\n",
    "import pyaes, pbkdf2, secrets\n"
   ]
  },
  {
   "cell_type": "markdown",
   "metadata": {},
   "source": [
    "## Exercice 1"
   ]
  },
  {
   "cell_type": "markdown",
   "metadata": {},
   "source": [
    "1. Trouver une chaîne de caractères (contenant vos noms et prénoms) dont le hash SHA256 se termine par le plus de zéros possible (en hexadécimal).\n",
    "\n",
    "2. Mesurer le temps moyen pour obtenir n et n+1 zéros en fin de chaîne (n = 5) et calculer le rapport Tn+1/Tn."
   ]
  },
  {
   "cell_type": "markdown",
   "metadata": {},
   "source": [
    "### Partie 1"
   ]
  },
  {
   "cell_type": "markdown",
   "metadata": {},
   "source": [
    "Nous allons faire une fonction permettant de trouver une combinaison du chiffrage de la phrase avec l'algorithme sha256 qui finit avec un nombre finit de 0"
   ]
  },
  {
   "cell_type": "code",
   "execution_count": null,
   "metadata": {},
   "outputs": [],
   "source": [
    "def trouver_chaine(base, zeros_cibles):\n",
    "        compteur = 0\n",
    "        while True:\n",
    "            chaine_test = base + str(compteur)\n",
    "            hash_resultat = sha256_hash(chaine_test)\n",
    "            if hash_resultat.endswith('0' * zeros_cibles):\n",
    "                return chaine_test, compteur, hash_resultat\n",
    "            compteur += 1\n",
    "\n",
    "def sha256_hash(chaine):\n",
    "        return hashlib.sha256(chaine.encode()).hexdigest()"
   ]
  },
  {
   "cell_type": "markdown",
   "metadata": {},
   "source": [
    "Cette fonction permet d'executer la fonction et de trouver les différentes statistique en lien avec ce cryptage"
   ]
  },
  {
   "cell_type": "code",
   "execution_count": 150,
   "metadata": {},
   "outputs": [
    {
     "data": {
      "text/plain": [
       "{'chaine_trouvee': 'Serano_Henri__Sara_Thibierge__Eloi_Seidlitz_DIA677031',\n",
       " 'hash_trouve': '31e6f8e6377ad1c9895ef7c22b0ef9a252c0f0ec9d062178c58b416bcb470000',\n",
       " 'compteur_trouve': 77031,\n",
       " 'temps_moyen_n': 0.11106181144714355,\n",
       " 'temps_moyen_n_plus_1': 0.3569697380065918,\n",
       " 'rapport_temps': 3.2141537523587083}"
      ]
     },
     "execution_count": 150,
     "metadata": {},
     "output_type": "execute_result"
    }
   ],
   "source": [
    "def trouver_chaine_et_stats(base, zeros_cibles, iterations_stat=5):\n",
    "    \n",
    "\n",
    "    # Première partie : Trouver la chaîne\n",
    "    chaine_trouvee, compteur_trouve, hash_trouve = trouver_chaine(base, zeros_cibles)\n",
    "\n",
    "    # Deuxième partie : Statistiques de temps\n",
    "    temps_n = []\n",
    "    temps_n_plus_1 = []\n",
    "    \n",
    "    for _ in range(iterations_stat):\n",
    "        debut = time.time()\n",
    "        trouver_chaine(base, zeros_cibles)\n",
    "        fin = time.time()\n",
    "        temps_n.append(fin - debut)\n",
    "\n",
    "        debut = time.time()\n",
    "        trouver_chaine(base, zeros_cibles + 1)\n",
    "        fin = time.time()\n",
    "        temps_n_plus_1.append(fin - debut)\n",
    "\n",
    "    temps_moyen_n = sum(temps_n) / len(temps_n)\n",
    "    temps_moyen_n_plus_1 = sum(temps_n_plus_1) / len(temps_n_plus_1)\n",
    "\n",
    "    rapport_temps = temps_moyen_n_plus_1 / temps_moyen_n\n",
    "\n",
    "    return {\n",
    "        \"chaine_trouvee\": chaine_trouvee,\n",
    "        \"hash_trouve\": hash_trouve,\n",
    "        \"compteur_trouve\": compteur_trouve,\n",
    "        \"temps_moyen_n\": temps_moyen_n,\n",
    "        \"temps_moyen_n_plus_1\": temps_moyen_n_plus_1,\n",
    "        \"rapport_temps\": rapport_temps\n",
    "    }\n",
    "\n",
    "\n",
    "base_chaine = \"Serano_Henri__Sara_Thibierge__Eloi_Seidlitz_DIA6\"\n",
    "zeros_cibles = 4 # Nombre de zéros à la fin du hash\n",
    "resultats = trouver_chaine_et_stats(base_chaine, zeros_cibles)\n",
    "resultats\n"
   ]
  },
  {
   "cell_type": "markdown",
   "metadata": {},
   "source": [
    "## Exercice 2"
   ]
  },
  {
   "cell_type": "markdown",
   "metadata": {},
   "source": [
    "1. Chiffrer un texte d'environ une demi-page (format .txt) avec AES256-CTR-PBKDF2 en utilisant un mot de passe et une valeur de compteur (IV) de 6 à 9 chiffres (sans 0).\n",
    "\n",
    "2. Constituez un entier N en accolant le mot de passe et l'IV séparés par quatre 0.\n",
    "\n",
    "3. Chiffrer N avec ElGamal en utilisant les nombres p, g et A fournis.\n",
    "\n",
    "4. Sauvegarder le fichier chiffré avec l'extension .enc.\n",
    "\n",
    "Nous allons importer le texte directement depuis un fichier txt"
   ]
  },
  {
   "cell_type": "code",
   "execution_count": 151,
   "metadata": {},
   "outputs": [
    {
     "data": {
      "text/plain": [
       "\"Le marché des sneakers en France a connu une croissance exponentielle au cours des dernières années, devenant un phénomène de mode et un investissement lucratif pour de nombreux amateurs et professionnels. \\nCe texte explore les multiples faceteurs qui sous-tendent le commerce de sneakers dans l'Hexagone, en mettant en lumière ses dynamiques économiques, culturelles et sociales.\\nD'un point de vue économique, le commerce de sneakers en France est stimulé par une demande croissante pour des modèles rares et exclusifs. \\nLes éditions limitées et les collaborations entre marques de renom et designers célèbres créent une urgence d'achat, poussant les prix sur le marché secondaire à atteindre des sommets vertigineux. \\nCette situation a engendré l'émergence d'une véritable économie parallèle, où les sneakers sont non seulement des objets de mode, mais également des actifs spéculatifs.\\n\\nSur le plan culturel, les sneakers occupent une place prépondérante dans l'univers de la mode et de la street culture française. \\nElles transcendent leur simple fonctionnalité pour devenir des symboles d'appartenance à des groupes sociaux spécifiques, des marqueurs d'identité et des oeuvres d'art portable. \\nLes lancements de nouveaux modèles sont désormais des événements médiatiques majeurs, attirant l'attention de millions de passionnés à travers le pays.\\n\\nSocialement, le commerce de sneakers en France reflète les changements dans les comportements de consommation. \\nLa montée en puissance des réseaux sociaux a permis aux consommateurs de partager leur passion, d'échanger des conseils sur les dernières tendances et de se tenir informés des sorties à venir. \\nDe plus, le phénomène de revente a favorisé l'entrepreneuriat chez les jeunes, nombreux étant ceux qui ont saisi cette opportunité pour lancer leur propre business de revente de sneakers.\\n\\nEn conclusion, le commerce de sneakers en France est un miroir des tendances actuelles en matière de mode, d'économie et de culture. \\nIl illustre parfaitement comment un produit peut transcender sa fonction première pour devenir un véritable phénomène social, englobant une multitude de dimensions. \\nCe marché dynamique et en constante évolution continuera sans doute d'attirer de nouveaux adeptes, tout en défiant les conventions et en repoussant les limites de la mode et du commerce.\""
      ]
     },
     "execution_count": 151,
     "metadata": {},
     "output_type": "execute_result"
    }
   ],
   "source": [
    "with open(\"format.txt\", \"r\",encoding=\"utf-8\") as file:\n",
    "    text = str(file.read())\n",
    "text"
   ]
  },
  {
   "cell_type": "markdown",
   "metadata": {},
   "source": [
    "Nous allons initialisé nos différentes clés de sorte que l'on ait le bon nombre de 0"
   ]
  },
  {
   "cell_type": "code",
   "execution_count": 152,
   "metadata": {},
   "outputs": [
    {
     "name": "stdout",
     "output_type": "stream",
     "text": [
      "password:  123456789\n",
      "IV :  9429588\n",
      "N :  12345678900009429588\n"
     ]
    }
   ],
   "source": [
    "def generate_non_zero_number(length,password):\n",
    "    return int(''.join(secrets.choice(password) for _ in range(length)))\n",
    "password = \"123456789\"\n",
    "salt = os.urandom(16)\n",
    "key = pbkdf2.PBKDF2(password, salt).read(32)\n",
    "iv = generate_non_zero_number(random.randint(6, 9),password)\n",
    "\n",
    "N = int(password + \"0000\" + str(iv)) \n",
    "print(\"password: \",password)\n",
    "print(\"IV : \",iv)\n",
    "print(\"N : \",N)\n",
    "\n"
   ]
  },
  {
   "cell_type": "markdown",
   "metadata": {},
   "source": [
    "Après avoir généré les différentes clés nous allons crypté avec l'algo AES avec le mode CTR"
   ]
  },
  {
   "cell_type": "code",
   "execution_count": 153,
   "metadata": {},
   "outputs": [
    {
     "name": "stdout",
     "output_type": "stream",
     "text": [
      "b'2%z\\xf0Tb-],\\xf3\\xddy\\xff\\x80\\xdaIB\\xf9\\x94\\xeaT\\xf4t3\\x953\\x8e\\x9f\\x7f\\x02\\xbc\\xcdO\\xa1B\\xdfvRy\\x1a\\xa8>\\xbb\\xef\\x84\\'4\\x9caj\\x029V\\xc5\\xe1d\\xdfE\\xd0\\x11=\\xca\\xb0+Z\\xaf\\xecV\\x1b\\xb1\\x10\\x12\\x98r\\x84\\x83[k\\x1d\\xb5p]c\\xaa\\x0b}\\xc7{rY\\xe8\\xb5\\x8a\\x15>6\\xc3\\x04\\x0f\\xf6\\xf6\\xac\\x9e\\xf2\\xcd8\\xa9\\xe5\\x1e\\xa1\\xf8Fk\\xcd/\\x02\\xe6\\xba\\x9fs)\\xb5\\\\|\\x08[Z\\xa8i\\xc1l\\x7f\\xe8}\\xaf\\x14\\r\\x88)\\x81\\xe5F\\xb4`\\xef\\xb0\\x91\\xf2\\xc3\\nQ\\x1d\\x88\\x11\\x1d\\xdd\\x95\\xd7\\x15\\x8b\\xbe\\x82wp\\x99a\\xac\\xbe\\xf8\\xf1y\\xe8.m^\\x92\\xbf\\xe9\\x0f\\xb5\\xbf\\xac\\xa7\\xfd\\xa0\\x0e\\x92\\xc1_\\x06D\\x97v\\xcc\\\\\\xce\\xd2\\x1c\\x8b\\xfe\\xff~\\xea(\\x85P\\x1f.\\x0c\\x0cL+_\\xab\\xfb}\\n\\x1e\\xee\\xed\\x1b\\xae\\xed\\x87\\xbe\\x89I\\x16e\\xd6>\\xc0\\xce\\xe3\\xdc7!\\xe7\\x0b>\\xbf|t\\x96\\x82\\x92d\\xfcIz<q}\\xa76\\x8a\\xde\\xce\\xbe\\xc0\\xce-G\\xf6\\x91\\xa9\\x83:\\x00\\xb9\\xbd\\x06\\xd1\\xf6\\xbfT\\xc6\\x0bF\\x0e\\x01\\x8c\\x12\\xa2X3\\xf4\\xf7\\xa0A\\x85B\\x8f\\xaf,e\\x03\\xcd\\xc2QI`\\xe44\\x82\\x9e\\x0bJ)4\\t2\\x8d\\x0fA\\xee\\xd0Z\\xb4\\xc1`\\xdfT\\x88\\xe9g\\xad\\x08\\xca\\x1c\\xb3\\xe0\\xabQ\\xd2\\xf9\\x80\\x9c}Y7pn\\x83\\x04\\xb7g\\xd9A!Qw\\x179r\\x08\\x9e.SY\\n\\xfdKu\\xa5p\\x06\\xc2\\x8c\\x1a\\xb7\\xc8*l\\xf1\\x06\\x1cT\\xfd\\xa2\\xdc\\xf0\\xd2=\\xa3\\x8c\\xe7aNN\\x01\\x12\\x85\\xfb\\xa0\\xa9\\xfe\\xdb\\x13\\x9e\\x97J\\x85\\xf8\\xed`Vc0\\x88\\xd3\\nk\\xf9\\xc2\\x14$0C[C\\xb0s\\xf1\\x9f{9\\x82^\\xae\\xfe\\x9e\\xe7\\x98^\\x00\\x07\\xc6\\xdb\\xc5j\\x85\\xe880\\xa1\\xd0\\x88E\\x89R_\\xca\\xa1\\xd8\\xaa\\x14GV\\xa3%-]8\\x07f\\x0fFGL6\\xa4\\x8c\\xec\\xcd\\xe1#\\x13\\xa3\\xd3\\x02\\xb3\\xf1L4F\\xfd\\x07\\x14\\xe9\\x9a^r%J\\xcd\\xa8\\xa6\\xdd9\\x8a\\x08\\x04ow4\\xb1\\xd9\\n\\x86\\x1e\\x1a(\\x1aG~U\\xd6ofD\\xd3\\xfe\\xd1\\xab[\\x15P\\r{U O\\xda\\xcc\\xbe\\xe6\\xa9\\xbc_\\x01J1\\x8b\\x01\\x06\\x89\\x9c@\\xcd\\xefW=\\x03\\xeb\\xd62\\xea\\x84\\x91\\x8a>\\xc2\\xa3\\x07\\xae\\x817\\x18j\\xaa\\xa6\\x164\\x1e\\xecC4G\\xf8\\x01G^XE\\xcbt)f\\xaf\\x8b\\\\m:p!\\x89m\\x91p{\\xb9\\x82C9\\xc5a\\x8f~\\x9e\\xd4\\xe6\\x8f\\x95\\x16\\xa7\\x97\\xf9\\x12\\xac\\xa9\\xfc\\x88\\x18\\xa3GP\\x06\\x18\\xb7\\xbdF\\xc8\\x03\\xe5\\xb3\\x81\\xb8\\xeb\\xe34\\xadb\\xb37\\x1b\\xca\\xae\\xe6\\x18x\\xcd\\xbd\\'\\x03\\x90}U\\x12\\xae3\\xae\\xf7\\x8e\\x8aP8\\x81S_P%t\\\\N\\xad\\xedb\\x9c\\xe0\\xf7\\x97<\\xe2\\xef\\x9b\\x88\\xb8(\\x960\\x80\\x16S`\\x9a\\xa80\\xd4\\xfcA\\x12\\xad\\x90M\\xd8)\\xf1\\xb9?\\xcc\\\\p\\xe4\\x99\\xf8^\\x85\\xbcL\\x97Z\\xeeC\\x1f\\x0f\\xb2\\xed<\\xa5\\xe68\\xd8yQh\\x0f\\x10N\\x9cm\\xd5P\\xd9\\x08\\x05\\xa0\\xe3g\\x0b\\xec|}\\x9fUg7\\xa8<f\\xbf;\\x8dQ+\\xfe\\xee\\xcci\\xf7\\xcd\\xd7+\\xef\\x17\\\\u\\xe1\\n6\\x9f\\xcf\\xd7\\x86\\xf3\\xf3\\xa6\\xf1\\xfaJ\\xbbWLX\\xab\\x87\\x7f\"\\xed\\x1e3\\xf2\\x8a\\x14\\x92-\\xde\\xa8{\\xb9\\xcf=\\xde\\xbfQ\\xf4\\xffe\\r?kW\\xe0\\x9e\\xc5B=\\x92\\x8b\\xc8\\xa7\\xc4\\xaa/Z\\x8dW@\\x1c\\x8al\\xef\\xba\\xdc\\xf0\\xa1\\x9f\\xb7q\\x9b\\xae\\xdd\\xf1\\x9c\\xaf\\x03f\\x1f\\x1e72\\x1a@\\x85\\x11\\x1d\\xe2\\xe0b\\xae\\x87v\\xf8\\xfb\\x1d\\xa8\\xb4\\x1d\\x86v\\nG\\x14\\x17R\\xbb\\x11\\x89\\xd8|b\\xf3=\\xce\\xd1\\xc1S9\\xe7\\x90\\x14\\r1G\\xae\\x19}\\x1cK\\x1b]\\xaabS\\xc05f\\x1bu\\x9a\\xdbR\\xea\\x95\\xa3)\\x9d\\x13z\\x98\\x8bP\\xd2\\xe6\\xe0\\xd2\\x19gK\\x07\\xd9\\xc8S\\xb8\\xb7\\xce\\x18\\x89\\x1f@\\x99\\xfb#\\xf4\\xa4CC}\\x8a\\x91:\\xdf3\\xb5\\xae\\x90\\xe1w1\\xe3\\x7f\\xe4B\\xc1H\\xf6w\\xa7\\x86z\\xe7\\xaa\\xc6\\xaeD\\xf8\\xb9`A\\xc2]\\xb1$\\x1b!\\xf4[\\x86\\xb3\\xc3\\x00v\\xc9(l9\\xc1\\xbe(k\\x9e\\xdd\\xe8\\xbe\\xe2\\xe7\\xc5\\xbb\\xd0\\x02^x\\xd7[\\x15gE0\\xafSw\\x12c\\x16~\\xacp\\xce>\\x0e\\xf6\\x94\\x8a4k\\xff1\\xd4\\x0f\\xb1\\x0c%zr\\xa6(z!\\x86\\x84.u@\\xb8~L$\\xe5dBa\\x92\\xcf\\x8eJ\\x81;\\x07;A\\x07\\xcc\\x8aQZ\\x13j~\\x12\\x83\\x1cL\\x84\\x90\\xd4\\x06h\\x86\\xb5\\x04\\xd1\\xd8\\xdcx\\xa2@\\xeb\\xe9\\x0f\\x10v\\x8a\\xf1d\\xa6\\xf3P^W\\xa8u\\x9a\\xc8\\x05;qg\\xb5\\xd7\\xbd\\x9e\\xfa\\xdf64\\xc1[\\xc5\\xebp\\xd3&\\xbbgt\\xfeS\\x18\\xb2\\xb5\\x00\\x92\\x083\\xae3D\\x8a4z)\\x17\\xc7\\x7f\\xd1\\xb1\\x81M\\xfd\\xc0$\\xa2@\\xf34\\x97\\rO\\x85z\\xe5\\x13$\\x96\\xa8z\\xa3M\\xf9;8\\x89(\\xbcR\\xdex\\xc4zD8h(\\xd3\\xeb\\x8eN\\xd7\\xb5\\xf8g\\x07I\\xf1\\xab\\xa3\\x8e\\x89g\\x01r\\xe0\\x19Q\\xf3\\xe5 ~Z\\xb69-6>/ls\\x90+\\x8609\\xe4\\xf0\\xcb\\x11\\x07l\\xe9\\xa6\\xc2\\x7f\\xee4\\x98\\x7f,D\\x81!\\x97\\xd3\\xfe\\xed\\x0b\\xe6Y\\xbb9\\x14\\x94\\xaf\\xd9\\n\\x83\\xf7\\x83\\xa33\\xf0\\xa3#A8\\x9b\\xfb\\x87\\xc1\\x08\\xa0\\xbb\\x10=CI\\xc4Z\\xc4\"\\xf8\\xfb\\x1e\\x0es\\x98\\xbaA\\xbb5\\xd3Ue\\xbe\\x00\\xd3\\x142c\\xff]\\x96\\xe1\\xcb4\\xe5o\\x1d\\x15*\\xbc\\xeaiQ\\xf8\\x17\\xe3\\xe7\\x1d{\\x89a+\\x9dH\\xaf\\x8a\\x99\\xa0\\x0f\\t\\xe3\\x1a\\xde\\x11\\r\\xf7x\\xaa\\xfcK\\xde\\xd6:\\x02>\\x90\\x93D\\x86\\xc9\\x9c\\xf8\\x7f9w\\x18\\xda:\\x9b\\x1a\\x1aM\\xb8\\xf1\\x1ff\\xean\\x8f\\xe0?\\x97\\x12/\\xdc!7n%\\x17\\xb42\\xe6\\xce\\x9e\\x81\\xc5\\xf7\\x8aJ\\xdfT:m\\x8a\\xed\\xc4\\x8f\\xed\\x91%7O\\xe9\\x19\\xb2\\xcc\\x16\\x04\\x14U8H\\xfb`\\xef_\\xb1\\x91a\\xdc\\xec3\\x15\\x02\\xd4\\xefA_\\x9a/\\x1b\\xaff?\\xbc\\n\\x8b\\xa5\\xab\\xed^\\xc6s/\\xf6fZ\\xcc>\\xaaEn\\x1c8\\xa4\\xd2\\xe2X\\xae\\xc5\\x910\\xe1\\x86n\\xe6b4\\xd3\\x90\\x02\\xdb\\xe0*\\xa1\\x87`A\\xf6\\xda@\\xc8M\\xd6~\\xd5\\xb2\\x7fF~\\xb2\\xdd\\x11\\xf2F\\xfd\\xc2\\xab\\x1e\\xa8\\xf6\\xab\\xb5\\x047\\xfbi\\xf3@\\x98lp\\xba\\xa7\\x98\\xd5\\xfb\\x03\\xf6\\xfc\\x9a\\x96\\x9e\\xd0\\xd6Y\\x06\\xf2}@\\x10A\\x18\\xf8\\xcc3\\xdb)\\x96m\\xdd\\x05\\xea\\'V\\xa4\\x04\\x83=\\xf5k\\x07\">\\x87\\xaa\\x0eZ\\t\\xd7&\\xb2\\xfb<+M\\xa1\\x9f\\x17\\xffWy\\x1a\\x82\\x95\\xb8\\xc4\\xce\\x9d+\\x03\\xe4\\x1d\\x9ak\\xc6\\xd75^\\xf6\\xb9\\xe8\\xd9|\\xa5\\x1a\\xb85\\x9e\\xb1\\xff\\x17G\\xd7\\x11`\\xedq\\xc67-\\x13\\xad\\xc5\\xa3\\x08\\xbe\\xb8\\xdc\\x1aVR4I\\xf2\\x1e\\'aKsrz\\xec$\\x15|2\\xdf\\xdf\\x1f\\xd6\\xb7\\x15\\x16[\\x8cu\\xa5\\x14\\xbd6+\\xb0\\x9b~+\\x8eO\\xa3\\xbf\\xc2&\\x82\\x80\\xce\\xeb^\\x91\\xf2\\xd4$\\xe0\\x87dH\\xe3\\x11\\xac\\x14\\xa4\\xf4#\\xe5\\x87\\x9a\\xd3h\\xf4W`>y\\xf3ga\\x83o[\\x9fh&\\xeb}\\xf4=\\xa4bq\\x84\\x82\\xcf$(\\x00\\xd7\\x7fB\\xb5\\xc7\\xad\\xb1\\xa8|T\\xc9^Aw.2\\xfb\\xeb(\\x11\\x85\\xaa\\xbc\\r<\\xba\\xff\\xeb\\xef\\x11Q\\xdaK\\x0f\\x86)\\xf6:L6\\xcd[\\xc8[- q\\xf8\\xa0Sp\\x12\\xd1\\xfc\\x1d\\xb0>2\\xb9\\xbb\\xc6\\xb7\\x1e\\x84\\x95\\x9e#\"$(\\xd1\\r\\x18\\xd8\\xfd\\xcd\\x1d\\xa4\\xc6\\xebD?\\xa6\\x82-B\\x9b0\\x14cdU\\xbfz\\xc3S=Vw\\x06\\x14\\xf4\\x85`f\\x83\\x00E\\x8d\\xe4J\\xc2\\xb1\\x9a\\xfe?\\xd5\\x88\\x9ck\\xf8\\xf4\\xed\\x11*\\xba\\xc1\\x81\\x8c\\xb7\\xa5\\x121\\xb4\\x00Q\\xd0\\x8f\\x8bp\\x0e\\xe7\\xdf\\xe7!\\xdb\\xfb\\x85\\xf2Y\\xf5\\x0e\\xb7\\xc8\\x8e\\xa7\\xd6D,nr*\\xd0\\xd3\\xf1JR\\xf1\\xc3\\xd2\\r\\x8f\\xf4\\xa8\\x05O\\x8e\\xef\\xccW\\xf4\\xb5KX/\\xb1\\xf3\\xac=\\x0ff\\xe8\\xad*.G\\xd0o\\xcb\\x88\\xc7\\xcf\\xeb\\x14\\x8fK\\x9d\\x08\\xb4\\xc3\\x8c\\x8b]cMU(A\\x80\\x9b\\xbaQ\\x10\\r\\x86\\nu]\\x12\\'\\tzn\\x0b\\xc2\\xc9\\xa2Y60\\x048\\x87\\xdcD\\xed\\xfb\\x01,\\x902 \\xb8\\xa7\\xedPx\\xb1\\xfe\\x99\\xa4trc;\\x99\\x88gGN\\xe9W{Z\\x04\\x8f\\xd6\\xfa\\x1f\\x1d\\x06\\x96C\\x1dH\\xaa\\xdb\\xb4\\xceJ\\xf0\\x89\\xb0\\x97N,\\xb8\\xac\\xe4\\xe7\\x1bmYU\\xfa\\xf1\\xe2\\xcd\\x00[\\x1ful2Y\\x0b;\\xbd+\\xa1\\x0bB\\x05\\xc4\\x84\\x89\\x8a\\xa7\\xf8\\x9d\\xc5$\\xc7\\xfb)\\x85\\xea\\t|\\x83\\xceZ\\xe9\\xe8.ey:\\x02hi\\x80\\xd5\\xb9\\xc5[F\\x0c\\xbawc\\x0b\\x9c>\\xb1\\xba\\x8a\\\\t\\xcf\\xf8\\xd9V\\x98\\xa1\\xfdj\\x12@\\x8dK(\\xfbw\\xeca\\xa4\\xaa{m\\xe9T\\\\\\xa5F\\x8b\\xe1a\\xc0\\x8a\\t+\\xbf\\x91ZC.\\xf1\\xbes[\\x8f\\x9ek\\xdd\\xdb=BJSe\\xcc\\xf1\\xcd\\xf0\\x97\\xd6,N\\xd8q\\xeb\\xa0\\xdb(\\xa9\\xfb\\xb2\\xe7/\\x8d\\x1bk\\xdf\\xb4\\xaa\\x0cOd\\xb8\\x98=E\\xb87e1g\\x8aZ\\xe8\\x1a\\xa9\\xc2\\xf3I\\x1d\\x8f\\x97F\\x042\\x06(\\xad+\"\\xf1\\xee;\\x80@V\\x85\\xd8\\xb0\\xd3\\xa0,\\xd6\\xa2\\xf1\\xde\\x8cF@\\x8cH)\\x92O^\\xca\\xfe\\x98AZ\\xae\\xd4\\x18\\t\\xb3\\x11K\\xf8\\xb2\\xcb\\xb7\\x19q\\xce\\x1e\\x08\\xa18\\xdf\\xf0J|\\xaa\\x8ai\\xd8\\xf8~P\\xdd\\xd4(nG\\x87\\xd0\\xe6\\x10H\\xf8\\x8d\\xe66R\\xa9\\x88Q\\xa1\\x92\\x9b\\x03\\xa4\\xa1\\xb3\\x80\\xbe\\x89\\x17\\x9f\\xa6.c\\xf8:\\xc1\\rmp\\xf1\\xc9\\xea\\xc2\\xce\\x95\\xdd\\xfd\\x19j\\xbb\\xc5\\xd1\\xe3\\x93\\x1a\\xe5\\xcd\\x14i\\x0b6\\x9e'\n"
     ]
    }
   ],
   "source": [
    "#On est obliger de recrée un mot de pass unique pour chiffrer le texte\n",
    "aes = pyaes.AESModeOfOperationCTR(key, pyaes.Counter(iv))\n",
    "ciphertext = aes.encrypt(text)\n",
    "with open(\"project.enc\", \"wb\") as encrypted_file:\n",
    "    encrypted_file.write(ciphertext)\n",
    "print(ciphertext)"
   ]
  },
  {
   "cell_type": "markdown",
   "metadata": {},
   "source": [
    "Petites fonction permettant de tester si le décriptage de texte fonctionne correctement"
   ]
  },
  {
   "cell_type": "code",
   "execution_count": 154,
   "metadata": {},
   "outputs": [
    {
     "name": "stdout",
     "output_type": "stream",
     "text": [
      "b\"Le march\\xe9 des sneakers en France a connu une croissance exponentielle au cours des derni\\xe8res ann\\xe9es, devenant un ph\\xe9nom\\xe8ne de mode et un investissement lucratif pour de nombreux amateurs et professionnels. \\nCe texte explore les multiples faceteurs qui sous-tendent le commerce de sneakers dans l'Hexagone, en mettant en lumi\\xe8re ses dynamiques \\xe9conomiques, culturelles et sociales.\\nD'un point de vue \\xe9conomique, le commerce de sneakers en France est stimul\\xe9 par une demande croissante pour des mod\\xe8les rares et exclusifs. \\nLes \\xe9ditions limit\\xe9es et les collaborations entre marques de renom et designers c\\xe9l\\xe8bres cr\\xe9ent une urgence d'achat, poussant les prix sur le march\\xe9 secondaire \\xe0 atteindre des sommets vertigineux. \\nCette situation a engendr\\xe9 l'\\xe9mergence d'une v\\xe9ritable \\xe9conomie parall\\xe8le, o\\xf9 les sneakers sont non seulement des objets de mode, mais \\xe9galement des actifs sp\\xe9culatifs.\\n\\nSur le plan culturel, les sneakers occupent une place pr\\xe9pond\\xe9rante dans l'univers de la mode et de la street culture fran\\xe7aise. \\nElles transcendent leur simple fonctionnalit\\xe9 pour devenir des symboles d'appartenance \\xe0 des groupes sociaux sp\\xe9cifiques, des marqueurs d'identit\\xe9 et des oeuvres d'art portable. \\nLes lancements de nouveaux mod\\xe8les sont d\\xe9sormais des \\xe9v\\xe9nements m\\xe9diatiques majeurs, attirant l'attention de millions de passionn\\xe9s \\xe0 travers le pays.\\n\\nSocialement, le commerce de sneakers en France refl\\xe8te les changements dans les comportements de consommation. \\nLa mont\\xe9e en puissance des r\\xe9seaux sociaux a permis aux consommateurs de partager leur passion, d'\\xe9changer des conseils sur les derni\\xe8res tendances et de se tenir inform\\xe9s des sorties \\xe0 venir. \\nDe plus, le ph\\xe9nom\\xe8ne de revente a favoris\\xe9 l'entrepreneuriat chez les jeunes, nombreux \\xe9tant ceux qui ont saisi cette opportunit\\xe9 pour lancer leur propre business de revente de sneakers.\\n\\nEn conclusion, le commerce de sneakers en France est un miroir des tendances actuelles en mati\\xe8re de mode, d'\\xe9conomie et de culture. \\nIl illustre parfaitement comment un produit peut transcender sa fonction premi\\xe8re pour devenir un v\\xe9ritable ph\\xe9nom\\xe8ne social, englobant une multitude de dimensions. \\nCe march\\xe9 dynamique et en constante \\xe9volution continuera sans doute d'attirer de nouveaux adeptes, tout en d\\xe9fiant les conventions et en repoussant les limites de la mode et du commerce.\"\n"
     ]
    }
   ],
   "source": [
    "#Et du coup de le regénéré\n",
    "aes = pyaes.AESModeOfOperationCTR(key, pyaes.Counter(iv))\n",
    "print(aes.decrypt(ciphertext))"
   ]
  },
  {
   "cell_type": "markdown",
   "metadata": {},
   "source": [
    "Pour le cryptage ElGalmal nous allons prendre les variables que l'énoncé nous donnes et généré une variable B permettant de retrouver notre variable N qui contient la clé et le compteur iv"
   ]
  },
  {
   "cell_type": "code",
   "execution_count": 155,
   "metadata": {},
   "outputs": [
    {
     "data": {
      "text/plain": [
       "(4268877808834287858085377, 1644039754043745856238527)"
      ]
     },
     "execution_count": 155,
     "metadata": {},
     "output_type": "execute_result"
    }
   ],
   "source": [
    "p = 7946851324679854613245823\n",
    "g = 5\n",
    "A = 7579501795988122393422986\n",
    "\n",
    "b = random.SystemRandom().randint(2, p-2)\n",
    "\n",
    "# Calcul de B et C pour ElGamal\n",
    "B = pow(g, b, p)\n",
    "K = pow(A, b, p)  # Clé secrète partagée\n",
    "C = (K * N) % p  # Chiffrement de N avec la clé secrète partagée\n",
    "\n",
    "B, C"
   ]
  },
  {
   "cell_type": "code",
   "execution_count": 156,
   "metadata": {},
   "outputs": [
    {
     "data": {
      "text/plain": [
       "'K = pow(B, g, p)\\n\\n# Calculer l\\'inverse modulaire de K\\nK_inv = gm.invert(K, p)\\n\\n# Récupérer N\\nN = (C * K_inv) % p\\n\\nprint(N)\\n\\npassword, iv = str(N)[:-13], int(str(N)[-10:])  # Ceci est un exemple; ajustez selon la structure réelle de N\\nprint(password,iv)\\n# Dérivation de la clé AES à partir du mot de passe\\nkey = pbkdf2_hmac(\\'sha256\\', password.encode(\\'utf-8\\'), salt, 100000, dklen=32)\\n\\naes = pyaes.AESModeOfOperationCTR(key, pyaes.Counter(iv))\\n\\n# Lire le fichier chiffré\\nwith open(\"project.enc\", \"rb\") as encrypted_file:\\n    ciphertext = encrypted_file.read()\\n# Déchiffrer le contenu\\naes = pyaes.AESModeOfOperationCTR(key, pyaes.Counter(iv))\\nprint(aes.decrypt(ciphertext)) '"
      ]
     },
     "execution_count": 156,
     "metadata": {},
     "output_type": "execute_result"
    }
   ],
   "source": [
    "\"\"\"K = pow(B, g, p)\n",
    "\n",
    "# Calculer l'inverse modulaire de K\n",
    "K_inv = gm.invert(K, p)\n",
    "\n",
    "# Récupérer N\n",
    "N = (C * K_inv) % p\n",
    "\n",
    "print(N)\n",
    "\n",
    "password, iv = str(N)[:-13], int(str(N)[-10:])  # Ceci est un exemple; ajustez selon la structure réelle de N\n",
    "print(password,iv)\n",
    "# Dérivation de la clé AES à partir du mot de passe\n",
    "key = pbkdf2_hmac('sha256', password.encode('utf-8'), salt, 100000, dklen=32)\n",
    "\n",
    "aes = pyaes.AESModeOfOperationCTR(key, pyaes.Counter(iv))\n",
    "\n",
    "# Lire le fichier chiffré\n",
    "with open(\"project.enc\", \"rb\") as encrypted_file:\n",
    "    ciphertext = encrypted_file.read()\n",
    "# Déchiffrer le contenu\n",
    "aes = pyaes.AESModeOfOperationCTR(key, pyaes.Counter(iv))\n",
    "print(aes.decrypt(ciphertext)) \"\"\""
   ]
  },
  {
   "cell_type": "markdown",
   "metadata": {},
   "source": [
    "## Exercice 3"
   ]
  },
  {
   "cell_type": "markdown",
   "metadata": {},
   "source": [
    "* Démonstration de la signature ElGamal ou RSA (avec des nombres différents de ceux du cours).\n",
    "* Exemple d'utilisation du RSA, Diffie-Hellman, ElGamal ou de la signature ElGamal dans Python ou openssl (contexte réel)."
   ]
  },
  {
   "cell_type": "markdown",
   "metadata": {},
   "source": [
    "#### 1. Démonstration de la signature ElGamal ou RSA (avec des nombres différents de ceux du cours)."
   ]
  },
  {
   "cell_type": "code",
   "execution_count": 157,
   "metadata": {},
   "outputs": [
    {
     "name": "stdout",
     "output_type": "stream",
     "text": [
      "Signature valide : True\n"
     ]
    }
   ],
   "source": [
    "# Fonction pour calculer l'inverse modulo\n",
    "def inverse_modulo(a, m):\n",
    "    m0, x0, x1 = m, 0, 1\n",
    "    while a > 1:\n",
    "        q = a // m\n",
    "        m, a = a % m, m\n",
    "        x0, x1 = x1 - q * x0, x0\n",
    "    return x1 + m0 if x1 < 0 else x1\n",
    "\n",
    "# Fonction pour calculer la signature\n",
    "def sign_elgamal(m, x, p, g):\n",
    "    # Sélection d'un nombre aléatoire k\n",
    "    k = random.randint(2, p - 2)\n",
    "    while pow(k, -1, p - 1) == 0:  # Assure que k est premier avec p-1\n",
    "        k = random.randint(2, p - 2)\n",
    "    r = pow(g, k, p)\n",
    "    k_inv = inverse_modulo(k, p - 1)\n",
    "    s = (m - x * r) * k_inv % (p - 1)\n",
    "    return r, s\n",
    "\n",
    "# Fonction pour vérifier la signature\n",
    "def verify_elgamal(m, r, s, y, p, g):\n",
    "    v1 = pow(g, m, p)\n",
    "    v2 = (pow(y, r, p) * pow(r, s, p)) % p\n",
    "    return v1 == v2\n",
    "\n",
    "# Paramètres ElGamal\n",
    "p = 257\n",
    "g = 3\n",
    "x = 97\n",
    "\n",
    "# Clé publique\n",
    "y = pow(g, x, p)\n",
    "\n",
    "# Message à signer\n",
    "m = 123\n",
    "\n",
    "# Signature\n",
    "r, s = sign_elgamal(m, x, p, g)\n",
    "\n",
    "# Vérification de la signature\n",
    "valid = verify_elgamal(m, r, s, y, p, g)\n",
    "\n",
    "print(\"Signature valide :\", valid)\n"
   ]
  },
  {
   "cell_type": "markdown",
   "metadata": {},
   "source": [
    "#### 2. Exemple d'utilisation du RSA, Diffie-Hellman, ElGamal ou de la signature ElGamal dans Python ou openssl (contexte réel)."
   ]
  },
  {
   "cell_type": "markdown",
   "metadata": {},
   "source": [
    "Supposons que nous ayons un fichier texte appelé \"format.txt\" contenant le message à signer.\n"
   ]
  },
  {
   "cell_type": "markdown",
   "metadata": {},
   "source": [
    "\n",
    "**a) Génération des clés RSA :**\n",
    "Tout d'abord, nous devons générer une paire de clés RSA privée/publique à l'aide d'OpenSSL."
   ]
  },
  {
   "cell_type": "code",
   "execution_count": 158,
   "metadata": {
    "vscode": {
     "languageId": "shellscript"
    }
   },
   "outputs": [
    {
     "name": "stderr",
     "output_type": "stream",
     "text": [
      "..+.+...+..+.......+..+.+.....+....+........+......+....+...+..+.+++++++++++++++++++++++++++++++++++++++*.+....+........+...+.......+...+.....+...+.......+..+...+.......+......+..+....+...+......+.....+.+......+..+......+.........+......+....+...+..+...+...+.+.....+................+...+...........+++++++++++++++++++++++++++++++++++++++*.+...++++++\n",
      "...........+......................+.....+++++++++++++++++++++++++++++++++++++++*.....+.....+.+++++++++++++++++++++++++++++++++++++++*.......+..+...+.........+...+...+......+.........+.........+...+.......+..+......+...+......+.........+....+..+....+..+.......+..+..........+..............+.+.....+..................+.+..+...+......................+.....+.......+..+.+.....+....+.........+......+...............+.........+...............+..+.........+...+..........+...+.....+...+................+.....+......+...+....+........+....+......+...+.....+.+...........+....+...+...+.....+....+......+..............+.+...+..+....+..................+......+.....+.+.....++++++\n",
      "writing RSA key\n"
     ]
    }
   ],
   "source": [
    "#copy paste in a terminal\n",
    "!openssl genpkey -algorithm RSA -out private_key.pem\n",
    "!openssl rsa -pubout -in private_key.pem -out public_key.pem"
   ]
  },
  {
   "cell_type": "markdown",
   "metadata": {},
   "source": [
    "Ces commandes génèrent une clé privée private_key.pem et une clé publique correspondante `public_key.pem`.\n"
   ]
  },
  {
   "cell_type": "markdown",
   "metadata": {},
   "source": [
    "\n",
    "**b) Signature du message :**\n",
    "\n",
    "Ensuite, nous signons le message avec notre clé privée."
   ]
  },
  {
   "cell_type": "code",
   "execution_count": 159,
   "metadata": {
    "vscode": {
     "languageId": "shellscript"
    }
   },
   "outputs": [],
   "source": [
    "#copy paste in a terminal\n",
    "!openssl dgst -sha256 -sign private_key.pem -out signature.bin format.txt"
   ]
  },
  {
   "cell_type": "markdown",
   "metadata": {},
   "source": [
    "Cela crée une signature du message dans le fichier signature.bin.\n"
   ]
  },
  {
   "cell_type": "markdown",
   "metadata": {},
   "source": [
    "**c) Vérification de la signature :**\n",
    "\n",
    "Pour vérifier la signature avec la clé publique correspondante, nous utilisons :"
   ]
  },
  {
   "cell_type": "code",
   "execution_count": 160,
   "metadata": {
    "vscode": {
     "languageId": "shellscript"
    }
   },
   "outputs": [
    {
     "name": "stdout",
     "output_type": "stream",
     "text": [
      "Verified OK\n"
     ]
    }
   ],
   "source": [
    "#copy paste in a terminal\n",
    "!openssl dgst -sha256 -verify public_key.pem -signature signature.bin format.txt"
   ]
  },
  {
   "cell_type": "markdown",
   "metadata": {},
   "source": [
    "Si la vérification réussit, OpenSSL affichera \"Verified OK\".\n"
   ]
  },
  {
   "cell_type": "markdown",
   "metadata": {},
   "source": [
    "Cet exemple montre comment utiliser OpenSSL pour générer une paire de clés RSA, signer un message avec la clé privée et vérifier la signature avec la clé publique. Vous pouvez répéter ces étapes dans un terminal pour expérimenter avec vos propres messages et clés."
   ]
  },
  {
   "cell_type": "code",
   "execution_count": 161,
   "metadata": {
    "vscode": {
     "languageId": "shellscript"
    }
   },
   "outputs": [
    {
     "name": "stderr",
     "output_type": "stream",
     "text": [
      "........+..+++++++++++++++++++++++++++++++++++++++*....+.+.................+.+..............+...+...+.+.....+++++++++++++++++++++++++++++++++++++++*..+......+.........++++++\n",
      "....+++++++++++++++++++++++++++++++++++++++*.....+.......+++++++++++++++++++++++++++++++++++++++*.......+..........+..+..........+..++++++\n",
      "writing RSA key\n"
     ]
    },
    {
     "name": "stdout",
     "output_type": "stream",
     "text": [
      "Verified OK\n"
     ]
    }
   ],
   "source": [
    "!openssl genpkey -algorithm RSA -out private_key.pem\n",
    "!openssl rsa -pubout -in private_key.pem -out public_key.pem\n",
    "!openssl dgst -sha256 -sign private_key.pem -out signature.bin format.txt       \n",
    "!openssl dgst -sha256 -verify public_key.pem -signature signature.bin format.txt"
   ]
  }
 ],
 "metadata": {
  "kernelspec": {
   "display_name": "Python 3",
   "language": "python",
   "name": "python3"
  },
  "language_info": {
   "codemirror_mode": {
    "name": "ipython",
    "version": 3
   },
   "file_extension": ".py",
   "mimetype": "text/x-python",
   "name": "python",
   "nbconvert_exporter": "python",
   "pygments_lexer": "ipython3",
   "version": "3.11.1"
  }
 },
 "nbformat": 4,
 "nbformat_minor": 2
}
