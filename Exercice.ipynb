{
 "cells": [
  {
   "cell_type": "markdown",
   "metadata": {},
   "source": [
    "Code pour projet crypto\n",
    "\n",
    "Import des librairies"
   ]
  },
  {
   "cell_type": "code",
   "execution_count": 22,
   "metadata": {},
   "outputs": [],
   "source": [
    "import hashlib\n",
    "import random \n",
    "import gmpy2 as gm\n",
    "import math\n",
    "import time\n",
    "import base64\n",
    "import os, binascii\n",
    "from backports.pbkdf2 import pbkdf2_hmac\n",
    "import pyaes, pbkdf2, secrets\n"
   ]
  },
  {
   "cell_type": "markdown",
   "metadata": {},
   "source": [
    "## Exercice 1"
   ]
  },
  {
   "cell_type": "markdown",
   "metadata": {},
   "source": [
    "### Partie 1"
   ]
  },
  {
   "cell_type": "code",
   "execution_count": 23,
   "metadata": {},
   "outputs": [
    {
     "data": {
      "text/plain": [
       "{'chaine_trouvee': 'Serano_Henri__Sara_Thibierge__Eloi_Seidlitz_DIA677031',\n",
       " 'hash_trouve': '31e6f8e6377ad1c9895ef7c22b0ef9a252c0f0ec9d062178c58b416bcb470000',\n",
       " 'compteur_trouve': 77031,\n",
       " 'temps_moyen_n': 0.1520848751068115,\n",
       " 'temps_moyen_n_plus_1': 0.49832873344421386,\n",
       " 'rapport_temps': 3.2766488652749333}"
      ]
     },
     "execution_count": 23,
     "metadata": {},
     "output_type": "execute_result"
    }
   ],
   "source": [
    "\n",
    "def trouver_chaine(base, zeros_cibles):\n",
    "        compteur = 0\n",
    "        while True:\n",
    "            chaine_test = base + str(compteur)\n",
    "            hash_resultat = sha256_hash(chaine_test)\n",
    "            if hash_resultat.endswith('0' * zeros_cibles):\n",
    "                return chaine_test, compteur, hash_resultat\n",
    "            compteur += 1\n",
    "\n",
    "def sha256_hash(chaine):\n",
    "        return hashlib.sha256(chaine.encode()).hexdigest()\n",
    "        \n",
    "def trouver_chaine_et_stats(base, zeros_cibles, iterations_stat=5):\n",
    "    \n",
    "\n",
    "    # Première partie : Trouver la chaîne\n",
    "    chaine_trouvee, compteur_trouve, hash_trouve = trouver_chaine(base, zeros_cibles)\n",
    "\n",
    "    # Deuxième partie : Statistiques de temps\n",
    "    temps_n = []\n",
    "    temps_n_plus_1 = []\n",
    "    \n",
    "    for _ in range(iterations_stat):\n",
    "        debut = time.time()\n",
    "        trouver_chaine(base, zeros_cibles)\n",
    "        fin = time.time()\n",
    "        temps_n.append(fin - debut)\n",
    "\n",
    "        debut = time.time()\n",
    "        trouver_chaine(base, zeros_cibles + 1)\n",
    "        fin = time.time()\n",
    "        temps_n_plus_1.append(fin - debut)\n",
    "\n",
    "    temps_moyen_n = sum(temps_n) / len(temps_n)\n",
    "    temps_moyen_n_plus_1 = sum(temps_n_plus_1) / len(temps_n_plus_1)\n",
    "\n",
    "    rapport_temps = temps_moyen_n_plus_1 / temps_moyen_n\n",
    "\n",
    "    return {\n",
    "        \"chaine_trouvee\": chaine_trouvee,\n",
    "        \"hash_trouve\": hash_trouve,\n",
    "        \"compteur_trouve\": compteur_trouve,\n",
    "        \"temps_moyen_n\": temps_moyen_n,\n",
    "        \"temps_moyen_n_plus_1\": temps_moyen_n_plus_1,\n",
    "        \"rapport_temps\": rapport_temps\n",
    "    }\n",
    "\n",
    "\n",
    "base_chaine = \"Serano_Henri__Sara_Thibierge__Eloi_Seidlitz_DIA6\"\n",
    "zeros_cibles = 4 # Nombre de zéros à la fin du hash\n",
    "resultats = trouver_chaine_et_stats(base_chaine, zeros_cibles)\n",
    "resultats\n"
   ]
  },
  {
   "cell_type": "markdown",
   "metadata": {},
   "source": [
    "## Exercice 2"
   ]
  },
  {
   "cell_type": "code",
   "execution_count": 24,
   "metadata": {},
   "outputs": [
    {
     "data": {
      "text/plain": [
       "\"Le marché des sneakers en France a connu une croissance exponentielle au cours des dernières années, devenant un phénomène de mode et un investissement lucratif pour de nombreux amateurs et professionnels. \\nCe texte explore les multiples faceteurs qui sous-tendent le commerce de sneakers dans l'Hexagone, en mettant en lumière ses dynamiques économiques, culturelles et sociales.\\nD'un point de vue économique, le commerce de sneakers en France est stimulé par une demande croissante pour des modèles rares et exclusifs. \\nLes éditions limitées et les collaborations entre marques de renom et designers célèbres créent une urgence d'achat, poussant les prix sur le marché secondaire à atteindre des sommets vertigineux. \\nCette situation a engendré l'émergence d'une véritable économie parallèle, où les sneakers sont non seulement des objets de mode, mais également des actifs spéculatifs.\\n\\nSur le plan culturel, les sneakers occupent une place prépondérante dans l'univers de la mode et de la street culture française. \\nElles transcendent leur simple fonctionnalité pour devenir des symboles d'appartenance à des groupes sociaux spécifiques, des marqueurs d'identité et des oeuvres d'art portable. \\nLes lancements de nouveaux modèles sont désormais des événements médiatiques majeurs, attirant l'attention de millions de passionnés à travers le pays.\\n\\nSocialement, le commerce de sneakers en France reflète les changements dans les comportements de consommation. \\nLa montée en puissance des réseaux sociaux a permis aux consommateurs de partager leur passion, d'échanger des conseils sur les dernières tendances et de se tenir informés des sorties à venir. \\nDe plus, le phénomène de revente a favorisé l'entrepreneuriat chez les jeunes, nombreux étant ceux qui ont saisi cette opportunité pour lancer leur propre business de revente de sneakers.\\n\\nEn conclusion, le commerce de sneakers en France est un miroir des tendances actuelles en matière de mode, d'économie et de culture. \\nIl illustre parfaitement comment un produit peut transcender sa fonction première pour devenir un véritable phénomène social, englobant une multitude de dimensions. \\nCe marché dynamique et en constante évolution continuera sans doute d'attirer de nouveaux adeptes, tout en défiant les conventions et en repoussant les limites de la mode et du commerce.\""
      ]
     },
     "execution_count": 24,
     "metadata": {},
     "output_type": "execute_result"
    }
   ],
   "source": [
    "with open(\"format.txt\", \"r\",encoding=\"utf-8\") as file:\n",
    "    text = str(file.read())\n",
    "text"
   ]
  },
  {
   "cell_type": "code",
   "execution_count": 25,
   "metadata": {},
   "outputs": [],
   "source": [
    "password = \"123456789\"\n",
    "passwordSalt = os.urandom(16)\n",
    "key = pbkdf2.PBKDF2(password, passwordSalt).read(32)\n",
    "iv = secrets.randbits(256)\n",
    "#On est obliger de recrée un mot de pass unique pour chiffrer le texte\n",
    "aes = pyaes.AESModeOfOperationCTR(key, pyaes.Counter(iv))\n",
    "ciphertext = aes.encrypt(text)"
   ]
  },
  {
   "cell_type": "code",
   "execution_count": 26,
   "metadata": {},
   "outputs": [
    {
     "name": "stdout",
     "output_type": "stream",
     "text": [
      "b'\\xd6c\\xc5\\xf0\\xba\\xd6\\x1baA\\xa52\\xbf9\\xb8\\xea\\xd5\\xb3\\x96\\xdcs\\x92\\xd7\\xd9\\xb2\\x14w-\\x08+\\x0e\\xaawu\\xf0Z\\x1c\\xd4C\\x0bNl\\x95\\x07\\xa1\\xfe \\xf7\\xeb!\\xc8t{\\x9e<b\\xaa\\xe9\\xba\\xc1\\x98\\xba\\x7fY4dH4gZ\\xcd\\x7f\\xba\\x9b\\xf4=\\xcc\\x1bl\\xeb\\xbe2\\x8a\\xfb\\x95\\xea/\\x9e\\nM\\x10C\\r\\x95\\x1b\\xd9\\xb7A\\x02\\x143\\x1b\\xa4\\x13\\x04\\xd6\\x03(RX\\x17(\\x83\\xa9\\xf2\\xffK\\x07\\xa5\\x85q\\x12\\xd9\\xc9_#VbL\\xbe\\xf9\\x9f\\xef\\xa1\\x85\\x1aU\\n\\xae\\n\\n\\x97\\xb0F\\x91\\x11\\x8c\\x94\\x165\\x16\\x06\\xd9\\xef\\xd4\\xb4\\x17v\\xe4\\xa1\\xf2\\x95\\x9d\\xa0\\x01\\x9e]\\n[!+\\x10\\xa4]\\xcf\\xf2\\x9c\\xac=\\xfc\\x9fW\\xac\\xdb\\xf5lQ\\xf9\\xb3\\x9d\\xfe\\xc9\\xec\\x1dk\\x90Z\\x01\\xefJ\\x1d\\xbcl:2\\xf7\\xc0s\\xda\\xf2\\xa1>\\x00\\x1a#-\\x19%(\\xf5\\x1b\\x19\\xff\\xb3\\xdb,.\\x0b\\x08`\\x8f\\xd8\\x81\\xe8D\\xe2\\x96\\n\\xc6,\\x9c\\xf2\\xcda!\\x18[\\xf8\\x1aO\\x9d\\x97\\x95\\xa80\\x99xU\\x0f\\x98\\x10]!F\\x94\\x18\\xdclo\\xe9l-\\x00\\\\\\x98\\xee,\\x1bw\\xe0\\x88\\x05\\xf2\\xc0\\xa2\\x88\\xc5\\x9b\\x8f\\x9fv-^(\\x90\\xbf\\xf12\\xb3\\xcb\\xe9\\xabl\\x8c\\x8bN\\x90\\xc6\\xc7\\xdd|\\xcb\\x9e}[\\xf9\\xff=X\\x91b}?\\xcd\\xfe\\\\\\xec\\xb2\\x9f\\xde\\xb4\\xaaW\\xc9J\\x8f/|,\\x04\\xd9\\xc9\\x8c\\x1f\\xa5\\x0e\\xd3\\x8c\\x94\\\\}\\xb7\\r^FV\\xdc\\x1c\\x9ea\\xa0\\xaf\\xa3\\x01\\x03\\x157\\xae\\xbb\\xf3\\x1d,\\xd8\\x94\\xa1]\\n\\xb2\\'C\\xc7-\\x12\\x1fp\\xb0^\\xbf\\x93\\xed\\xb8\\x8cu\\x95\\x19p\\xc2\\xdc\\xbd\\x15\\x1e;\\x94*=\\xf5/U\\x9b6\\xb3\\x80Q\\x1an\\xbc\\x8b\\xd0\\xf7\\xdb\\xad\\xed7\\xb6\\xec\\xbc\\x82\"lqT\\x07\\xe74\\x8b}\\xf1\\xb5\\xc7Z\\x10(\\x9c\\x0f4\\xae3\\x90\\xef\\n\\x99\\xf2\\xc2\\x8d\\x06\\xa7\\x7f@H\\xc9\\x08(\\xc9x\\xbf\\x90JWYx\\x03\\x9f\\x06\\xe5\\xd9\\xed\\x84\\xaaI&\"\\x17\\r!\\xd8\\x0b\\x1d\\xf3ZomX\\x9fQ\\xca\\xebq8\\xf7\\xaa\\xa5 \\x15\\x86\\x06\\x0f.\\n\\x8d\\xb6\\xc7\\xd3{I\\xdf\\xe6K\\xa2\\x99\\x87\\xbf\\xb0\\x03\\x85\\xd3A|\\xf7\\xee|\\xe3y\\xd4@\\xfa\\xdfm\\x17\\x02\\xfc\\xe5\\x10\\x07)\\xf1N\\xdb\\x8eW\\xea\\x87y\\x1f\\xc7\\x94\"&i\\xce\\xe9\\x8e\\xcbH\\xc3r\\xe4\\xb9\\x91\\xb5\\x9eTU[\\xba\\x0c\\xfd?\\xa4\\n\\xe5\\xf4\\xc9*\\x11\\xcd\\xa3\\xe0\\xaf#ZI\\xee\\x0b4\\x88\\x8d\\xad\\xa5E\\r\\xf6\\xa2\\x0b\\xc0*\\x9d\\xd0X\\'P\\xca\\xb86\\x94\\xb4\\x07\\xa2\\x04/\\xe0I\\xbd\\x0bP\\xa8\\x0c\\x8d\\xdfe\\x1e\\xb0\\xbcE\\x89\\xa3\\xfe\\xed\\xaa\\xd2\\x14\\xbbo$w\\x07\\n\\xd3\\xcb\\x1e\\xa6\\x02\\x85\\x0e\\xba\\xfd\\x88\\x9d\\x13\\xb8\\xb3\\xff\\xf0\\x8b\\xd1\\xa0Y/\\xc3\\x9c\\xf1\\xefI\\xbc\\xb0\\x83\\x1b\\xdf\\x97E\\xd3\\\\ K\\x01\\xf4x\\xf3K\\x00\\x14be~\\x08\\xaeT\\xfb\\xb8\\x0e\\xdb\\xb2p]\\xbe.2\\x8a#B\\xd5\\xca\\xd4\\x0fy\\x8f\\x9f\\xb8e\\xe3\\x0b\\xb4\\xe0\\xa9\\xac\\x06\\xd9\\xcf\\x9dW\\xedC\\xce\\xcb#\\xde\\xbcC\\xf9U\\x9c\\xce\\x86\\xb6fW[C\\xe3&\\x9d5X=\\xc2\\xfb\\x1d1\\x04\\xc2\\xf8W\\xd5L\\x1f\\xa1\\xa0[\\x86\\xed\\x85\\x0bx\\x8f\\xefa&\\xf7\\xab\\x18e\\xfd\\x8a\\x18:\\xf4\\xfa\\xdf\\\\\\x06\\xfc\\xa5\\x89\\xb4`}\\xfa\\xbfC\\xd6c\\xdah\\xf5mK\\x82\\xb6,&Wn@\\xa2@\\xb0\\xado\\xf3o\\x1d\\x80e\\x83g\\xa1m\\xc6\\xe4\\x80\\xc0ZF-\\x11L~;\\xa1\\xedX\\x8f\\xf4OO\\xf0\\x01\\x94\\xc6\\xa34\\x10\\xcb!\\xd1V\\xac\\xed4\\xc2\\x83O\\x8c\\xf2\\x99\\xb8\\x81\\x1b\\xf80E\\xdd\\x15\\xf9Q\\xa7d[\\xb6\\xdf\\xac\\xd1\\xb4\\xac\\x96\\r\\xc6\\x1aPI\\xf3\\x87ihCD\\xad\\xe8\\xe2\\x91\\x15\\xc1\\xdf\\xb45\\xb2<\\xba\\x80o\\xdb\\x1c$\\xf2x\\x97\\x84>p^\\r\\xc4pn\\xb92h\\x8f*\\xd7\\x81hi\\xb7{\\x9e\\xa0i\\x10u\\xc6+\\x0b\"\\x97\\xb0Y[\\xff;\\x90HzY\\\\\\x8fQ\\xa6\\x12\\xa4^\\xed\\x15\\xd3 V\\xc2Y\\xd5;2\"iG\\'\\x83o\\x912_ph=}\\xfdg\\xc1\\xd2\\x19@\\xf0\\xf3\\xf0\\xe9L\\xcd\\r-\\xca\\xf2n\\xc8\\x07\\x10\\xdc/\\xef\\xa0\\xcb\\xcb\\xb0\\xee\\xc0\\x7f\\x8b\\x96\\x8c+r\\xdf\\xca\\x85\\x8a\\'\\xde;\\x97Z\\xd6\\xaa\\xe4\\x06U\\xec\\xc9rK(\\x80\\xf2+\\'\\xbd\\xaa*\\xcbe\\xdfrI6\\r6\\x8dC\\xbd(\\xdd\\x91\\xe3\\x98\\x97\\xb4\\xd5\\xab\\xf35\\x87,\\xc0|\\n\\xdc\\x94\\xd9\\x01G\\x97\\x04\\xba1\\xa2\\x91\\xc0$\\xa7\\x18%\\x8d\\xc4\\x9c\\xb7_?\\x84H2\\xc6+6\\xa4\\x0c0\\xd0\\x90q\\xb0\\xfcP\\xa6\\x06\\xda{j9\\x1a\\xc4\\xbe\\xae7\\xbf\\t\\xe2L\\x11\\xec\\xaf\\x89\\xa2X\\xaah,\\x99\\xc1\\x83\\xc0\\xe9\\xd7-]\\x1c\\x0c\\x1d\\xf9\\xb68~\\xa6u\\x9b\\rx\\xbbI\\xed\\xb0D#?\\x94HZ\\xf6\\xd4\\xa3\\xd1\\x84\\xab\\x0e\\x18\\xfd\\xa1\\xe5!U?Fp\\x00f\\x84\\x95\\xda\\x1e\\xc8\\xec\\x9a\\'\\x8agU\\xcdy\\xdf\\xde\\xe1qHn\\xac\\x0c\\xb0n\\x93p\\xb5\\x01\\x0c,E\\x82\\xc5\\x1a\\xdd\\xec\\xc3\\x11\\xa1\\xc3,\\xad\\xcfc\\x1f\\xef\\xf5\\xf05Q]\"\\xc0\\x956~\\x81\\x92\\x8c\\xf3\\xect\\xae\\xb9k0\\xdf\\x17O\\x0e\\x9c\\x0b@?\\xf5\\xc3\\xa2\\xfe\\x9b\\xc9j\\xbc2\\xd5n\\xc5\\x05._\\x98\\x05\\x13\\xca\\xa9\\xaay\\x92\"\\xecCB\\x98\\xef/\\xda\\xc4\\xd7\\xe7$\\xdd\\x02\\xada\\xc4;\\xc0\\x16\\x9bX\\x87R\\xa8\\x8d\\xd3\\xfcV\\xae\\xb0@\\xe2\\xea\\xe2>\\x80,\\x83#\\xb0DC\\x07\\x17\\n\\x97\\r\\xa1N\\xe5\\xa7\\x16\\x95U\\xfdP\\xa0\\xbf\\xa1D \\x07\\xd3\\x1c\\x1c$\\xba\\x7fU\\xa2!\\xd2EA\\x87\\xf8\\x12(%\\xbf\\xf8k\\xa9\\xb0\\x96\\r\\r\\x8c!\\xe3A\\xb8\\xafH\\xaaPhC\\xa9\\x9c\\x11\\x0e@?Mz\\x94\\xa6\\xed\\x06\\xec7\\xe0\\x1b\\xc5\\xeaJU]\\xcfJ\\xcaR\\xf6tL\\xdb\\x0b4\\x9b\\xd6\\xe2V\\x13#\\x93|\\x03j\\xa7\\xd5\\xc6\\x12\\xea\\x97pu/\\xa71W\\xb4\\xd1\\x17\\xfd\\x14\\xc7\\x06\\x01+\\xba\\x85\\x1bv5UjM\\x01\\xc6)\\x83\\x15\\xf1\\'\\x9dyx\\x94A\\x8d\\xa0R\\xe2k\\xd8Q\\x1b\\xb3\\xe0?\\xeaQNW\\x8dH\\xcbm\\xf56qFY\\xd1\\xf0p\\xea\\xd2\\xf3\\xae\\x039\\x1c<us\\xf0Dc\\x83\\x90\\r\\xd7\\xa3\\x13H\\xbe\\xca\\x02\\xaa\\\\P\\x8d\\x13\\xa7\\xb5k1\\x8e\\'\\xd9p\\xf4\\'\\xbf\\x9b\\xbd:\\xa8\\x82\\xc7\\x11\\xc2P\\xe7\\xf7\\xc1\\xc1\\x05)@E\\x9eWdjr]\\x95\\x1c\\xb6\\xfbGq{\\xa8\\x14\\x90\\x91\\xaa\\x10\\x8e,h\\xde\\xff\\x9c\\xcdK\\r\\xd3\\xe7\\x87*E\\x8d\\x1c\\xb3\\x9e\\xd3>\\xdd\\xa6m\\xc7\\x82)2p\\xcf\\xe63\\xf3\\xc6l\\x14\\xfan\\x9f5*8\\x035\\xa4pe\\x95\\r\\x94\\x89\\xb5!\\x99t\\xed\\xd8\\x9f\\x06ug%bL\\x8044 EQ@D\\x18\\xc3\\'WY\"\\x9a\\xea\\x88\\xe1\\xe9\\x8cX\\xf8\\xaa\\xf2V\\xdb\\x125\\xd7\\x9b\\xc4}Y\\xe3Ou\\x1a\\xd4\\x95^\\xbb\\x14G\\xb2\\x1f\\xcaw\\xfb\\x00\\x9e\\xfc\\x85\\xaa\\x07\\x8a\\xbf\\x13h\\xab\\xb70\\xce\\xe3\\xadD\\xdf\\x08\\x02\\xed\\xb9\\xff\\x9a\\xe5\\xd2M\\xf0\\x05)\\xe2\\x9b\\xc2\\x8c\\x95\\x93\\xf1\\xb8\\x80\\xca\\xc6\\xcc\\xa9\\x93X\\xc0#\\xff#>\\x8f\"\\xa8=X\\xd3\\xb9)\\x94\\xb3\\xed\\xb15\"\\xac\\x1a\\xf6\\xbd\\x7f*\\x1bYi\\xab{\\xa9\\xfeD\\x85\\x04mw\\xc2\\x1f\\xf1\\x03\\xf7\\x9f\\xbe\\x05M@\\xb4\\xbaE\\x94_\\x12f\\x84\\xa7\\xee\\x0f\\x8b\\xc7{\\xa5D\\xfca\\xc0\\xd0z\\xd9\\xb5\\x14w,O\\x97\\xae\\x93\\x10\\xdd\\x95o\\x91i#0\\xa7\\x9d\\xf7U.\\xd1\\xf8v\\x99`\\xf4\\xdf\\xdcn\\x18\\x96\\xc2\\xe9\\xe3@\\xf0\\xc7\\x0e\\x0cP%X\\x1f\\xf5\\xfb]*\\xa4C\\xe4\\xa2\\xdc\\xb0\\xd3j\\xea\\xd1\\x0eid\\x99UX\\x92K\\xfbkt$\\xcd\\xeaH\\x95v\\xba\\x00\\xbb>\\xb7r\\xf3\\x89\\xf1`\\xb2W\\xb6we\\xb6B\\xa1\\xabP\\xd2={]\\xb0\\xe3c\\xd9\\x0e\\xf5.z$\\x01\\x12\\x89p\\x12\\xa6\\xb9\\xc9\\xd2\\x96\\xb8\\xece\\xad\\x9e\\r8|\\xa5L\\xd5\\xb9\\xef0\\xe8\\xee\\xaf|J\\x03\\xa9[\\xde\\r\\xf5f\\x8e\\xc6\\xe1\\x91\\x16\\x82+\\xb3\\x00\\xa0\\x9b\\xe7.Ts\\xb8ed\\x1e^f\\xee\\xee-\\x98\\x8b\\xfdcU\\xbd\\xa5\\xe1c\\x12\\xd4\\x04G\\x05a\\x82\\xf4\\xaa\\xbe&\\xb0E\\xde\\xae\\x14\\xb9g\\x10\\x1c7\\x01?\\x94l#/ux\\x99\\xb2\\xd0\\xa9\\x91\\xf7a\\x04\\x0b\\x12;H\\xf7\\xa6\\x81\\xbf\\x9b\\xd6yRB\\xfd\"\\xa6\\xa3\\xce\\xf0\\x9b\\x84\\xd5\\x8f\\x99$\\x94\\xb2zBo\\xc2\\xe5;U\\x1d\\xa9\\x1d\\xaa\\xc8\\xa0`\\x13\\x93\\x99$\\xa4L\\x16\\x93\\xedL\\x82r\\xb7|\\x06\\xb7gH\\xd9\\x0b,\\xe1WB\\x8e\\x86\\x8d\\xd8\\xcf\\xa2\\xd4\"\\xd2\\xce\\xd3\\x88S\\x8d+\\xa2.\\xcc\\xca\\x84\\xc6D9\\xbf\\xc1;\\x16\\x104\\xbd\\x1c\\x95\\r\\x8fN\\xde\\x18\\xef\\xf2\\xc1!7\\x8ccA\\x94\\x82\\xa7G\\xeb\\xd6K\\x1dn\\xd0$\\x93\\x9e9d\\xe7T\\xa0\\x03\\xb6\\xc2\\xc36\\x0c\\xe6\\xe6\\xe5\\xeeU\\x9f\\x9f\\x1eg<\\xc5\\x11\\x10\\x97M\\x02\\xe3\\x87\\x99\\x1f1\\xb0\\xfd\\xdc/\\x82\\x17\\x97A\\x17\\xc2/\\x9d\\x92C\\xe9\\x12\\xc1\\xd8\\x85s^\\t\\xb5\\xa2{\\xe2&\\x18\\xaf\\xfd\\xe4\\xc94\\xf7\\x93\\xab\\xb4k~\\xb5R$\\x7fz\\x18o\\xeeI\\x08>\\xce\\xaa\\xb6G\\x08\\x0bc\\xdc\\x0b\\x9d\\xbb\\x81\\x0b\"\\x82\\x8d\\xc6\\xff\\x9c/\\xb9\\xc5\\xa2\\xca\\r\\x97\\xca\\xfb=\\x10\\x8b\\xca\\x18\\x1a\\x0feN\\x06\\xbd\\xac\\xec\\x99\\xabk\\xcd4VtM\\xd7\\xfb\\xd8\\xc5\\r9\\x07\\xd4\\x80\\xb7M\\xd4\\x1c4!\\xb7\\xf7\\xecw^\\x9a\\x9c\\t~\\x1b\\xa2\\xf57[\\x0f\\xaa\\x1f\\x8f\\x14Y\\x80\\xcb\\xddi\\xcdCx\\xbc\\r.\\x8c\\x06o\\xb9\\xa5\\x88\\xdeW\\x86\\r\\x8cmg\\xeb\\xc7\\xfaZ0\\xc4\\xa5\\xb6\\xde\\x89\\xa9\\x93\\xbb\\xb2\\xaf\\x18,\\xbb\\x00Hm\\xee\\x8e]'\n"
     ]
    }
   ],
   "source": [
    "print(aes.decrypt(ciphertext))"
   ]
  },
  {
   "cell_type": "code",
   "execution_count": 27,
   "metadata": {},
   "outputs": [
    {
     "name": "stdout",
     "output_type": "stream",
     "text": [
      "<pyaes.aes.Counter object at 0x10904fd30>\n",
      "b\"Le march\\xe9 des sneakers en France a connu une croissance exponentielle au cours des derni\\xe8res ann\\xe9es, devenant un ph\\xe9nom\\xe8ne de mode et un investissement lucratif pour de nombreux amateurs et professionnels. \\nCe texte explore les multiples faceteurs qui sous-tendent le commerce de sneakers dans l'Hexagone, en mettant en lumi\\xe8re ses dynamiques \\xe9conomiques, culturelles et sociales.\\nD'un point de vue \\xe9conomique, le commerce de sneakers en France est stimul\\xe9 par une demande croissante pour des mod\\xe8les rares et exclusifs. \\nLes \\xe9ditions limit\\xe9es et les collaborations entre marques de renom et designers c\\xe9l\\xe8bres cr\\xe9ent une urgence d'achat, poussant les prix sur le march\\xe9 secondaire \\xe0 atteindre des sommets vertigineux. \\nCette situation a engendr\\xe9 l'\\xe9mergence d'une v\\xe9ritable \\xe9conomie parall\\xe8le, o\\xf9 les sneakers sont non seulement des objets de mode, mais \\xe9galement des actifs sp\\xe9culatifs.\\n\\nSur le plan culturel, les sneakers occupent une place pr\\xe9pond\\xe9rante dans l'univers de la mode et de la street culture fran\\xe7aise. \\nElles transcendent leur simple fonctionnalit\\xe9 pour devenir des symboles d'appartenance \\xe0 des groupes sociaux sp\\xe9cifiques, des marqueurs d'identit\\xe9 et des oeuvres d'art portable. \\nLes lancements de nouveaux mod\\xe8les sont d\\xe9sormais des \\xe9v\\xe9nements m\\xe9diatiques majeurs, attirant l'attention de millions de passionn\\xe9s \\xe0 travers le pays.\\n\\nSocialement, le commerce de sneakers en France refl\\xe8te les changements dans les comportements de consommation. \\nLa mont\\xe9e en puissance des r\\xe9seaux sociaux a permis aux consommateurs de partager leur passion, d'\\xe9changer des conseils sur les derni\\xe8res tendances et de se tenir inform\\xe9s des sorties \\xe0 venir. \\nDe plus, le ph\\xe9nom\\xe8ne de revente a favoris\\xe9 l'entrepreneuriat chez les jeunes, nombreux \\xe9tant ceux qui ont saisi cette opportunit\\xe9 pour lancer leur propre business de revente de sneakers.\\n\\nEn conclusion, le commerce de sneakers en France est un miroir des tendances actuelles en mati\\xe8re de mode, d'\\xe9conomie et de culture. \\nIl illustre parfaitement comment un produit peut transcender sa fonction premi\\xe8re pour devenir un v\\xe9ritable ph\\xe9nom\\xe8ne social, englobant une multitude de dimensions. \\nCe march\\xe9 dynamique et en constante \\xe9volution continuera sans doute d'attirer de nouveaux adeptes, tout en d\\xe9fiant les conventions et en repoussant les limites de la mode et du commerce.\"\n"
     ]
    }
   ],
   "source": [
    "print(pyaes.Counter(iv))\n",
    "#Et du coup de le regénéré\n",
    "aes = pyaes.AESModeOfOperationCTR(key, pyaes.Counter(iv))\n",
    "print(aes.decrypt(ciphertext))"
   ]
  },
  {
   "cell_type": "code",
   "execution_count": 28,
   "metadata": {},
   "outputs": [
    {
     "data": {
      "text/plain": [
       "(387225946877039798412155, 5883019579684883513940408)"
      ]
     },
     "execution_count": 28,
     "metadata": {},
     "output_type": "execute_result"
    }
   ],
   "source": [
    "p = 7946851324679854613245823\n",
    "g = 5\n",
    "A = 7579501795988122393422986\n",
    "## Elle publie A\n",
    "password = \"35426517\"\n",
    "IV = \"756431\" \n",
    "N = int(password + \"0000\" + IV) \n",
    "\n",
    "b = 123456789  \n",
    "\n",
    "# Calcul de B et C pour ElGamal\n",
    "B = pow(g, b, p)\n",
    "K = pow(A, b, p)  # Clé secrète partagée\n",
    "C = (K * N) % p  # Chiffrement de N avec la clé secrète partagée\n",
    "\n",
    "B, C"
   ]
  },
  {
   "cell_type": "markdown",
   "metadata": {},
   "source": [
    "## Exercice 3"
   ]
  },
  {
   "cell_type": "markdown",
   "metadata": {},
   "source": [
    "#### 1. Démonstration de la signature ElGamal ou RSA (avec des nombres différents de ceux du cours)."
   ]
  },
  {
   "cell_type": "code",
   "execution_count": 29,
   "metadata": {},
   "outputs": [
    {
     "name": "stdout",
     "output_type": "stream",
     "text": [
      "Signature valide : True\n"
     ]
    }
   ],
   "source": [
    "# Fonction pour calculer l'inverse modulo\n",
    "def inverse_modulo(a, m):\n",
    "    m0, x0, x1 = m, 0, 1\n",
    "    while a > 1:\n",
    "        q = a // m\n",
    "        m, a = a % m, m\n",
    "        x0, x1 = x1 - q * x0, x0\n",
    "    return x1 + m0 if x1 < 0 else x1\n",
    "\n",
    "# Fonction pour calculer la signature\n",
    "def sign_elgamal(m, x, p, g):\n",
    "    import random\n",
    "    # Sélection d'un nombre aléatoire k\n",
    "    k = random.randint(2, p - 2)\n",
    "    while pow(k, -1, p - 1) == 0:  # Assure que k est premier avec p-1\n",
    "        k = random.randint(2, p - 2)\n",
    "    r = pow(g, k, p)\n",
    "    k_inv = inverse_modulo(k, p - 1)\n",
    "    s = (m - x * r) * k_inv % (p - 1)\n",
    "    return r, s\n",
    "\n",
    "# Fonction pour vérifier la signature\n",
    "def verify_elgamal(m, r, s, y, p, g):\n",
    "    v1 = pow(g, m, p)\n",
    "    v2 = (pow(y, r, p) * pow(r, s, p)) % p\n",
    "    return v1 == v2\n",
    "\n",
    "# Paramètres ElGamal\n",
    "p = 257\n",
    "g = 3\n",
    "x = 97\n",
    "\n",
    "# Clé publique\n",
    "y = pow(g, x, p)\n",
    "\n",
    "# Message à signer\n",
    "m = 123\n",
    "\n",
    "# Signature\n",
    "r, s = sign_elgamal(m, x, p, g)\n",
    "\n",
    "# Vérification de la signature\n",
    "valid = verify_elgamal(m, r, s, y, p, g)\n",
    "\n",
    "print(\"Signature valide :\", valid)\n"
   ]
  },
  {
   "cell_type": "markdown",
   "metadata": {},
   "source": [
    "#### 2. Exemple d'utilisation du RSA, Diffie-Hellman, ElGamal ou de la signature ElGamal dans Python ou openssl (contexte réel)."
   ]
  },
  {
   "cell_type": "markdown",
   "metadata": {},
   "source": [
    "Supposons que nous ayons un fichier texte appelé \"format.txt\" contenant le message à signer.\n"
   ]
  },
  {
   "cell_type": "markdown",
   "metadata": {},
   "source": [
    "\n",
    "**a) Génération des clés RSA :**\n",
    "Tout d'abord, nous devons générer une paire de clés RSA privée/publique à l'aide d'OpenSSL."
   ]
  },
  {
   "cell_type": "code",
   "execution_count": 30,
   "metadata": {
    "vscode": {
     "languageId": "shellscript"
    }
   },
   "outputs": [
    {
     "ename": "SyntaxError",
     "evalue": "invalid syntax (1953313993.py, line 2)",
     "output_type": "error",
     "traceback": [
      "\u001b[0;36m  Cell \u001b[0;32mIn[30], line 2\u001b[0;36m\u001b[0m\n\u001b[0;31m    openssl genpkey -algorithm RSA -out private_key.pem\u001b[0m\n\u001b[0m            ^\u001b[0m\n\u001b[0;31mSyntaxError\u001b[0m\u001b[0;31m:\u001b[0m invalid syntax\n"
     ]
    }
   ],
   "source": [
    "#copy paste in a terminal\n",
    "openssl genpkey -algorithm RSA -out private_key.pem\n",
    "openssl rsa -pubout -in private_key.pem -out public_key.pem"
   ]
  },
  {
   "cell_type": "markdown",
   "metadata": {},
   "source": [
    "Ces commandes génèrent une clé privée private_key.pem et une clé publique correspondante `public_key.pem`.\n"
   ]
  },
  {
   "cell_type": "markdown",
   "metadata": {},
   "source": [
    "\n",
    "**b) Signature du message :**\n",
    "\n",
    "Ensuite, nous signons le message avec notre clé privée."
   ]
  },
  {
   "cell_type": "code",
   "execution_count": null,
   "metadata": {
    "vscode": {
     "languageId": "shellscript"
    }
   },
   "outputs": [
    {
     "ename": "SyntaxError",
     "evalue": "invalid syntax (4259996256.py, line 1)",
     "output_type": "error",
     "traceback": [
      "\u001b[0;36m  Cell \u001b[0;32mIn[3], line 1\u001b[0;36m\u001b[0m\n\u001b[0;31m    openssl dgst -sha256 -sign private_key.pem -out signature.bin format.txt\u001b[0m\n\u001b[0m            ^\u001b[0m\n\u001b[0;31mSyntaxError\u001b[0m\u001b[0;31m:\u001b[0m invalid syntax\n"
     ]
    }
   ],
   "source": [
    "#copy paste in a terminal\n",
    "openssl dgst -sha256 -sign private_key.pem -out signature.bin format.txt"
   ]
  },
  {
   "cell_type": "markdown",
   "metadata": {},
   "source": [
    "Cela crée une signature du message dans le fichier signature.bin.\n"
   ]
  },
  {
   "cell_type": "markdown",
   "metadata": {},
   "source": [
    "**c) Vérification de la signature :**\n",
    "\n",
    "Pour vérifier la signature avec la clé publique correspondante, nous utilisons :"
   ]
  },
  {
   "cell_type": "code",
   "execution_count": null,
   "metadata": {
    "vscode": {
     "languageId": "shellscript"
    }
   },
   "outputs": [
    {
     "ename": "SyntaxError",
     "evalue": "invalid syntax (1276513542.py, line 1)",
     "output_type": "error",
     "traceback": [
      "\u001b[0;36m  Cell \u001b[0;32mIn[4], line 1\u001b[0;36m\u001b[0m\n\u001b[0;31m    openssl dgst -sha256 -verify public_key.pem -signature signature.bin format.txt\u001b[0m\n\u001b[0m            ^\u001b[0m\n\u001b[0;31mSyntaxError\u001b[0m\u001b[0;31m:\u001b[0m invalid syntax\n"
     ]
    }
   ],
   "source": [
    "#copy paste in a terminal\n",
    "openssl dgst -sha256 -verify public_key.pem -signature signature.bin format.txt"
   ]
  },
  {
   "cell_type": "markdown",
   "metadata": {},
   "source": [
    "Si la vérification réussit, OpenSSL affichera \"Verified OK\".\n"
   ]
  },
  {
   "cell_type": "markdown",
   "metadata": {},
   "source": [
    "Cet exemple montre comment utiliser OpenSSL pour générer une paire de clés RSA, signer un message avec la clé privée et vérifier la signature avec la clé publique. Vous pouvez répéter ces étapes dans un terminal pour expérimenter avec vos propres messages et clés."
   ]
  },
  {
   "cell_type": "code",
   "execution_count": null,
   "metadata": {
    "vscode": {
     "languageId": "shellscript"
    }
   },
   "outputs": [
    {
     "ename": "SyntaxError",
     "evalue": "invalid non-printable character U+E0A0 (4283086991.py, line 1)",
     "output_type": "error",
     "traceback": [
      "\u001b[0;36m  Cell \u001b[0;32mIn[23], line 1\u001b[0;36m\u001b[0m\n\u001b[0;31m    (base) Appliedcrypto on  main 1×🗑️ 1×📝 4×📌 via 🐍 v3.8.8 via 💎 v3.0.0 ➜ oopenssl genpkey -algorithm RSA -out private_key.pem\u001b[0m\n\u001b[0m                            ^\u001b[0m\n\u001b[0;31mSyntaxError\u001b[0m\u001b[0;31m:\u001b[0m invalid non-printable character U+E0A0\n"
     ]
    }
   ],
   "source": [
    "(base) Appliedcrypto on  main 1×🗑️ 1×📝 4×📌 via 🐍 v3.8.8 via 💎 v3.0.0 ➜ openssl genpkey -algorithm RSA -out private_key.pem\n",
    "openssl rsa -pubout -in private_key.pem -out public_key.pem\n",
    ".....+++++\n",
    "............................................................................+++++\n",
    "writing RSA key\n",
    "(base) Appliedcrypto on  main 1×🗑️ 1×📝 4×📌 via 🐍 v3.8.8 via 💎 v3.0.0 ➜ openssl dgst -sha256 -sign private_key.pem -out signature.bin format.txt       \n",
    "(base) Appliedcrypto on  main 1×🗑️ 1×📝 4×📌 via 🐍 v3.8.8 via 💎 v3.0.0 ➜ openssl dgst -sha256 -verify public_key.pem -signature signature.bin format.txt\n",
    "Verified OK"
   ]
  }
 ],
 "metadata": {
  "kernelspec": {
   "display_name": "Python 3",
   "language": "python",
   "name": "python3"
  },
  "language_info": {
   "codemirror_mode": {
    "name": "ipython",
    "version": 3
   },
   "file_extension": ".py",
   "mimetype": "text/x-python",
   "name": "python",
   "nbconvert_exporter": "python",
   "pygments_lexer": "ipython3",
   "version": "3.10.11"
  }
 },
 "nbformat": 4,
 "nbformat_minor": 2
}
