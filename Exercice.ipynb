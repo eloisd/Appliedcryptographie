{
 "cells": [
  {
   "cell_type": "markdown",
   "metadata": {},
   "source": [
    "Code pour projet crypto\n",
    "\n",
    "Import des librairies"
   ]
  },
  {
   "cell_type": "markdown",
   "metadata": {},
   "source": [
    "**Date limite :** Mercredi 27 mars 2024\n",
    "\n",
    "**Groupe TD DIA 6 :**\n",
    "\n",
    "Henri Serano, Sara Thibierge, Eloi Seidlitz"
   ]
  },
  {
   "cell_type": "code",
   "execution_count": 14,
   "metadata": {},
   "outputs": [],
   "source": [
    "import hashlib\n",
    "import random \n",
    "import gmpy2 as gm\n",
    "import math\n",
    "import time\n",
    "import base64\n",
    "import os, binascii\n",
    "from backports.pbkdf2 import pbkdf2_hmac\n",
    "import pyaes, pbkdf2, secrets\n"
   ]
  },
  {
   "cell_type": "markdown",
   "metadata": {},
   "source": [
    "## Exercice 1"
   ]
  },
  {
   "cell_type": "markdown",
   "metadata": {},
   "source": [
    "1. Trouver une chaîne de caractères (contenant vos noms et prénoms) dont le hash SHA256 se termine par le plus de zéros possible (en hexadécimal).\n",
    "\n",
    "2. Mesurer le temps moyen pour obtenir n et n+1 zéros en fin de chaîne (n = 5) et calculer le rapport Tn+1/Tn."
   ]
  },
  {
   "cell_type": "markdown",
   "metadata": {},
   "source": [
    "### Partie 1"
   ]
  },
  {
   "cell_type": "code",
   "execution_count": 15,
   "metadata": {},
   "outputs": [
    {
     "data": {
      "text/plain": [
       "{'chaine_trouvee': 'Serano_Henri__Sara_Thibierge__Eloi_Seidlitz_DIA677031',\n",
       " 'hash_trouve': '31e6f8e6377ad1c9895ef7c22b0ef9a252c0f0ec9d062178c58b416bcb470000',\n",
       " 'compteur_trouve': 77031,\n",
       " 'temps_moyen_n': 0.13479971885681152,\n",
       " 'temps_moyen_n_plus_1': 0.3936333179473877,\n",
       " 'rapport_temps': 2.9201345617457655}"
      ]
     },
     "execution_count": 15,
     "metadata": {},
     "output_type": "execute_result"
    }
   ],
   "source": [
    "\n",
    "def trouver_chaine(base, zeros_cibles):\n",
    "        compteur = 0\n",
    "        while True:\n",
    "            chaine_test = base + str(compteur)\n",
    "            hash_resultat = sha256_hash(chaine_test)\n",
    "            if hash_resultat.endswith('0' * zeros_cibles):\n",
    "                return chaine_test, compteur, hash_resultat\n",
    "            compteur += 1\n",
    "\n",
    "def sha256_hash(chaine):\n",
    "        return hashlib.sha256(chaine.encode()).hexdigest()\n",
    "        \n",
    "def trouver_chaine_et_stats(base, zeros_cibles, iterations_stat=5):\n",
    "    \n",
    "\n",
    "    # Première partie : Trouver la chaîne\n",
    "    chaine_trouvee, compteur_trouve, hash_trouve = trouver_chaine(base, zeros_cibles)\n",
    "\n",
    "    # Deuxième partie : Statistiques de temps\n",
    "    temps_n = []\n",
    "    temps_n_plus_1 = []\n",
    "    \n",
    "    for _ in range(iterations_stat):\n",
    "        debut = time.time()\n",
    "        trouver_chaine(base, zeros_cibles)\n",
    "        fin = time.time()\n",
    "        temps_n.append(fin - debut)\n",
    "\n",
    "        debut = time.time()\n",
    "        trouver_chaine(base, zeros_cibles + 1)\n",
    "        fin = time.time()\n",
    "        temps_n_plus_1.append(fin - debut)\n",
    "\n",
    "    temps_moyen_n = sum(temps_n) / len(temps_n)\n",
    "    temps_moyen_n_plus_1 = sum(temps_n_plus_1) / len(temps_n_plus_1)\n",
    "\n",
    "    rapport_temps = temps_moyen_n_plus_1 / temps_moyen_n\n",
    "\n",
    "    return {\n",
    "        \"chaine_trouvee\": chaine_trouvee,\n",
    "        \"hash_trouve\": hash_trouve,\n",
    "        \"compteur_trouve\": compteur_trouve,\n",
    "        \"temps_moyen_n\": temps_moyen_n,\n",
    "        \"temps_moyen_n_plus_1\": temps_moyen_n_plus_1,\n",
    "        \"rapport_temps\": rapport_temps\n",
    "    }\n",
    "\n",
    "\n",
    "base_chaine = \"Serano_Henri__Sara_Thibierge__Eloi_Seidlitz_DIA6\"\n",
    "zeros_cibles = 4 # Nombre de zéros à la fin du hash\n",
    "resultats = trouver_chaine_et_stats(base_chaine, zeros_cibles)\n",
    "resultats\n"
   ]
  },
  {
   "cell_type": "markdown",
   "metadata": {},
   "source": [
    "## Exercice 2"
   ]
  },
  {
   "cell_type": "markdown",
   "metadata": {},
   "source": [
    "1. Chiffrer un texte d'environ une demi-page (format .txt) avec AES256-CTR-PBKDF2 en utilisant un mot de passe et une valeur de compteur (IV) de 6 à 9 chiffres (sans 0).\n",
    "\n",
    "2. Constituez un entier N en accolant le mot de passe et l'IV séparés par quatre 0.\n",
    "\n",
    "3. Chiffrer N avec ElGamal en utilisant les nombres p, g et A fournis.\n",
    "\n",
    "4. Sauvegarder le fichier chiffré avec l'extension .enc."
   ]
  },
  {
   "cell_type": "code",
   "execution_count": 16,
   "metadata": {},
   "outputs": [
    {
     "data": {
      "text/plain": [
       "\"Le marché des sneakers en France a connu une croissance exponentielle au cours des dernières années, devenant un phénomène de mode et un investissement lucratif pour de nombreux amateurs et professionnels. \\nCe texte explore les multiples faceteurs qui sous-tendent le commerce de sneakers dans l'Hexagone, en mettant en lumière ses dynamiques économiques, culturelles et sociales.\\nD'un point de vue économique, le commerce de sneakers en France est stimulé par une demande croissante pour des modèles rares et exclusifs. \\nLes éditions limitées et les collaborations entre marques de renom et designers célèbres créent une urgence d'achat, poussant les prix sur le marché secondaire à atteindre des sommets vertigineux. \\nCette situation a engendré l'émergence d'une véritable économie parallèle, où les sneakers sont non seulement des objets de mode, mais également des actifs spéculatifs.\\n\\nSur le plan culturel, les sneakers occupent une place prépondérante dans l'univers de la mode et de la street culture française. \\nElles transcendent leur simple fonctionnalité pour devenir des symboles d'appartenance à des groupes sociaux spécifiques, des marqueurs d'identité et des oeuvres d'art portable. \\nLes lancements de nouveaux modèles sont désormais des événements médiatiques majeurs, attirant l'attention de millions de passionnés à travers le pays.\\n\\nSocialement, le commerce de sneakers en France reflète les changements dans les comportements de consommation. \\nLa montée en puissance des réseaux sociaux a permis aux consommateurs de partager leur passion, d'échanger des conseils sur les dernières tendances et de se tenir informés des sorties à venir. \\nDe plus, le phénomène de revente a favorisé l'entrepreneuriat chez les jeunes, nombreux étant ceux qui ont saisi cette opportunité pour lancer leur propre business de revente de sneakers.\\n\\nEn conclusion, le commerce de sneakers en France est un miroir des tendances actuelles en matière de mode, d'économie et de culture. \\nIl illustre parfaitement comment un produit peut transcender sa fonction première pour devenir un véritable phénomène social, englobant une multitude de dimensions. \\nCe marché dynamique et en constante évolution continuera sans doute d'attirer de nouveaux adeptes, tout en défiant les conventions et en repoussant les limites de la mode et du commerce.\""
      ]
     },
     "execution_count": 16,
     "metadata": {},
     "output_type": "execute_result"
    }
   ],
   "source": [
    "with open(\"format.txt\", \"r\",encoding=\"utf-8\") as file:\n",
    "    text = str(file.read())\n",
    "text"
   ]
  },
  {
   "cell_type": "code",
   "execution_count": 17,
   "metadata": {},
   "outputs": [],
   "source": [
    "password = \"123456789\"\n",
    "passwordSalt = os.urandom(16)\n",
    "key = pbkdf2.PBKDF2(password, passwordSalt).read(32)\n",
    "iv = secrets.randbits(256)\n",
    "#On est obliger de recrée un mot de pass unique pour chiffrer le texte\n",
    "aes = pyaes.AESModeOfOperationCTR(key, pyaes.Counter(iv))\n",
    "ciphertext = aes.encrypt(text)"
   ]
  },
  {
   "cell_type": "code",
   "execution_count": 18,
   "metadata": {},
   "outputs": [
    {
     "name": "stdout",
     "output_type": "stream",
     "text": [
      "b'\\xca\\xd0\\xe5\\xa3I\\xd7\\xd1}=\\x85\\x85\\xdc\\\\\\xd3`\\xac(1\"3^\\xddh\\xfc\\xa9\\xd3\\x94\\xb5\\xcb\\x8c\\xb8\\xb6\\xff\\xe3\\xdeO\\xd8pv9\\xba\\x00\\xab\\xa8e\\xe0rS\\x12\\xf7\\x87 \\x9ch]\\xd2V\\x889\\x80\\xb4y\\xf1\\xfc\\xee\\xeb\\x9cL:\\x81\\xdd\\x14P\\x82\\xc7z6\\xbc9\\xc2\\xe7\\xc5\\xe7\\xfe\\x02&\\xf0\\xa8\\x0b8\\xe6\\xcd k\\x8b^\\xd7R\\xf7\\xff!RuL\\x1f\\xac\\xab\\xac\\xf6\\xab\\x92\\xb5s\\x07\\xc9\\x1f\\xfc\\xf14\\x99)\\x1a\\x01\\x8bk\\x1d\\xe2\\x19\\x07\\x96\\xc8\\x9e*\\xa8\\xd40f\\xb5\\xae\\xba\\xd4\\x05\\x1e\\x12\\noAn\\x98\\x0f\\xbbS\\x17\\xc5\\xe8\\xacW\\xc516t\\xf0\\x9d\\xd9\\xd8\\x1fg`\\xf1\\x94\\x7f\\xb6o\\x82T\\xa4\\x19\\xa7I\\xd9Y\\xd1\\xa2\\x04\\x89\\x9aj\\x84\\xa8\\xfd^\\x82\\xa8\\xee\\xe2\\xaf}\\xba\\xeedd\\x98\\x9d\\xa4\\xcc\\x94\\x86\\xae\"\\xfehYm\\\\\\xac\\xeb\\xa9\\x0e\\xcd\\x17\\x96M\\xbe\\xdcP\\xd8@b\\xa1\\x93\\x1cA^\\xdf\\x05\\xbd\\x15j\\xbc\\x11\\xe0_\\xe3\\xad\\xe0<\\x9cLi\\xd1dw7\\xfc^!\\x1e\\xee\\x14\\xbf\\xf1\\x87\\xd6\\xbf\\xd2\\xc8\\'\\x8c\\xa1bz\\x06b\\xfa\\x1f\\xa7}\\xfd\\xfb\\x06U+*S\\xb7\\xf9d\\xc0\\xda\\xc7\\x9aNL\\x99z\\x90\\x9c\\xa4N\\x06>p\\xad<\\xe0\\xa5\\xd0\\xd4I\\x90\\xe7\\x9a\\xd1\\xe3;\\x17\\x0e6\\xca\\xb3\\x1f\\t\\xda 8}\\x1b\\xb9J\\xc62v\\x96\\xac\\xf0\\xfeH\\xf0\\xc2rr\\xf7\\x14\\xecz\\xbc\\x1c\\xe1\\x80@\\xff\\xe9P\\xef\\xa0S\\x16~\\x98\\xed\\x0b\\xf5W\\xcf[\\x04\\xa3\\xf7\\x8aE\\x82V\\xdeL\\xa7\\x06\\xb6\\xb9\\x85+\\x0b\\x86\\x13\\x85\\')/\\x82_u\\xe5\\xd3\\x1f_r\\xc3\\x0e\\x1dL\\x81\\xd6:\\xff\\x90\\x85\\xd9\\xeb\\x04/*\\x8b\\xb1a\\xd2\\x15\\x02\\x85p\\nD\\x0e\\xfb7*V\\xcb\\xb2@\\x9e\\xa1{d\\x9c\\x0f\\x0e\\x91\\xc7\\x9e\\xf6y\\xda\\x02\\x96\\x10\\xcf\\x9b\\xc9p\\xcd\\xfb\\xe3\\xe9\\xecM!\\xeb\\xf6\\x13\\xc8\\x08\\xc0\\xf39\\xa4\\xe8\\'\\xdc\\xfb\\xa1RJy\\xae\\x8f\\xa1d\\xcb\\x88\\xac]%3\\xe6$\\xd9fX\\xcc\\xddwgO\\x9eN \\xe2;\\xfbI\\xa2\\x19\\xe8\\x16%.\\xe7\\xb1\\xf5e\\xc7\\xc6WK\\xffp\\x95\\x0c\\x9f:\\xb1\\xe0\\xb1-\\xe3\\xb9]Bs\\xe4\\xea\\xfc\\xefy9/Z\\xe8\\x8b\\x04\\x11[\\xbd\\xac\\xd5\\xe3`\\x03Y\\x03\\x1c\\xe5\\xb3\\xca\\x14\\xbf\\xd2Y\\xf5\\xf6P\\xf5\\xa1\\xc4\\xaaxw\\x0bz\\xa9\\x1bf-\\xae\\xfbW\\xe15M\\x89\\xa0|\\'\\x16^\\xf9W0c\\x07\\xe3\\xd1\\x88:\\x91\\xea8?\\x85\\t\\xa8\\xeab\\xf5;\\x03\\x8c\\xd0\\x85#\\xe0B\\x1e$^\\x19|\\xad\\xa4\\xfd\\xb8k\\xb8\\xd3\\x19\\n\\x7f\\xf3\\xd7\\x14\\xc4>\\xcb\\x00\\xae\\xee\\xb0\\x8e\\xfd\\x17y\\xce2v\\xf8\\xc0*\\xfaAX\\x93\\x96\\x83\\x12\\xbdt\\x97\\x1c/;\\x0f\\xaf\\x82\\xe0\\xf5\\xd1\\xe0|\\x85\\x91/\\xdb0i\\xb9\\x94\\xb9L\\xe7bW\\xc9\\xbc\"\\xe8Ah\\xea\\xfa\\x1d\\x85\\xa9Z\\xa9\\xe0\\xa4g\\xe6\\xe7\\xbcnU\\xa8^zi\\xf1\\xbda\\x87\\x823wi\\x1b\\xcb\\xd47i5|\\xb2h([\\xefwT~\\xc8\\x1c\\x8e\\x9c\\xb6\\x9e\\xefX\\x7f-\\x1a\\xac\\xb2\\xe7XU\\x7f1\\xee\\xb3\\x8a\\n\\xca\\xf0\\xf7\\xc1Vi-\\x92\\x9d\\xfb`\\x05rM\\x9b\\x02\\xbf\\xd2\\xdd\\x02\\xc9\\xcc\\x1d\\xc5\\xafx\\x8a\\xed&\\xf8\\x9a\\xbf\\xbe\\xe8\\x9fF\\xfb)K\\xbaKbp\\xc6\\xc4h{\\x9b\\x02\\n\\x16\\'\\\\~c-\\x1a\\x1b\\x00A5\\xce\\xb7\\xcc&\\x9dK\\xa3\\xeaJV\\x9ao\\x92]q\\xba\\xec\\xb1ra\\xfb:\\x99v\\xbfC\\xd5\\xbbmn# \\x18\\r\\x91\\xaf\\xb6\\xf5\\x064y.\\xb1Y\\xec\\xa1\\xe3\\xd3#2;(\\xa6\\x9e\\x82&\\xf4V\\xff )gf\\xb0\\xec\\xf0\\xca\\xa1i\\x9c >\\xd5\\xbcXq\\x88\\xe1\\xdf\\xd4\\x88Q\\x94\\x86\\ry^\\x18\\x1f(\\x81%\\xb0^r\\'\\x0b\\xde6\\xd3\\xf1\\x1c\\x14i{\\xf5\\x16U\\x9c\\xeb5\\xf6R\\x9f\\xb3\\x10\\xe8\\xfb\\x9c\\xebU,!\\x1f\\x0f\\xa0z\\xfc\\xfb\\xecdZ7J\\'\\x0f\\xa5\\xa9\\xe6O\\x91\\xbe\\x85F\\x065\\xd3kL\\x8e{(\\x93\\xf3\\xd7\\x80\\xca\\xf8e@\\x10\\xe0\\xe3\\xf4\\xadL\\xeeR\\xd9\\x0b\\xff\\xb9+\\xc5=\\xa7\\xcdK\\x0c\\xb7\\x8b;\\xf8xb\\xbaP\\xd2\\xb3\\xc0 \\x93\\xca\\xfaW\\xdf\\xe61\\xd45\\xbb\\x88R\\xe4+\\x16\\xc7?\\xf1\\xe9f\\xde\\x98\\x1f\\x1a\\x8f7<\\\\Ev\\xacn9\\xd0]\\x0e\\x88;\\xb7\\nb\\x8a\\xfc\\x91q\\x80\\xebl7\\xf8\\xcc\\x9e\\xcf\\xe9\\xfd\\x0f\\xf3E\\'\\xf47\\xe4:\\xad\\xe3<|\\x8d\\xbd\\xe6\\x1a\\xdb\\x8d\\x89\\xf0\\xaf\\xd4=,`\\xba\\xd7\\xa4\\x16%\\x17\\x1e\\xda\\xae\\xc5X\\xe1c\\xdc\\xd5.O\\x82\\xdc\\xc8_4\"\\xb9_\\x0e\\xc27/\\xf7\\xb6\\x98\\xcd?\\xdb;i\\x8e@\\r\\xb3\\xca\\xc7S\\xa2\\xc0\\\\,~\\x8ekO\\\\\\xc87\\x18^\\x82^\\x18\\x8c\\x92{\\xcc\\xe9\\xf2_\\x80S:\\xd8\\xbe\\x0ct@\"z\\x8c\\xeduO \"\\xb9\\x97\\xf1\\xa0\\xbe\\x01\\xfb\\\\\\xb9\\xdcm\\xf0\\x8f\\x87s(\\xaa\\x12\\xab|\\x8b\\x1f\\xfd\\xeff_5\\xa0\\x8bzB\\xfc\\x0fF\\xc7V_\\xf3Wx\\xe9(\\x93c\\xe7\\x1a\\xe8\\x89:\\xaf\\x9b\\x9b\\xad\\xect\\xe4\\x8d\\xcb\\xc3\\xb3\\x0bb[\\xc5\\xa6\\xe1\\xc5\\x9c\\x89\\x03\\xdba\\xa8\\x1f\\xd6r\\xde\\xf4\\xc3\\x83\\xcd\\x9di\\x95\\xde6A\\xb0\\x0e\\x84\\'%\\xc4\\x833\\xa3\\x0ex\\xd9\\xe7\\xa0@\\xe3I\\xb3\\xab\\xf6e\\x86(\\x90\\x8dc\\x800\\xe8e\\x15`\\xef\\xd75#U\\x1c\\xef\\x81\\x1d6\\xf3;\\x02Y[\\xa0\\xc5t\\xd8\\xf8g|\\xcdezo\\x0f\\xecN\\x07\\xad\\xf7\\xf01r\\x9d\\xe8k\\xb9\\x0f\\x7f(D\\xf5M\\xae\\x1cQ@\\x8b\\x1bY\\xfd\\x9d\\xbd\\xf0`\\xee+\\x02\\xde\\x14d\\x15\\xd34\\xd2\\x8f\\xa0\\x03\\x9ffOw\\xe3\\x9cX\\x98I\\xb2\\xa89\\xf4y\\xc6\\xd2\\xb9Q8s\\xcdH#,\\x01\\xd9\\xd4t\\xe2\\xd2\\xa4\\xffD\\xf6\\x900\\xe9\\x85\\x98\\x10\\x95Ya!\\xc3\\xbav\\x14\\xd8\\x1e\\x9cb\\xd1?\\x90\\x18\\xcd*\\x08\\x04\\xbc\\n\\x0e6\\x97q?z\\x9c\\x15\\x0f\\x80*\\xe3\\xf4H\\xef\\xeb\\xb3oe\\xc6\\xce\\x82\\xeb%\\x9eW\\xc4$\\xce!\\xcb\\xfd\\x1a\\xe3\\x88-\\xcc\\xbb\\x07\\xe2:\\xb2\\x051\\x9bW\\xf3\\xf5+\\x01\\xd3\\x89\\xec\\xa6\\xb4\\xc4\\x9c\\x0c`\\x1e\\xe6\\x05S\\xb2\\xe5l\\x11\\x11%\\xfc\\xb2\\x0eW\\xe1\\xf8\\x97\\x12\\xdb.\\x12!\\x87KN\\xf6\\xba\\x1f\\xd3\\xca\\n\\xd1X.by\\xb9\\xc9\\x05\\x97\\xf7\\xech\\x1c\\x93\\x1d\\xf0\\xd6\\xc9Sz\\xea\\x85$j\\xc5,\\x9e\\x94\\x16\\xc9\\x8c\\x10\\x9a6K\\xe2\\x10n\\x14\\xf3\\x90\\x7f\\x10\\xbe\\xcay\\xae\\n(_\\x91\\xa3\\xb6\\xaa\\xf0-\\xaa/i\\xc7\\xc5\\xf4\\xa8\\x14\\xfb_\\x1dG\\x12\\xb0\\x91a\\x80\\xd5\\xcd\\xf6\\x03\\x84\\xd4\\x0b\\xeat3@\\xee\\xb9q(\\xf0\\x0c0\\xef\"\\xfeahw\\xb6Z\\xe5AB5\\x9f\\xa3\\xd8\\xc5\\xb2\\x0f^\\xc4\\x97\\x89\\x96\\xbaXNJj)|kH1\\x8b\\xa0\\t\\x15{\"\\xe3L&&\\x00\\x00T iKN\\xc4\\xa8T\\xdf@\\xaa\\xc8\\xb5\\xab\\xa3\\xe4Z\\xe4\\xc4:\"\\xce\\xcd\\xa2a\\x85f\\x0e\\x1fW&\\r\\x8c#\\x8d\\xaf+\\xd6+j\\x85\\xc7\\x87\\xff\\xad\\x0cTb;s\\xb2\\x7f$q\\xed\\x9e\\xe0\\x939\\x1aw\\x01\\x91e\\xb7\\xee\\x7f\\xd8\\xe3.oy\\xf0\\x03\\x16BL\\x04~\\x87\\x08\\xad\\x1b\\xc2FQ\\x85\\xf6*\\x11\\xf2\\x8c\\xbc\\x1e\\x9e\\x8bo\\x92\\xf5{\\x1a^\\xc2\\xfc\\x97\\x0e@t\\xb3\\xeb\\xf1\\x91\\xb9`\\xa0\\xb9e\\x9d\\xbb^M\\x93\\xc3U\\xff\\xe5\\xfe\\xbb\\xc7#\\x06\\xcf\\xceB\\x1a\\xd1\\x91\\xd6\\x7f\\xc1qW\\x8f\\xa8\\x98w\\x86\\x1d\\xe6\\xf2\\xa3C\\xf2\\'\\xe0\\xdcP3B\\xae\\xf8\\xcfTiSR\\x14\\xee\\xea\\x1f\\xfea\\x12\\x95\\xd4\\x17\\xe2\\x93\\x8f\\x0b>7\\x9e\\xd5\\x1f\\xd2\\x93\\x99\\xc2\\x98\\xb4\\xb4\\xd7\\x80 \\'\\xadc\\xa29\\xa9$\\\\\\x1f6\\xbb\\x04\\xd4\\xf5W\\xacA\\xd3\\xf2En\\xb6\\xf9MJ\\xf5\\x1cy9\\x86w\\x7f\\xac\\xac!Bt\\xb7\\x13\\xe2G\\x8a\\x9d\\xe9\\x1b\\xdaW\\x15\\xac\\xc6OI\\xfa\\xa5l\\x82\\xd2\\xb58<\\xd9$\\xdd\\xdb\\xc8\\x89\\xc3x\\xf3\\xb7m\\xa2(\\xd1\\rXi\\x15D.P-\\x9b\\xe1\\x9e\\xa3\\xaa\\x1c*\\xbf`\\x07\\x07\\xed\\xdc^\\xech\\xc9\\x82\\xbf.\\xe7\\xb5\\x8b\\x12\\xc7\\xf0\\x1a\\n\\xe0\\xb2@\\xaf\\xad\\xddW\\x8a\\xa2\\r\\xcc!\\xdd.-\\x95\"F\\xc3w\\x1e{\\xb0`\\x9b\\xf4 >\\xb9\\xeb\\xc2\\x87:8at8V+w\\xc8\\xe7\\xc6S\\xa4>\\x1a\\xc6\\xa5\\x1f\\x9f\\x1cn\\x8c2\\xf7\\xadM\\xf1g\\xee\\xf6v\\xa7\\xcdg\\x88\\x1c\\xac\\xf4\\xc9A0l\\x94\\xcf\\x90\\xcb9I\\xbbJ\\x1d\\xe8\\xda\\x87\\\\\\x12\\xf6\\xca\\x1b;$\\xef\\xaeE\\x99p\\x00\\x93Ng@*s\\xed\\xd4\\xfau\\xcbu\\x1a\\x87d.\\x9b~\\xab\\xa3\\xcfL6`\\x0b\\x9a\\xe3,\\xf6\\xd5\\xea\\xfb\\xa1\\xb7\\x10I\\xd2\\xfd\\x7f\\x82\\t5\\x92\\xca\\x16\\xa2>\\x94\\x9a\\xcf\\x8c\\xde\\xd0\\xd1m\\x1b\\xb62\\xaa\\xdf:9\\x93\\xf5\\x87\\xdbJ\\xd8\\x05\\x9b\\x15\\'D\\xb7#\\x9d\\x87\\xb7\\xa8\\xdd\\x99\\x99\\xde\\x05fB0\\x9c\\r!lg\\x0eq\\x00?e\\x7fp\\x95(x\\xd0D\\xe6\\xafp\\x18\\xc8A\\xf7\\x05,\\xd7+\\x8c\\xb6ob\\xa4R\\xf3\\xf8:%\\x1e{\\xe5\\x9a\\xe2\\x97\\x83\\xebFOI\\x0e7 \\xec(wE4\\xaeL\\xf4\\xdd\\x87\\xcd\\xf5h\\x87\\x8dU\\xff\\xa4\\xce\\xe2\\xe0\\xfb\\x0bvd\\x00X\\xf0\\x9fz\\x1b(\\xe7\\nk;\\x8eT\\xf6\\xf2/JY\\xfb\\x88\\x86\\'$\\x8e\\x98\\xa5\\x0e\\xf4\\x00\\xa1P\\xda\\xf9\\x81S\\r\\xc1\\x1b\\t\\x8e\\xba\\x03\\x1f\\xab\\xfahx\\x11i\\xc1\\xe1g\\n{\\x15\\xf1\\x92\\xbe\\xb8\\xcarP)\\xb6\\xa9\\x8e\\x0bLN\\xe8\\xacx\\xf7[\\x81\\xbarC}\\xaf\\x85z\\x1a\\x0e\\\\.)G\\xb9\\xe9&\\x8f\\xe5\\x13o\\xfe\\xfeI\\xf78~\\\\r\\x17\\tI\\x7f\\x95A\\xd2\\xc1\\x8cn\\xee\\xd7\\xb2\\xff\\xd3r\\xb3t-\\x93'\n"
     ]
    }
   ],
   "source": [
    "print(aes.decrypt(ciphertext))"
   ]
  },
  {
   "cell_type": "code",
   "execution_count": 19,
   "metadata": {},
   "outputs": [
    {
     "name": "stdout",
     "output_type": "stream",
     "text": [
      "<pyaes.aes.Counter object at 0x0000026D6A4C2F10>\n",
      "b\"Le march\\xe9 des sneakers en France a connu une croissance exponentielle au cours des derni\\xe8res ann\\xe9es, devenant un ph\\xe9nom\\xe8ne de mode et un investissement lucratif pour de nombreux amateurs et professionnels. \\nCe texte explore les multiples faceteurs qui sous-tendent le commerce de sneakers dans l'Hexagone, en mettant en lumi\\xe8re ses dynamiques \\xe9conomiques, culturelles et sociales.\\nD'un point de vue \\xe9conomique, le commerce de sneakers en France est stimul\\xe9 par une demande croissante pour des mod\\xe8les rares et exclusifs. \\nLes \\xe9ditions limit\\xe9es et les collaborations entre marques de renom et designers c\\xe9l\\xe8bres cr\\xe9ent une urgence d'achat, poussant les prix sur le march\\xe9 secondaire \\xe0 atteindre des sommets vertigineux. \\nCette situation a engendr\\xe9 l'\\xe9mergence d'une v\\xe9ritable \\xe9conomie parall\\xe8le, o\\xf9 les sneakers sont non seulement des objets de mode, mais \\xe9galement des actifs sp\\xe9culatifs.\\n\\nSur le plan culturel, les sneakers occupent une place pr\\xe9pond\\xe9rante dans l'univers de la mode et de la street culture fran\\xe7aise. \\nElles transcendent leur simple fonctionnalit\\xe9 pour devenir des symboles d'appartenance \\xe0 des groupes sociaux sp\\xe9cifiques, des marqueurs d'identit\\xe9 et des oeuvres d'art portable. \\nLes lancements de nouveaux mod\\xe8les sont d\\xe9sormais des \\xe9v\\xe9nements m\\xe9diatiques majeurs, attirant l'attention de millions de passionn\\xe9s \\xe0 travers le pays.\\n\\nSocialement, le commerce de sneakers en France refl\\xe8te les changements dans les comportements de consommation. \\nLa mont\\xe9e en puissance des r\\xe9seaux sociaux a permis aux consommateurs de partager leur passion, d'\\xe9changer des conseils sur les derni\\xe8res tendances et de se tenir inform\\xe9s des sorties \\xe0 venir. \\nDe plus, le ph\\xe9nom\\xe8ne de revente a favoris\\xe9 l'entrepreneuriat chez les jeunes, nombreux \\xe9tant ceux qui ont saisi cette opportunit\\xe9 pour lancer leur propre business de revente de sneakers.\\n\\nEn conclusion, le commerce de sneakers en France est un miroir des tendances actuelles en mati\\xe8re de mode, d'\\xe9conomie et de culture. \\nIl illustre parfaitement comment un produit peut transcender sa fonction premi\\xe8re pour devenir un v\\xe9ritable ph\\xe9nom\\xe8ne social, englobant une multitude de dimensions. \\nCe march\\xe9 dynamique et en constante \\xe9volution continuera sans doute d'attirer de nouveaux adeptes, tout en d\\xe9fiant les conventions et en repoussant les limites de la mode et du commerce.\"\n"
     ]
    }
   ],
   "source": [
    "print(pyaes.Counter(iv))\n",
    "#Et du coup de le regénéré\n",
    "aes = pyaes.AESModeOfOperationCTR(key, pyaes.Counter(iv))\n",
    "print(aes.decrypt(ciphertext))"
   ]
  },
  {
   "cell_type": "code",
   "execution_count": 20,
   "metadata": {},
   "outputs": [
    {
     "data": {
      "text/plain": [
       "(387225946877039798412155, 5883019579684883513940408)"
      ]
     },
     "execution_count": 20,
     "metadata": {},
     "output_type": "execute_result"
    }
   ],
   "source": [
    "p = 7946851324679854613245823\n",
    "g = 5\n",
    "A = 7579501795988122393422986\n",
    "## Elle publie A\n",
    "password = \"35426517\"\n",
    "IV = \"756431\" \n",
    "N = int(password + \"0000\" + IV) \n",
    "\n",
    "b = 123456789  \n",
    "\n",
    "# Calcul de B et C pour ElGamal\n",
    "B = pow(g, b, p)\n",
    "K = pow(A, b, p)  # Clé secrète partagée\n",
    "C = (K * N) % p  # Chiffrement de N avec la clé secrète partagée\n",
    "\n",
    "B, C"
   ]
  },
  {
   "cell_type": "markdown",
   "metadata": {},
   "source": [
    "## Exercice 3"
   ]
  },
  {
   "cell_type": "markdown",
   "metadata": {},
   "source": [
    "* Démonstration de la signature ElGamal ou RSA (avec des nombres différents de ceux du cours).\n",
    "* Exemple d'utilisation du RSA, Diffie-Hellman, ElGamal ou de la signature ElGamal dans Python ou openssl (contexte réel)."
   ]
  },
  {
   "cell_type": "markdown",
   "metadata": {},
   "source": [
    "#### 1. Démonstration de la signature ElGamal ou RSA (avec des nombres différents de ceux du cours)."
   ]
  },
  {
   "cell_type": "code",
   "execution_count": 21,
   "metadata": {},
   "outputs": [
    {
     "ename": "ValueError",
     "evalue": "base is not invertible for the given modulus",
     "output_type": "error",
     "traceback": [
      "\u001b[1;31m---------------------------------------------------------------------------\u001b[0m",
      "\u001b[1;31mValueError\u001b[0m                                Traceback (most recent call last)",
      "Cell \u001b[1;32mIn[21], line 39\u001b[0m\n\u001b[0;32m     36\u001b[0m m \u001b[38;5;241m=\u001b[39m \u001b[38;5;241m123\u001b[39m\n\u001b[0;32m     38\u001b[0m \u001b[38;5;66;03m# Signature\u001b[39;00m\n\u001b[1;32m---> 39\u001b[0m r, s \u001b[38;5;241m=\u001b[39m \u001b[43msign_elgamal\u001b[49m\u001b[43m(\u001b[49m\u001b[43mm\u001b[49m\u001b[43m,\u001b[49m\u001b[43m \u001b[49m\u001b[43mx\u001b[49m\u001b[43m,\u001b[49m\u001b[43m \u001b[49m\u001b[43mp\u001b[49m\u001b[43m,\u001b[49m\u001b[43m \u001b[49m\u001b[43mg\u001b[49m\u001b[43m)\u001b[49m\n\u001b[0;32m     41\u001b[0m \u001b[38;5;66;03m# Vérification de la signature\u001b[39;00m\n\u001b[0;32m     42\u001b[0m valid \u001b[38;5;241m=\u001b[39m verify_elgamal(m, r, s, y, p, g)\n",
      "Cell \u001b[1;32mIn[21], line 14\u001b[0m, in \u001b[0;36msign_elgamal\u001b[1;34m(m, x, p, g)\u001b[0m\n\u001b[0;32m     11\u001b[0m \u001b[38;5;28;01mdef\u001b[39;00m \u001b[38;5;21msign_elgamal\u001b[39m(m, x, p, g):\n\u001b[0;32m     12\u001b[0m     \u001b[38;5;66;03m# Sélection d'un nombre aléatoire k\u001b[39;00m\n\u001b[0;32m     13\u001b[0m     k \u001b[38;5;241m=\u001b[39m random\u001b[38;5;241m.\u001b[39mrandint(\u001b[38;5;241m2\u001b[39m, p \u001b[38;5;241m-\u001b[39m \u001b[38;5;241m2\u001b[39m)\n\u001b[1;32m---> 14\u001b[0m     \u001b[38;5;28;01mwhile\u001b[39;00m \u001b[38;5;28;43mpow\u001b[39;49m\u001b[43m(\u001b[49m\u001b[43mk\u001b[49m\u001b[43m,\u001b[49m\u001b[43m \u001b[49m\u001b[38;5;241;43m-\u001b[39;49m\u001b[38;5;241;43m1\u001b[39;49m\u001b[43m,\u001b[49m\u001b[43m \u001b[49m\u001b[43mp\u001b[49m\u001b[43m \u001b[49m\u001b[38;5;241;43m-\u001b[39;49m\u001b[43m \u001b[49m\u001b[38;5;241;43m1\u001b[39;49m\u001b[43m)\u001b[49m \u001b[38;5;241m==\u001b[39m \u001b[38;5;241m0\u001b[39m:  \u001b[38;5;66;03m# Assure que k est premier avec p-1\u001b[39;00m\n\u001b[0;32m     15\u001b[0m         k \u001b[38;5;241m=\u001b[39m random\u001b[38;5;241m.\u001b[39mrandint(\u001b[38;5;241m2\u001b[39m, p \u001b[38;5;241m-\u001b[39m \u001b[38;5;241m2\u001b[39m)\n\u001b[0;32m     16\u001b[0m     r \u001b[38;5;241m=\u001b[39m \u001b[38;5;28mpow\u001b[39m(g, k, p)\n",
      "\u001b[1;31mValueError\u001b[0m: base is not invertible for the given modulus"
     ]
    }
   ],
   "source": [
    "# Fonction pour calculer l'inverse modulo\n",
    "def inverse_modulo(a, m):\n",
    "    m0, x0, x1 = m, 0, 1\n",
    "    while a > 1:\n",
    "        q = a // m\n",
    "        m, a = a % m, m\n",
    "        x0, x1 = x1 - q * x0, x0\n",
    "    return x1 + m0 if x1 < 0 else x1\n",
    "\n",
    "# Fonction pour calculer la signature\n",
    "def sign_elgamal(m, x, p, g):\n",
    "    # Sélection d'un nombre aléatoire k\n",
    "    k = random.randint(2, p - 2)\n",
    "    while pow(k, -1, p - 1) == 0:  # Assure que k est premier avec p-1\n",
    "        k = random.randint(2, p - 2)\n",
    "    r = pow(g, k, p)\n",
    "    k_inv = inverse_modulo(k, p - 1)\n",
    "    s = (m - x * r) * k_inv % (p - 1)\n",
    "    return r, s\n",
    "\n",
    "# Fonction pour vérifier la signature\n",
    "def verify_elgamal(m, r, s, y, p, g):\n",
    "    v1 = pow(g, m, p)\n",
    "    v2 = (pow(y, r, p) * pow(r, s, p)) % p\n",
    "    return v1 == v2\n",
    "\n",
    "# Paramètres ElGamal\n",
    "p = 257\n",
    "g = 3\n",
    "x = 97\n",
    "\n",
    "# Clé publique\n",
    "y = pow(g, x, p)\n",
    "\n",
    "# Message à signer\n",
    "m = 123\n",
    "\n",
    "# Signature\n",
    "r, s = sign_elgamal(m, x, p, g)\n",
    "\n",
    "# Vérification de la signature\n",
    "valid = verify_elgamal(m, r, s, y, p, g)\n",
    "\n",
    "print(\"Signature valide :\", valid)\n"
   ]
  },
  {
   "cell_type": "markdown",
   "metadata": {},
   "source": [
    "#### 2. Exemple d'utilisation du RSA, Diffie-Hellman, ElGamal ou de la signature ElGamal dans Python ou openssl (contexte réel)."
   ]
  },
  {
   "cell_type": "markdown",
   "metadata": {},
   "source": [
    "Supposons que nous ayons un fichier texte appelé \"format.txt\" contenant le message à signer.\n"
   ]
  },
  {
   "cell_type": "markdown",
   "metadata": {},
   "source": [
    "\n",
    "**a) Génération des clés RSA :**\n",
    "Tout d'abord, nous devons générer une paire de clés RSA privée/publique à l'aide d'OpenSSL."
   ]
  },
  {
   "cell_type": "code",
   "execution_count": null,
   "metadata": {
    "vscode": {
     "languageId": "shellscript"
    }
   },
   "outputs": [
    {
     "name": "stderr",
     "output_type": "stream",
     "text": [
      ".........+....+.....+...............+.+..+++++++++++++++++++++++++++++++++++++++*.....+...+......+.+........+.......+..............+....+..+.+..+.+......+...+......+..+...+.......+.....+.......+..+++++++++++++++++++++++++++++++++++++++*.+..+...................+......+........+......+.+........+...+....+......+.........+......+.....+...+....+...+.....+...+.......+........+....+............+...+..................+...+..+.......+..+.+...+.....+................+...+.....+......+.+...+..+................+...+..+....+........+.+.........+........+....+.....+...+.+...........................+.....+...+......+......+.......+......+......+.....+...+.+.........+........+...+......++++++\n",
      ".+...........+...+.+......+...+..+...+.......+......+.....+++++++++++++++++++++++++++++++++++++++*........+++++++++++++++++++++++++++++++++++++++*....+....+.....+.+............+..+......+......+.+..+...+....+......+.....+....+.........+..+...+......+....+..+...............+......................+..+...................+.....+......+...+..........+..+.+..............+..........+.........+..+....+......+..+.+..+.......+.....+.......+......+........+....+.....+......+.+...+...+........+......+...+.+.........+..+......+...+.......+..+.+.....+.......+...+..............+.+...........+...+...+.......+..+.+.....+.............+.................+.......+........+..........+..+......+......+....+.....+.+.....+...............+....+..+.......+..+.+...+......+.....+....+.....+.......+...+......+...+......+...........+................+.....+...+.......+.................+.+..+....+...+......+..+....+...+...+.....+....+........+.+...........+.+...+.....+.....................+......+..........+.....+............+.+.....+.+........+.......+..............+.+......+...+......+...+...+.....+....+.......................+.+..+.........+....+.....+..........+............+.................+.+.........+............+.....+....+.....+......+...+...+............+......+....+............+......+...+......+......+.....+...+.........+............+................+...+..............+...+...+.+...++++++\n",
      "writing RSA key\n"
     ]
    }
   ],
   "source": [
    "#copy paste in a terminal\n",
    "!openssl genpkey -algorithm RSA -out private_key.pem\n",
    "!openssl rsa -pubout -in private_key.pem -out public_key.pem"
   ]
  },
  {
   "cell_type": "markdown",
   "metadata": {},
   "source": [
    "Ces commandes génèrent une clé privée private_key.pem et une clé publique correspondante `public_key.pem`.\n"
   ]
  },
  {
   "cell_type": "markdown",
   "metadata": {},
   "source": [
    "\n",
    "**b) Signature du message :**\n",
    "\n",
    "Ensuite, nous signons le message avec notre clé privée."
   ]
  },
  {
   "cell_type": "code",
   "execution_count": null,
   "metadata": {
    "vscode": {
     "languageId": "shellscript"
    }
   },
   "outputs": [],
   "source": [
    "#copy paste in a terminal\n",
    "!openssl dgst -sha256 -sign private_key.pem -out signature.bin format.txt"
   ]
  },
  {
   "cell_type": "markdown",
   "metadata": {},
   "source": [
    "Cela crée une signature du message dans le fichier signature.bin.\n"
   ]
  },
  {
   "cell_type": "markdown",
   "metadata": {},
   "source": [
    "**c) Vérification de la signature :**\n",
    "\n",
    "Pour vérifier la signature avec la clé publique correspondante, nous utilisons :"
   ]
  },
  {
   "cell_type": "code",
   "execution_count": null,
   "metadata": {
    "vscode": {
     "languageId": "shellscript"
    }
   },
   "outputs": [
    {
     "name": "stdout",
     "output_type": "stream",
     "text": [
      "Verified OK\n"
     ]
    }
   ],
   "source": [
    "#copy paste in a terminal\n",
    "!openssl dgst -sha256 -verify public_key.pem -signature signature.bin format.txt"
   ]
  },
  {
   "cell_type": "markdown",
   "metadata": {},
   "source": [
    "Si la vérification réussit, OpenSSL affichera \"Verified OK\".\n"
   ]
  },
  {
   "cell_type": "markdown",
   "metadata": {},
   "source": [
    "Cet exemple montre comment utiliser OpenSSL pour générer une paire de clés RSA, signer un message avec la clé privée et vérifier la signature avec la clé publique. Vous pouvez répéter ces étapes dans un terminal pour expérimenter avec vos propres messages et clés."
   ]
  },
  {
   "cell_type": "code",
   "execution_count": null,
   "metadata": {
    "vscode": {
     "languageId": "shellscript"
    }
   },
   "outputs": [
    {
     "name": "stderr",
     "output_type": "stream",
     "text": [
      ".....+++++++++++++++++++++++++++++++++++++++*.....+...+......+++++++++++++++++++++++++++++++++++++++*...+.+........+.......+..+.......+.........+.....+......+.+..+.+.........+.....+......+....+...........+......+....+.....+......+.........+.+......+.....+....+...+...+..............+.+.....+....+..................+...+........+......+...+...............+............+.+..+.......++++++\n",
      "......+...+...........+...+.+++++++++++++++++++++++++++++++++++++++*.+.+.................+..........+..............+.+..+...+.......+..+...+.+..+++++++++++++++++++++++++++++++++++++++*..+....+......+..+......+.......+..+...+...+...................+...............+..+.+............+........+...++++++\n"
     ]
    },
    {
     "name": "stderr",
     "output_type": "stream",
     "text": [
      "writing RSA key\n"
     ]
    },
    {
     "name": "stdout",
     "output_type": "stream",
     "text": [
      "Verified OK\n"
     ]
    }
   ],
   "source": [
    "!openssl genpkey -algorithm RSA -out private_key.pem\n",
    "!openssl rsa -pubout -in private_key.pem -out public_key.pem\n",
    "!openssl dgst -sha256 -sign private_key.pem -out signature.bin format.txt       \n",
    "!openssl dgst -sha256 -verify public_key.pem -signature signature.bin format.txt"
   ]
  }
 ],
 "metadata": {
  "kernelspec": {
   "display_name": "Python 3",
   "language": "python",
   "name": "python3"
  },
  "language_info": {
   "codemirror_mode": {
    "name": "ipython",
    "version": 3
   },
   "file_extension": ".py",
   "mimetype": "text/x-python",
   "name": "python",
   "nbconvert_exporter": "python",
   "pygments_lexer": "ipython3",
   "version": "3.11.1"
  }
 },
 "nbformat": 4,
 "nbformat_minor": 2
}
