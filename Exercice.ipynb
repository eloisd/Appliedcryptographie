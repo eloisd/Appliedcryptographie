{
 "cells": [
  {
   "cell_type": "markdown",
   "metadata": {},
   "source": [
    "Code pour projet crypto\n",
    "\n",
    "Import des librairies"
   ]
  },
  {
   "cell_type": "code",
   "execution_count": 2,
   "metadata": {},
   "outputs": [],
   "source": [
    "import hashlib\n",
    "import random \n",
    "import gmpy2 as gm\n",
    "import math\n",
    "import time\n",
    "import base64\n",
    "import os, binascii\n",
    "from backports.pbkdf2 import pbkdf2_hmac\n",
    "import pyaes, pbkdf2, secrets\n"
   ]
  },
  {
   "cell_type": "markdown",
   "metadata": {},
   "source": [
    "Exercice 1"
   ]
  },
  {
   "cell_type": "markdown",
   "metadata": {},
   "source": [
    "Partie 1"
   ]
  },
  {
   "cell_type": "code",
   "execution_count": 3,
   "metadata": {},
   "outputs": [
    {
     "data": {
      "text/plain": [
       "{'chaine_trouvee': 'Serano_Henri__Sara_Thibierge__Eloi_Seidlitz_DIA677031',\n",
       " 'hash_trouve': '31e6f8e6377ad1c9895ef7c22b0ef9a252c0f0ec9d062178c58b416bcb470000',\n",
       " 'compteur_trouve': 77031,\n",
       " 'temps_moyen_n': 0.1148106575012207,\n",
       " 'temps_moyen_n_plus_1': 0.32151641845703127,\n",
       " 'rapport_temps': 2.8004056892855336}"
      ]
     },
     "execution_count": 3,
     "metadata": {},
     "output_type": "execute_result"
    }
   ],
   "source": [
    "\n",
    "def trouver_chaine(base, zeros_cibles):\n",
    "        compteur = 0\n",
    "        while True:\n",
    "            chaine_test = base + str(compteur)\n",
    "            hash_resultat = sha256_hash(chaine_test)\n",
    "            if hash_resultat.endswith('0' * zeros_cibles):\n",
    "                return chaine_test, compteur, hash_resultat\n",
    "            compteur += 1\n",
    "\n",
    "def sha256_hash(chaine):\n",
    "        return hashlib.sha256(chaine.encode()).hexdigest()\n",
    "        \n",
    "def trouver_chaine_et_stats(base, zeros_cibles, iterations_stat=5):\n",
    "    \n",
    "\n",
    "    # Première partie : Trouver la chaîne\n",
    "    chaine_trouvee, compteur_trouve, hash_trouve = trouver_chaine(base, zeros_cibles)\n",
    "\n",
    "    # Deuxième partie : Statistiques de temps\n",
    "    temps_n = []\n",
    "    temps_n_plus_1 = []\n",
    "    \n",
    "    for _ in range(iterations_stat):\n",
    "        debut = time.time()\n",
    "        trouver_chaine(base, zeros_cibles)\n",
    "        fin = time.time()\n",
    "        temps_n.append(fin - debut)\n",
    "\n",
    "        debut = time.time()\n",
    "        trouver_chaine(base, zeros_cibles + 1)\n",
    "        fin = time.time()\n",
    "        temps_n_plus_1.append(fin - debut)\n",
    "\n",
    "    temps_moyen_n = sum(temps_n) / len(temps_n)\n",
    "    temps_moyen_n_plus_1 = sum(temps_n_plus_1) / len(temps_n_plus_1)\n",
    "\n",
    "    rapport_temps = temps_moyen_n_plus_1 / temps_moyen_n\n",
    "\n",
    "    return {\n",
    "        \"chaine_trouvee\": chaine_trouvee,\n",
    "        \"hash_trouve\": hash_trouve,\n",
    "        \"compteur_trouve\": compteur_trouve,\n",
    "        \"temps_moyen_n\": temps_moyen_n,\n",
    "        \"temps_moyen_n_plus_1\": temps_moyen_n_plus_1,\n",
    "        \"rapport_temps\": rapport_temps\n",
    "    }\n",
    "\n",
    "\n",
    "base_chaine = \"Serano_Henri__Sara_Thibierge__Eloi_Seidlitz_DIA6\"\n",
    "zeros_cibles = 4 # Nombre de zéros à la fin du hash\n",
    "resultats = trouver_chaine_et_stats(base_chaine, zeros_cibles)\n",
    "resultats\n"
   ]
  },
  {
   "cell_type": "markdown",
   "metadata": {},
   "source": [
    "Exercice 2"
   ]
  },
  {
   "cell_type": "code",
   "execution_count": 10,
   "metadata": {},
   "outputs": [
    {
     "data": {
      "text/plain": [
       "\"Le marché des sneakers en France a connu une croissance exponentielle au cours des dernières années, devenant un phénomène de mode et un investissement lucratif pour de nombreux amateurs et professionnels. \\nCe texte explore les multiples faceteurs qui sous-tendent le commerce de sneakers dans l'Hexagone, en mettant en lumière ses dynamiques économiques, culturelles et sociales.\\nD'un point de vue économique, le commerce de sneakers en France est stimulé par une demande croissante pour des modèles rares et exclusifs. \\nLes éditions limitées et les collaborations entre marques de renom et designers célèbres créent une urgence d'achat, poussant les prix sur le marché secondaire à atteindre des sommets vertigineux. \\nCette situation a engendré l'émergence d'une véritable économie parallèle, où les sneakers sont non seulement des objets de mode, mais également des actifs spéculatifs.\\n\\nSur le plan culturel, les sneakers occupent une place prépondérante dans l'univers de la mode et de la street culture française. \\nElles transcendent leur simple fonctionnalité pour devenir des symboles d'appartenance à des groupes sociaux spécifiques, des marqueurs d'identité et des oeuvres d'art portable. \\nLes lancements de nouveaux modèles sont désormais des événements médiatiques majeurs, attirant l'attention de millions de passionnés à travers le pays.\\n\\nSocialement, le commerce de sneakers en France reflète les changements dans les comportements de consommation. \\nLa montée en puissance des réseaux sociaux a permis aux consommateurs de partager leur passion, d'échanger des conseils sur les dernières tendances et de se tenir informés des sorties à venir. \\nDe plus, le phénomène de revente a favorisé l'entrepreneuriat chez les jeunes, nombreux étant ceux qui ont saisi cette opportunité pour lancer leur propre business de revente de sneakers.\\n\\nEn conclusion, le commerce de sneakers en France est un miroir des tendances actuelles en matière de mode, d'économie et de culture. \\nIl illustre parfaitement comment un produit peut transcender sa fonction première pour devenir un véritable phénomène social, englobant une multitude de dimensions. \\nCe marché dynamique et en constante évolution continuera sans doute d'attirer de nouveaux adeptes, tout en défiant les conventions et en repoussant les limites de la mode et du commerce.\""
      ]
     },
     "execution_count": 10,
     "metadata": {},
     "output_type": "execute_result"
    }
   ],
   "source": [
    "with open(\"format .txt\", \"r\",encoding=\"utf-8\") as file:\n",
    "    text = str(file.read())\n",
    "text"
   ]
  },
  {
   "cell_type": "code",
   "execution_count": 42,
   "metadata": {},
   "outputs": [
    {
     "name": "stdout",
     "output_type": "stream",
     "text": [
      "<pyaes.aes.Counter object at 0x00000237C68C6ED0>\n"
     ]
    }
   ],
   "source": [
    "password = \"123456789\"\n",
    "passwordSalt = os.urandom(16)\n",
    "key = pbkdf2.PBKDF2(password, passwordSalt).read(32)\n",
    "iv = secrets.randbits(256)\n",
    "#On est obliger de recrée un mot de pass unique pour chiffrer le texte\n",
    "aes = pyaes.AESModeOfOperationCTR(key, pyaes.Counter(iv))\n",
    "ciphertext = aes.encrypt(text)"
   ]
  },
  {
   "cell_type": "code",
   "execution_count": 43,
   "metadata": {},
   "outputs": [
    {
     "name": "stdout",
     "output_type": "stream",
     "text": [
      "b'\\xedoW\\xb9\\x8bf\\xcf\\xb8\\x96\\xcb\\xf7U\\xb2\\xd0h;\\xd8v?\\x06Tk)\\xceMz\\xb1\\x8a\\xd3y\\x873\\xe2\\xf9%J{\\xc4\\xa0b\\x90\\xf6\\xf7dZ!C\\x9b\\xa3cD\\xc5\\x02\\xdc\\xae\\x1f0\\x964\\xb3\\xb3\\x92X*\\xce\\xfbH\\xbb\\x1f1SZ_\\xf1\\xc9\\xfe\\xcd\\xd1\\xde\\x05\\x96\\x90\\xbcgN\\x0e\\x89\\x01\\xba\\xe9\\x85\\x1aow\\xf9\\x17\\xe2\\xdc\\xaau\\n\\xab\\xc9\\x91\\xb2\\x1b\\xc7\\\\\\xe0`U\\x0cC\\nT\\x08\\xc5s\\x16\\xb8\\xb6\\x1d\\xf4\\tY\\xab\\x8e{5k\\xd6\\x9f\\xf6<\\xca\\xbf\\xa0\\x95\\xf8\\xe6o\\x18\\xbe\\xf7jF\\xc5\\xc4\\xd1\\x04\\x81\\xb1\\x17\\xae\\xb2\\x0bx\\xab&p\\xdd\\x15\\x94U\\x12+\\xf2Cy\\x05\\xd1\\xfc\\xa3Tg\\xfaZj\\x85crD\\xceN,\\xd5\\x94\\x87\\x92*\\x9e\\x8d3\\x145UG\\x8c\\xb3\\x882%a(\\xb0P\\x1c\\xac\\xc5\\xc4B\\xc9\\x0bs\\xb6\\x1c\\xcf\\xc3\\xfe\\x84\\xb2\\x1b\\xcd\\x16f\\xfa\\x82\\xca\\x0eC\\xecc`\\xac, :\\xa1(\\xb0\\xc6k\\xb90&\\xcd\\xa5z6\\xe1\\xcf\\xdd\\xa9\\x95\\xe2\\xf5\\xdb?b\\x96\\xe4Z\\x81\\xab\\xfdz4\\x92\\xa9R6q\\'\\x80\\xa4g\\x83\\x87\\xe8W\\xf4\\xf1~\\xf0\\xbc:\\x1f@&\\x00\\xf71\\xb6$\\xfed\\xc3W(1H\\n\\x9e\\xf3\\xea\\xc8eT\\xdf\\xf9\\x05\\t\\xfb\\xd8\\x84u\\x8cl\\x8b\\x9b\\xaa\\x1d\\xf4\\xfatw`\\x96\\xe0\\t\\x1a~\\xd2h\\'=\\x8bSw\\x93\\xf7\\x7f\\xda\\x0f\\x91\\x04\\xf2P{\\xcb\\xf1<\\x13)\\xcf\\xd7\\xfe\\x13E[8\\x07w\\xfa\\xaf\\xc1\\xae\\xef\\x15\\x01\\xaaB,8\\xa5\\xe1hp\\xcd_\\x8f\\x16(D\\xe5\\x0b\\x97H\\xe0\\xe7kM\\xda\\xb6?\\x1dO\\xc7\\xa8\\xe1`\\xa5\\x17Ep\\xb2LRS\\x98\\xad\\x8e0\\x12\\xd1\\xc4\\x02\\xf5P\\xff>\\xecpM\\xd1\\xb8\\xeer\\xd3\\x0f\\x98;T9c\\xe4\\x8b\\x91\\xe2\\xf8\\x0e]\\x04\\xc9\\x05\\x93I{}\\xb5\\x1a\\x9f\\'\\x913\\x81\\t\\x8b\\x88\\xb3\\xc4d\\xd0Y\\n\\xde\\xc3c0\\xe0\\x15\\x13\\xa6\\xbc#\\xd5\\xec\\xc1\\x10\\x16 1\\x8e;\\x18\\'\\xe5\\x01C\\xdbd\\xa7\\xb3\\x98F \\xae\\xda\\xfe\\x1fS\\xde\\xa3\\xd7&_\\xe5\\xfb\\xe0\\xf2\\x8b\\xc3v\\xd0\\n\\xf0R^F+\\x0c\\xfa/\\xa4\\xe4v:\\xa28\\x08\\xa1Z\\x1f\\xc4\\x15r\\xb6(\\xab\\xcc\\xe4\\x0b\\xad\\x97uM\\x88<\\x177\\xd1\\xfd\\x15\\x80\\xac\\x13xs\\xab\\xe8rQ\\xa7\\xc5\",\\xc9\\xa2\\xc4\\x8b\\xc9\\xd6\\xcd\\x93\\xe2\\xad\\xcc[\\xd2\\xb9Q\\xc7\\xbax\\xec\\xe1q\\xa6\\x0c[L\\xb5\\xa9\\xc4\\x8f\\xbc?G#l\\x9a{\\x96\\xd7\\xce\\xe6\\x8bs~\\x9df\\xd4\\x7f\\xc1\\xe5\\x05\\xc2\\n\\xbd\\x89\\xe2\\xd8`\\xcax\\xd3R\\xe2S[\\x828n\\xb4w6\\xbaN\\t\\xbf\\x99\\xcc\\xd3\\xf1\\xca-\\xa7F\\xf7\\xe2c\\xad-EE\\xc5\\x99\\xb2\"MB\\xbf.\\x88\\xa9zz\\x0c2\\xee\\xdf\\x8ah\\xc8\\xce\\xfc\\xa4/\\xf7\\xf7\\xd6\\xad\\x07%\\x14\\xa5\\x02\\x0ej\\xfc\\xcc\\x8aw\\xc0[\\xc3\\xe9=\\x0f\\xb4G\\x89\\x8c\\xaf\\xd4\\xc8\\xc1C\\x8c\\xc1J~\\xeeo\\xf6Z\\xb1\\xc4Nv\\x05\\x0b\\x8c\\x96\\x82@l\\xb9\\xe9\\x06\\xce\\x93\\x9b\\xb98xCe!h\\xb0r6\\xb8\\xfb\\xdbdHa\\x9a\\xca\\xa3\\xd84\\xb2^\\xfe\\x80\\xe3\\xa7\\xd76\\xf6\\xab\\xe4\\xdc8g(\\xd1Jn\"\\xf8\\xa7V\\x06\\x93\\xf7\\xb5_\\t\\\\\\x02v6\\x82\\\\\\xa7\\xee&m\\xdfl\\xa6E\\xaf\\xba\\x08\\x7fD\\x97\\xa9\\xef\\xee\\xafr\\xb7R\\n\\xba\\x81\\xd6\\xcb\\xe2\\xf1Rk\\xfc8\\xc3\\xc3\\x96\\xe4\\xca1\\x9ay\\xc2\\x11L\\x1f\\xe1b\\x1e\\xad5\\x15\".\\x00\\x90,K\\xd0\\xf8\\xb0r\\xb1\\x7f{\\xf1x5\\xa0\\xac]\\\\\\xb2l\\xde\\'\\xaf\\xca\\xce|\\x9d\\xe0\\xb2t\\x80\\xc3\\x07\\x1d}|\\x82O\\xb8\\xc7)\\x0f\\xd3\\x17\\x18\\xbe\\x93=e\\x90\\xd7\\x05\\x8f\\x12\\x9d\\xd0\\xff}O\\xe4C\\x8ff \\xa5\\xectq\\x99\\x999\\x90eQ\\x11\\x08\\xe3M\\xfb\\xaa\\x7f\\xae\\x9f\\xda[\\x9b\\x9d0\\xbe\\x0f\\x11\\x07\\x9d\\xf1\\x08H\\xe5\\xee+\\xc72r\\xbd\\xe0\\x17\\x1ck\"\\xee\\xdb\\x18\\x7fG\\x83V{wUy\\xe4a\\xfb\\xa7n\\x9e\\xc0\\xd8\\x15H\\xbfRYA\\xdbY\\x96=7\\xac\\xe1\\xa1\\x7f\\x9b\\xa6\\xb7\\xb1=C\\xb6VGx\\x1a\\xfb\\x80\\xc8\\x98\\x1c\\xbf\\x7fL\\xa7$5\\xaeaq\\xce\\xbf\\x99\\xe36`S>\\xbc\\x17\\xee\\xa6*MX:\\nI\\x89\\xdb\\xff\\x9e\\xeec\\xbc\\x9cm\\x170}\\xfa\\xb8<\\x95\\x86\\x90\\xb3h\\xc6\\x85\\x98\\xe3\\x85m\\xf2\\x84\\x0e\\xa2\\x9c?\\xdb\\x92r\\xd7Oms\\xdd\\xa7\\x90\\xd204/\\xd9\\xc2D\\x00\\xda\\x8bB\\x93Ao\\xe6\\x14E5N\\x12#\\xfe\\x18`\\xae\\xc6\\xc6\\x9bU=\\xb6\\x0eI\\x1b\\xfc:\\xf3\\xd2\\xf4.\\xe9\\xa0\\xe1\\xe33=\\x04\\x95\\xd7\\xd8[\\xbf\\xe5#\\x17\\x16\\x01\\xff\\xdc\\x19\\xd3\\x8c\\xa5y`\\x0cZ\\x1a\\xc0\\xf8Nv\\xe7\\x8c\\x1f\\xc7\\xcf\\r\\x8f*\\xc9\\xbd\\xe5\\xc6\\xf6n\\xd0X\\x90\\xc1(\\xad\\xf4-\\x03\\x88 \\x8e\\xa6r\\x1d\\xeb\\xff\\x81\\xba\\xc9Ln\\xc4\\xb8\\xc0;\\x82{\\xd7\\x16;\\x14\\xb3\\x13\\'_\\x88\\xf1a\\xc7p\\x88\\xbb\\xa4\\xd8o\\xe1\\xd5\\xa9g\\x15R\\x94{$\\x11Th\\x1d\\x87\\xc6b\\xc0m\\x8a\\xf3\\xd0\\xc5\\x14!\\xe6\\x06\\xb9\\xad\\x12\\x8f\\x9f\\xe5;\\xea\\x0e\\x99\\x17\\x90\\xfa\\xda\\x91\\x80\\x1a\\xeb\\x95\\xe9\\xc27\\xd7:\\x91UD\\n\\xcb\\x07\\x0f\\x8ch\\x9fc\\xf8\\xd9MB\\xa4\\xf8\\xb4\\xef\\xe6\\xa1t\\xe8<\\xa4\\xb2>6o\\xea\\x84\\xc4^\\xe6\\x8f\\x86a\\xf5\\xfd\\x90\\xbeg]\\xc1\\xaf\\x9c\\xcf:~\\xd6\\xb6\\x91]7\\xbc\\x14\\xb4\\'^:\\x07\\xd7A\\xb8[$\\x03_\\xf8F\\xf4z\\x8c\\xc3SWp\\x1ci\\x1a\\xddm^\\xb1\\xab\\x93\\xb3\\x00\\xb4\\x0f\\xf1\\x8f\\x81!s\\x08Z9\\xf7\\xf9Ga\\xee(\\x0b2\\xf4l\\x14\\xa8\\x8a\\x11\\xb9w]\\x871\\xbaK\\xf9\\x9e\\x8bz\\x00\\xf4\\xfd\\xda\\xab\\x83\\xca\\x11\\xf9\\\\$y\\\\y7)s\\xdb\\x10\\xe23\\xbdT\\xe4\\x81\\x08\\xdf\\x83\\n\\t\\xf3\\x02\\x12U\\x91\\xa4\\x7f\\xea\\xb1\\xb6\\xb85\\xb2VfE\\x93\\xa5\\xab\\x00\\xb3\\xb3y]$\\xca\\xa6\\xa9\\x15\\xb2\\x1d\\xbb\\xe2\\x1aE;u\\x19@t\\xce\\xb4\\x15qY\\xe58\\xbc\\xcd\\xa1q\\xbd\\xec]N\\'(\\x8c\\x8d\\xbf\\x83\\x190\\xdf\\x7f\\xa5\\xe9D\\x1c\\xdd\\x1f\\x84}\\xd6R\\x97\\xe5\\x97l\\x8c\\x1f\\t\\xd3\\xa1\\xe14\\xb0\\xfa\\xdf\\x8cCc\\xc8n\\xa5\\xb6\\x1e=\\xb6\\xd2Y\\x93\\x8a\\x8cN\\xaaR\\xc4%\\xf9d\\xe8\\x9f\\x8f\\xba\\x8fN\\xa7m7p\\xc5 \\xe3\\xcf\\xa0\\xa8\\xb5-\\x82\\xf6\\xc7\\xb3R\\xe4\\x11\\xe9r\\x9f\\xc7\\xe9\\x84\\xf0\\xcf@\\xbf\\xd6\\x89\\xd9\\x1cu\\xe7\\xf8\\xeb\\x81V\\x92\\x80X\\xdd\\xa4\\x81A\\xbb0.\\xa81\\xefJ\\xc5L\\xc2\\xc6\\\\\\xd5\\x83\\xa5\\xd9\\xe1\\x1cB%\\xca\\xdf)W\\x15R[\\xe8\\xeaX\\xe81\\xc6{G\\x8c9{e\\xcb~\\xa3\\\\\\xaalu\\xa2\\xee\\xa9\\x82\\xa4\\x88\\xf8\\xba\\xfd\\x04\\xb3\\xa4^\\xa7\\xf9\\x7f]\\x82\\x8a\\xd7\\xfc\\xa9\\x15\\xe6\\xe7\\x12o\\xf5\\xc4)S\\xc4\\xc3\\xe9\\xcb\\xc57(\\x9d\\xb5\\xbe\\x99H\\xaa\\xbf\\x9c0\\x94.\\x9b \\x02\\xb9Y\\xe1\\x91\\x98\\xf6s9\\x9b\\xbf\\x81X\\xeb\\xad\\x80\\xab\\t{.\\x8f\\x08n\\xc6\\xcb\\x10w\\xf1\\x1dP\\x95\\xf3\\x9b\\xd4\\xcc\\xa2\\x88l%\\x9b\\xfb,*\\xea9w\\xdb\\xeax\\xbc\\xa9|r\\x81\\x99\\x05El\\xe0\\x1a$\\x96\\xf5\\x89a\\xed/\\xac-\\xaa\\xcf\\x96\\xd5QD\\xf1\\xd7\\xf7j\\xff\\xf1R\\xb4/\\xee\\x00\\x91sN\\xfc\\xd5\\x86\\xd7\\xe2\\xdd!\\x90\\x0268,\\x8d\\x1c\\xbc\\x1c>\\xe3\\x82sj\\x83\\xb9\\xd8\\xf7\\x8c\\x0b\\xfeGb\\x88\\x10\\x9bo\\xf78\\x1f\\x89\\xf9\\xfaj\\xcf,\\xdf\\x1e\\x9e>\\xaa\\x14\\x97XyZ,\\x88\\x87>\\xa0\\xa1\\xe7\\x0c\\xefx\\x87\\xc3\\x02|\\x80\\xc3\\xdc\\xda\\xdc\\xc4\\x1b\\x8f\\xaf\\xa9R&\\xb0^(\\xd3\\xd8;\\x87j\\xb1\\x1f\\xd5,\\x845\\xc2Rq\\xf6\\x01\\xc4\\xa0cf&y\\x0c\\xdd\\x9a\\xf1|\\x10\\x18\\x9b\\xaa\\xee)\\xd4\\x1b\\x93\\x96\\xc0!X%\\x18\\xca\\xc7\\x0e\\x8b\\xc7c\\xa4\\x00\\xe5\\xd0h \\xf5U\\x87\\x93\\x9a}\\x99\\xc7\\xbb\\x84MJ\\x10-C\\xc0\\x1f \\x86\\xbb\\xafX\\x1f\\xb0\\xacu\\xfb\\x05\\x9d\\x0f0\\x97\\x0b\\'\\xc5*~\\xb0V\\xeb\\xb4y\\xb4\\x80\\xb61\\xc2syv\\x03\\xd8:\\xd8\\x84\\xf5\\xe2^\\xb2\\xbcS\\x10T8}\\xe4\\xc3P\\x9d\\xb7Bv\\xa8\\xb2Q}\\xd3L\\x98%\\xf4\\x87D\\xcd\\x98\\xb8pZ\\x84\\x1e\\xd5[yL\\xe5\\xe4\\x98[D\\xaeI7\\xef\\x82c\\xdbv\\x80\\xbc\\x88c6\\xbe\\xbd\\xe43\\xbd\\x14\\xbakG\\xcc\\xc9\\xf8D\\x8eCf\\xa7\\xf3a7\\x8dq\\xb3(K\\xdb\\xc6\\xc4\\x88c\\x1av,V\\x8a\\x10\\xa5\\x0c\\x11\\xee\\tZ\\xb8)j\\x0bK\\xa8\\xd5\\xf4\\xb4&\\x02\\x18G+8\\xfa\\x1c\\xe1\\xdf\\xdf,\\x01\\xff\\x02\\x9b\\xda{m\\xde\\xfb#\\xa7\\xb6J\\xe8\\x8a\\xc2^B\\xc4c\\x1fu\\x90\\x81\\x06Q\\xfc\\x9c\\x12\\x94\\xc5\\xf0\\xb4P\\xf8\\xd1\\xb6\\xeb\\x8f\\xbd\\x9a\\xcf\\x0b\\xb6 A\\xc0\\xd1\\x03\\x0f\\x94o!\\xe8`\\xd5\\xea\\x16\\xdd\\xcd,#\\xd0!\\xe6\\xf3\\xb9\\xe1\\x90\\xf5\\x81\\xf3\\xfdy\\x96\\x9c%\\x9dFa\\xdfh\\x0ciMc\\xcc%d\\xc7\\xe9\\x96\\x97uJ\\xfe\\x18\\xa3H&\\xcec\\x88|\\xe3$\\xb8 \\x93;\\xa6\\xed\\x0eP\\xc3\\xbc\\xcd\\x9c\\xf3\\x9cc\\xc9\\xfa-I\\xd3w\\xea\\xdd>\\xae(\\xf0<}\\x89\\x10\\xc6\\xda\\xde\\xff~\\xd4]d\\x10:k\\x86\\xb4\\xc3\\x14`\\xc4\\x88\\xe5\\xc7\\xe1\\x1eLO\\xbc\\xfa\\xcf\\x84p\\x14P\\xa76V\\x06\\xa9\\xbd\\x12\\xa6\\x0f\\xe3t3]\\x8d]\\xb9}W\\xf6\\xf8H\\x1a\\xd7\\x88&\\x89\\x1f\\x0c\\x88\\x15\\x18\\xda\\x0c\"\\x81T\\xe5\\x04U\\xe6\\x06\\xd9U\\x7fu\\x15\\x9f\\xbe\\x8d\\xaa\\xe9(\\r\\x11\\x17eo\\xe1O\\xa6A0;zHA\\x95@>l\\xbaP\\xa5\\x15:y!\\xde\\xb79\\xbejHT\\xae >&O\\x15\\xed\\x92\\x03z\\x14&\\xd3\\xafT\\x9b\\x94\\x8b\\xc2'\n"
     ]
    }
   ],
   "source": [
    "print(aes.decrypt(ciphertext))"
   ]
  },
  {
   "cell_type": "code",
   "execution_count": 50,
   "metadata": {},
   "outputs": [
    {
     "name": "stdout",
     "output_type": "stream",
     "text": [
      "<pyaes.aes.Counter object at 0x00000237C684EC90>\n",
      "b\"Le march\\xe9 des sneakers en France a connu une croissance exponentielle au cours des derni\\xe8res ann\\xe9es, devenant un ph\\xe9nom\\xe8ne de mode et un investissement lucratif pour de nombreux amateurs et professionnels. \\nCe texte explore les multiples faceteurs qui sous-tendent le commerce de sneakers dans l'Hexagone, en mettant en lumi\\xe8re ses dynamiques \\xe9conomiques, culturelles et sociales.\\nD'un point de vue \\xe9conomique, le commerce de sneakers en France est stimul\\xe9 par une demande croissante pour des mod\\xe8les rares et exclusifs. \\nLes \\xe9ditions limit\\xe9es et les collaborations entre marques de renom et designers c\\xe9l\\xe8bres cr\\xe9ent une urgence d'achat, poussant les prix sur le march\\xe9 secondaire \\xe0 atteindre des sommets vertigineux. \\nCette situation a engendr\\xe9 l'\\xe9mergence d'une v\\xe9ritable \\xe9conomie parall\\xe8le, o\\xf9 les sneakers sont non seulement des objets de mode, mais \\xe9galement des actifs sp\\xe9culatifs.\\n\\nSur le plan culturel, les sneakers occupent une place pr\\xe9pond\\xe9rante dans l'univers de la mode et de la street culture fran\\xe7aise. \\nElles transcendent leur simple fonctionnalit\\xe9 pour devenir des symboles d'appartenance \\xe0 des groupes sociaux sp\\xe9cifiques, des marqueurs d'identit\\xe9 et des oeuvres d'art portable. \\nLes lancements de nouveaux mod\\xe8les sont d\\xe9sormais des \\xe9v\\xe9nements m\\xe9diatiques majeurs, attirant l'attention de millions de passionn\\xe9s \\xe0 travers le pays.\\n\\nSocialement, le commerce de sneakers en France refl\\xe8te les changements dans les comportements de consommation. \\nLa mont\\xe9e en puissance des r\\xe9seaux sociaux a permis aux consommateurs de partager leur passion, d'\\xe9changer des conseils sur les derni\\xe8res tendances et de se tenir inform\\xe9s des sorties \\xe0 venir. \\nDe plus, le ph\\xe9nom\\xe8ne de revente a favoris\\xe9 l'entrepreneuriat chez les jeunes, nombreux \\xe9tant ceux qui ont saisi cette opportunit\\xe9 pour lancer leur propre business de revente de sneakers.\\n\\nEn conclusion, le commerce de sneakers en France est un miroir des tendances actuelles en mati\\xe8re de mode, d'\\xe9conomie et de culture. \\nIl illustre parfaitement comment un produit peut transcender sa fonction premi\\xe8re pour devenir un v\\xe9ritable ph\\xe9nom\\xe8ne social, englobant une multitude de dimensions. \\nCe march\\xe9 dynamique et en constante \\xe9volution continuera sans doute d'attirer de nouveaux adeptes, tout en d\\xe9fiant les conventions et en repoussant les limites de la mode et du commerce.\"\n"
     ]
    }
   ],
   "source": [
    "print(pyaes.Counter(iv))\n",
    "#Et du coup de le regénéré\n",
    "aes = pyaes.AESModeOfOperationCTR(key, pyaes.Counter(iv))\n",
    "print(aes.decrypt(ciphertext))"
   ]
  },
  {
   "cell_type": "code",
   "execution_count": 55,
   "metadata": {},
   "outputs": [
    {
     "data": {
      "text/plain": [
       "(387225946877039798412155, 5883019579684883513940408)"
      ]
     },
     "execution_count": 55,
     "metadata": {},
     "output_type": "execute_result"
    }
   ],
   "source": [
    "p = 7946851324679854613245823\n",
    "g = 5\n",
    "A = 7579501795988122393422986\n",
    "## Elle publie A\n",
    "password = \"35426517\"\n",
    "IV = \"756431\" \n",
    "N = int(password + \"0000\" + IV) \n",
    "\n",
    "b = 123456789  \n",
    "\n",
    "# Calcul de B et C pour ElGamal\n",
    "B = pow(g, b, p)\n",
    "K = pow(A, b, p)  # Clé secrète partagée\n",
    "C = (K * N) % p  # Chiffrement de N avec la clé secrète partagée\n",
    "\n",
    "B, C"
   ]
  },
  {
   "cell_type": "markdown",
   "metadata": {},
   "source": [
    "Exercice 3"
   ]
  },
  {
   "cell_type": "code",
   "execution_count": null,
   "metadata": {},
   "outputs": [],
   "source": []
  }
 ],
 "metadata": {
  "kernelspec": {
   "display_name": "Python 3",
   "language": "python",
   "name": "python3"
  },
  "language_info": {
   "codemirror_mode": {
    "name": "ipython",
    "version": 3
   },
   "file_extension": ".py",
   "mimetype": "text/x-python",
   "name": "python",
   "nbconvert_exporter": "python",
   "pygments_lexer": "ipython3",
   "version": "3.11.1"
  }
 },
 "nbformat": 4,
 "nbformat_minor": 2
}
