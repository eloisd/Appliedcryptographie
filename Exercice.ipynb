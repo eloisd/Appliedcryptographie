{
 "cells": [
  {
   "cell_type": "markdown",
   "metadata": {},
   "source": [
    "Code pour projet crypto\n",
    "\n",
    "Import des librairies"
   ]
  },
  {
   "cell_type": "markdown",
   "metadata": {},
   "source": [
    "**Date limite :** Mercredi 27 mars 2024\n",
    "\n",
    "**Groupe TD DIA 6 :**\n",
    "\n",
    "Henri Serano, Sara Thibierge, Eloi Seidlitz"
   ]
  },
  {
   "cell_type": "code",
   "execution_count": 1,
   "metadata": {},
   "outputs": [],
   "source": [
    "import hashlib\n",
    "import random \n",
    "import gmpy2 as gm\n",
    "import math\n",
    "import time\n",
    "import base64\n",
    "import os, binascii\n",
    "from backports.pbkdf2 import pbkdf2_hmac\n",
    "import pyaes, pbkdf2, secrets\n"
   ]
  },
  {
   "cell_type": "markdown",
   "metadata": {},
   "source": [
    "## Exercice 1"
   ]
  },
  {
   "cell_type": "markdown",
   "metadata": {},
   "source": [
    "1. Trouver une chaîne de caractères (contenant vos noms et prénoms) dont le hash SHA256 se termine par le plus de zéros possible (en hexadécimal).\n",
    "\n",
    "2. Mesurer le temps moyen pour obtenir n et n+1 zéros en fin de chaîne (n = 5) et calculer le rapport Tn+1/Tn."
   ]
  },
  {
   "cell_type": "markdown",
   "metadata": {},
   "source": [
    "### Partie 1"
   ]
  },
  {
   "cell_type": "code",
   "execution_count": 25,
   "metadata": {},
   "outputs": [
    {
     "data": {
      "text/plain": [
       "{'chaine_trouvee': 'Serano_Henri__Sara_Thibierge__Eloi_Seidlitz_DIA677031',\n",
       " 'hash_trouve': '31e6f8e6377ad1c9895ef7c22b0ef9a252c0f0ec9d062178c58b416bcb470000',\n",
       " 'compteur_trouve': 77031,\n",
       " 'temps_moyen_n': 0.20076637268066405,\n",
       " 'temps_moyen_n_plus_1': 0.6001781463623047,\n",
       " 'rapport_temps': 2.9894356228517363}"
      ]
     },
     "execution_count": 25,
     "metadata": {},
     "output_type": "execute_result"
    }
   ],
   "source": [
    "\n",
    "def trouver_chaine(base, zeros_cibles):\n",
    "        compteur = 0\n",
    "        while True:\n",
    "            chaine_test = base + str(compteur)\n",
    "            hash_resultat = sha256_hash(chaine_test)\n",
    "            if hash_resultat.endswith('0' * zeros_cibles):\n",
    "                return chaine_test, compteur, hash_resultat\n",
    "            compteur += 1\n",
    "\n",
    "def sha256_hash(chaine):\n",
    "        return hashlib.sha256(chaine.encode()).hexdigest()\n",
    "        \n",
    "def trouver_chaine_et_stats(base, zeros_cibles, iterations_stat=5):\n",
    "    # Première partie : Trouver la chaîne\n",
    "    chaine_trouvee, compteur_trouve, hash_trouve = trouver_chaine(base, zeros_cibles)\n",
    "    # Deuxième partie : Statistiques de temps\n",
    "    temps_n = []\n",
    "    temps_n_plus_1 = []\n",
    "    for _ in range(iterations_stat):\n",
    "        debut = time.time()\n",
    "        trouver_chaine(base, zeros_cibles)\n",
    "        fin = time.time()\n",
    "        temps_n.append(fin - debut)\n",
    "        debut = time.time()\n",
    "        trouver_chaine(base, zeros_cibles + 1)\n",
    "        fin = time.time()\n",
    "        temps_n_plus_1.append(fin - debut)\n",
    "    temps_moyen_n = sum(temps_n) / len(temps_n)\n",
    "    temps_moyen_n_plus_1 = sum(temps_n_plus_1) / len(temps_n_plus_1)\n",
    "    rapport_temps = temps_moyen_n_plus_1 / temps_moyen_n\n",
    "    return {\n",
    "        \"chaine_trouvee\": chaine_trouvee,\n",
    "        \"hash_trouve\": hash_trouve,\n",
    "        \"compteur_trouve\": compteur_trouve,\n",
    "        \"temps_moyen_n\": temps_moyen_n,\n",
    "        \"temps_moyen_n_plus_1\": temps_moyen_n_plus_1,\n",
    "        \"rapport_temps\": rapport_temps\n",
    "    }\n",
    "\n",
    "\n",
    "base_chaine = \"Serano_Henri__Sara_Thibierge__Eloi_Seidlitz_DIA6\"\n",
    "zeros_cibles = 4 # Nombre de zéros à la fin du hash\n",
    "resultats = trouver_chaine_et_stats(base_chaine, zeros_cibles)\n",
    "resultats\n"
   ]
  },
  {
   "cell_type": "code",
   "execution_count": 24,
   "metadata": {},
   "outputs": [
    {
     "name": "stdout",
     "output_type": "stream",
     "text": [
      "Nonce trouvé: 230439\n",
      "Hash correspondant: 120c8152cedc4ad3cb4ec0d4707e0c49ffc376ee69f7167fa8b6c6830e400000\n"
     ]
    }
   ],
   "source": [
    "import hashlib\n",
    "\n",
    "def trouver_hash_avec_zeros(texte, nombre_zeros):\n",
    "    nonce = 0\n",
    "    zeros_cibles = '0' * nombre_zeros\n",
    "    while True:\n",
    "        texte_nonce = f\"{texte}{nonce}\"\n",
    "        hash_resultat = hashlib.sha256(texte_nonce.encode()).hexdigest()\n",
    "        if hash_resultat.endswith(zeros_cibles):\n",
    "            return nonce, hash_resultat\n",
    "        nonce += 1\n",
    "\n",
    "texte = \"Serano_Henri__Sara_Thibierge__Eloi_Seidlitz_DIA6\"\n",
    "nombre_zeros = 5\n",
    "\n",
    "nonce_trouve, hash_resultat = trouver_hash_avec_zeros(texte, nombre_zeros)\n",
    "print(f\"Nonce trouvé: {nonce_trouve}\")\n",
    "print(f\"Hash correspondant: {hash_resultat}\")"
   ]
  },
  {
   "cell_type": "markdown",
   "metadata": {},
   "source": [
    "## Exercice 2"
   ]
  },
  {
   "cell_type": "markdown",
   "metadata": {},
   "source": [
    "1. Chiffrer un texte d'environ une demi-page (format .txt) avec AES256-CTR-PBKDF2 en utilisant un mot de passe et une valeur de compteur (IV) de 6 à 9 chiffres (sans 0).\n",
    "\n",
    "2. Constituez un entier N en accolant le mot de passe et l'IV séparés par quatre 0.\n",
    "\n",
    "3. Chiffrer N avec ElGamal en utilisant les nombres p, g et A fournis.\n",
    "\n",
    "4. Sauvegarder le fichier chiffré avec l'extension .enc."
   ]
  },
  {
   "cell_type": "code",
   "execution_count": 3,
   "metadata": {},
   "outputs": [
    {
     "data": {
      "text/plain": [
       "\"Le marché des sneakers en France a connu une croissance exponentielle au cours des dernières années, devenant un phénomène de mode et un investissement lucratif pour de nombreux amateurs et professionnels. \\nCe texte explore les multiples faceteurs qui sous-tendent le commerce de sneakers dans l'Hexagone, en mettant en lumière ses dynamiques économiques, culturelles et sociales.\\nD'un point de vue économique, le commerce de sneakers en France est stimulé par une demande croissante pour des modèles rares et exclusifs. \\nLes éditions limitées et les collaborations entre marques de renom et designers célèbres créent une urgence d'achat, poussant les prix sur le marché secondaire à atteindre des sommets vertigineux. \\nCette situation a engendré l'émergence d'une véritable économie parallèle, où les sneakers sont non seulement des objets de mode, mais également des actifs spéculatifs.\\n\\nSur le plan culturel, les sneakers occupent une place prépondérante dans l'univers de la mode et de la street culture française. \\nElles transcendent leur simple fonctionnalité pour devenir des symboles d'appartenance à des groupes sociaux spécifiques, des marqueurs d'identité et des oeuvres d'art portable. \\nLes lancements de nouveaux modèles sont désormais des événements médiatiques majeurs, attirant l'attention de millions de passionnés à travers le pays.\\n\\nSocialement, le commerce de sneakers en France reflète les changements dans les comportements de consommation. \\nLa montée en puissance des réseaux sociaux a permis aux consommateurs de partager leur passion, d'échanger des conseils sur les dernières tendances et de se tenir informés des sorties à venir. \\nDe plus, le phénomène de revente a favorisé l'entrepreneuriat chez les jeunes, nombreux étant ceux qui ont saisi cette opportunité pour lancer leur propre business de revente de sneakers.\\n\\nEn conclusion, le commerce de sneakers en France est un miroir des tendances actuelles en matière de mode, d'économie et de culture. \\nIl illustre parfaitement comment un produit peut transcender sa fonction première pour devenir un véritable phénomène social, englobant une multitude de dimensions. \\nCe marché dynamique et en constante évolution continuera sans doute d'attirer de nouveaux adeptes, tout en défiant les conventions et en repoussant les limites de la mode et du commerce.\""
      ]
     },
     "execution_count": 3,
     "metadata": {},
     "output_type": "execute_result"
    }
   ],
   "source": [
    "with open(\"format.txt\", \"r\",encoding=\"utf-8\") as file:\n",
    "    text = str(file.read())\n",
    "text"
   ]
  },
  {
   "cell_type": "code",
   "execution_count": 4,
   "metadata": {},
   "outputs": [
    {
     "name": "stdout",
     "output_type": "stream",
     "text": [
      "password:  123456789\n",
      "IV :  858839\n",
      "N :  1234567890000858839\n"
     ]
    }
   ],
   "source": [
    "def generate_non_zero_number(length,password):\n",
    "    return int(''.join(secrets.choice(password) for _ in range(length)))\n",
    "password = \"123456789\"\n",
    "salt = os.urandom(16)\n",
    "key = pbkdf2.PBKDF2(password, salt).read(32)\n",
    "iv = generate_non_zero_number(random.randint(6, 9),password)\n",
    "\n",
    "N = int(password + \"0000\" + str(iv)) \n",
    "print(\"password: \",password)\n",
    "print(\"IV : \",iv)\n",
    "print(\"N : \",N)\n",
    "\n"
   ]
  },
  {
   "cell_type": "code",
   "execution_count": 5,
   "metadata": {},
   "outputs": [
    {
     "name": "stdout",
     "output_type": "stream",
     "text": [
      "b'\\xba\\xbc\\x91\\xc3\\xe9>Tdgc\\x10\\x813o\\xbe\\xebS\\xf7\\xb361\\xd4\\x94\\xe6\\x88\\xad\\xf2Q.\\x9d\\x19\\x1e\\x1d\\x12\\x0fM;\\xfa% \\xaaTV\\x99\\xa2\\xaa8,Y\\x1b\\x978U\\xddS(\\xe0\\xadB\\x13\\xecC\\xdfqg\\x9c\\xb0\\xe3v\\x8e\\x7fpv\\x13\\xd0\\x83\\x7f@e$\\xbd\\n+\\xeayt\\xb5\\nl\\xe0\\xd7\\xab\\x13.\\xc1\\x96\\xa7\\xa9\\xe16\\x82a\\nHS\\xb9<44\\xf5\\x83\\x87\\x1dsI\\xb8|\\x8f\\xf4I\\xa0\\x19w\\xf6Zzu\\r\\xdc\\x06O\\xcd\\xed\\xd0\\xee\\xc2\\xae\\xe3k\\xacU\\x0e\\x85\\xd4\\xf8`t\\x10/\\xd2Q\\xe1p\\xa5\\xfaP\\x03\\x95\\x1c\\xd5\\x8ex\\xc3\\x0637\\x0c\\xfbm\\xa3\\xb9\\x80\\xb7!\\xef\\x90\\x9d\\n\\xe24\\xb3l\\xf4\\xe1\\xdfI\\x13|\\x12j/?\\xd3*\\xfcu\\xa4\\x0fA\\xe1olm\\x8b\\x8av\\xe2\\xb8\\x05)\\x86{r\\x85Nz#-\\x8a\\xc0\\x85\\x179\\x17a?p,\\n\\xc6\\xe3\"R\\x9f\\xd0\\x94wTuqshU(\\xf8\\xcfq;\\xd7\\xca\\xfb\\x8f\\x86\\x84\\xe0\\x80m\"\\x1eO\\x8f\\x9c\\x03\\xac\"\\x12\\xd2z\\xdbFI\\x0b\\xaf\\\\\\xf6\\xfeB\\'W%&u%\\x8dI\\xeeT{\\xc3\\x0bC\\x94Bo\\xd3,\\xda\\x19\\xe85\\x1a`.Z\\xdc\\xd7P\\xa2\\xc0\\x84\\xef\\xbd\\xfd\\x0e\\xa8\\xb6\\xab\\x9c\\xa6\\x0f4\\xa9\\xb6\\x15f\\xfe\\x17\\x86FX}[\\x1eZ\\\\\\xba}8\\xe8_Dx\\x83\\xc8M2T\\x80\\xe7W\\xc2&[\\x045\\x9c}\\xfc\\xf9\\x89q\\xab1i\\xc20\\x94;f\\xdd<\\x9b\\xe4\\x7f)\\x0b\\x9c\\xf7\\x16\\xb5K\\x1d\\x04M\\x90T\\xa8\\x8b\\x88\\'K\\x06\\xffL\\xda8X\\xfc\\x11Kk\\x8d\\x1a?\\xf7\\x12y\\x80\\'\"\\x91\\xa7<W\\x1aP\\xd5\\x91I`\\xdd\\x15\\xdc\\x80Abl\\xc8f\\x95\\xff\\xa1\\x16I-\\xd7\\xe2\\x08w-bh]\"\\xca\\x06\\x81PLu\\x92\\xeeUF\"\\xcb\\x0b\\x14\\xa8\\xf9\\xd9\\xbd\\xb7Ab\\x9c\\xe6 k\\xcd\\x96\\xf4S\\xf0x\\x86-_\\xac+B\\x91oz\\x05\\xa8\\x90p\\x7f\\x0c\\xd4\\xedK;g\\xd8\\x81\\xe5\\xf7\\xdc\\xc3\\xb7U6\\xed\\xe3\\x18\\x10\\xa4\\xc6X\\xc9\\xbd&4-\\xe9\\x86\\x90[\\xb7@:\\x08\\x8d\\xe3\\xd5\\x81\\xdcQc\\xc3\\xb7J\\x17\\x19-N\\xd7\\x17:\\xae\\x0b:\\xa0\\x1c\\x82\\x04\\xe3\\x8c\\x93\\x9dFT\\xcb\\x83\\xf2I\\x04\\x86\\xc4=89\\x8a\\xe2\\xc0\\xcc\\xa8\\xf0\\x8dD\\xd7\\xe0\\xe2\\x887/]Z\\x06\\x91\\n\\x8b\\xb4\\x80\\\\w\\xfc,qE\\x14\\x8d[\\xdb\\x04-\\xd5\\xd5\\xcex6\\xfe$\\xc02e>\\xa0{\\xdeT\\xb7g0\\xc4\\x13n\\xdc@v\\x927\\xb3\\x8a\\xa8\\x10\\xb9\\xbcG<\\xa9\\x8c`\\x022\\x94\\x81\\xeb\\xec\\xc8\\x8c\\xc9\\xd3:\\xf3\\'xl`\\x91\\xb9h\\xa2\\xda\\xe1r\\x1f\\xb7PmY\\xf32h0E\\xceij\\x8a0\\x80\\x11\\x1d\\xe86\\x1b6\\xff\\x02\\x06n\\x9b\\xfd\\xee\\x93\\x05h\\xc45\\xe4\\x15\\xeb\\xb3\\x84e\\xa4\\xea\\xad\\xb2\\xadu\\xc2}\\xcb(<\\xf6\\x19\\'\\x86\\x05(@\\xf6\\x0c\\xe1\\x08d\\x05\\xf3\\xeaE\\x0f\\xa9\\xa7\\xe93\\x1a\\x91C8\\xfd17=\\x1et\\xeb\\xe8\\xdfJ+\\xc3\\x1b\\x00I,0\\xed\\xcd\\xa0D@]\\x97J:s\\xb1+\\xbcK\\x13\\t\\xd3\\x1b\\x0f\\x94x\\x1cV\\xe5\\x8fU\\xc5\\xe2\\x84\\x81\\x81\\x0c\\xf1\\x9eU\\x81\\x80\\xabO\\xff5\\x15\\xe9\\xf2\\x90k\\xa9>\\xbb\\x15?\\x83R\\x9d\\xeb\\x01\\x0b\\x96\\x14\\xe7k\\x96\\xdd\\xeed\\xc7\\x8d9FT\\xc8\\x00\\xcegIN\\xcd\\x98\\xf2\\xc6z\\xe6n\\xb9\\xe0\\xb5\\x05A\\xe4Gc\\x97\\xed_F\\x17\\xc1Z\\x97\\xa8\\xfe\\x97\\x1a\\x12/\\xb6\\xed\\x93\\x9a\\n\\xe9\\xcd\\xda\\xc73Y\\'\\x80\\xc7\\tH\\xed\\x9el\\x14&~\\xdfc\\xc0,\\xdc\\xe7\\xe1h\\x90\\xef\\xfb\\xd8u+?\\x84\\x89\\x87\\xd3\\xed#\\xa5[&\\xe4\\x96&\\x08\\x86\\xf0\\xc6\\xc0a\\x16+4\\xebG\\x0c5\\x87\\x82\\x075c\\x95\\xb6\\t]y~\\xec(H\\x00\\xcc\\xdbE\\xf9\\xdb\\x8d\\x06\\xfa\\xdbtE7\\xa527L\\x19/\\xde^~\\x1d\\xc162W\\xabb\\xd5t\\'\\xbf]\\xe1#\\xf97\\xde\\xc1I\\x1c\\xcf:F\\x08(z\\xaf\\xf4\\n\\xe2\\x10i\\x14!h\\xa4\\x98|\\xae}\\x8f\\x8c\\xfd\\xf7P\\x16q]vQ\\xe3\\xae\\xd7\\xc5e\\xf2\\xd4\\xd5#\\x8c\\xf4\\xfc\\x17(\\xf7j\\xdd\\x8ey\\n\\xed<u \\x91\\xc5\\xcb\\x12H\\x91\\xccZ\\x9cLAW\\xf7\\x87\\xa8\\x045\\xb4\\x10\\xd4.\\x08e\\xcbB\\xcbt\\xe8\\x97U\\x19\\xe31\\xf5\\\\9\\xb7\\xa89 XUK\\xe73\\xb1\\xbf \\xa6-\\xf2\\xc8\\x80\\xf7\\xef\\xe1\\x90\\x84\\xdb\\xf44oM\\xdeV6>\\xd2Q3\\x8e\\xb3v\\xa53(`\\x80\\xacZqi~.M\\x14\\xed\\xaf\\x18\\x83\\xc1\\x0867]\\xee\\x0bN\\xaav8\\xf2\\x1at\\x12\\xe4\\xc0#\\xc6\\xd3hB\\xf2\\x8c5\\x19\"\\xebgH\\xc6Gy\\x14\\xd3\\xc3\\x9b,\\xfe\\xc6&\\x1c\\xd0\\xe1\\xc1D\\xf082\\xe7]\\xd4\\xfb7f\\xda2\\'\\x16\\x1aO\\x12\\xd8\\x06*?\\x9e!\\x9aPwM\\xebb\\xd8\\xb5F6\\xc1[\\x8eT\\xd5]\\x0e\\r\\x9a~\\x97\\xf5G\\x7f\\x0f`=\\xd7\\xf0 \\xde\\xd4\\xc6\\x84\\x8al\\'\\xb21Oj2\\xf5\\x11T\\xab\\xdbH\\x9aTJ\\x91\\xa4\\xc0\\xa5\\xfe\\x9f\\xad\\x8b\\xb4\\xbf\\xf1\\xaa{\\xaeU\\xc7\\xf5\\x7f@\\xce+\\xea\\x1ak\\x8e\\xfa\\xee\\xc4L\\x12m\\xf9\\xd7\\x1f|B\\xfa\\xf3\\xf0\\xe9\\xda\\x16`1\\x88%X.\\xfc\\x90\\x93%;\\n\\xdb]\\x95v\\x96\\x11rss\\x10<\\x9dI>\\x97\\xfb\\xed\\xd3j\\xe0\\xfbM\\x88\\xa1\\xbe\\t\\xe0\\x85\\xa6`\\x9b\\x91g |(\\xd9|3\\x9b\\x02C\\xb9\\xa6\\x7f\\xc2\\xba\\xb9\\xdf\\xd6.\\xac\\xb2x\\x08\\xb2\\x17s\\xe7\\xa3l\\xeaW\\xb6\\xdf\\xe3h\\xe4].\\xff\\xaeC\\xf1\\xa1y\\x04\\xd5?\\x82R\\x1bg\\xba>\\x85n\\xaf\"\\x7f\\xe5+\\xc6,\\x8chG\\xd3\\x15?\\x13\\xfbC\\x03gn-\\xa0\\xbd\\ny\\xd1\\xe8\\xac\\x84y\\xd6\\xf2\\x00\\xbf4M\\xd4\\nd\\xb6\\xc8;\\xcf^r.\\xe8\\xdc\\xfaV\\xd1\\xccv\\xea\\x87^\\xa7\\xd1\\x8f\\xe7\\xb9\\xd8\\xdaa\\xa5\\x17\\xec\\xe5(\\x94\\x03\\xf4\\x8d!\\xad\\xce\\x08pU\\xa0\\x89\\xf1a\\x19B\\x84Zy+\\xf0\\xce\\xed\\xf0U\\x19ob\\xc8\\xae\\xe0\\xa6%\\xee\\xa2\\x1d\\xc0\\xcf\\n-\\xe0\\xd72\\xb0\\x15\\x05;=\\xde\\xd2w\\xff\\xc0\\xb8(\\xfe\\xca\\x87\\xad\\x13&f_\\xd3[R\\xfc\\xac\\xa5\\x7f\\x9c\\xcf\\xee]o\\xc8\\xfc\\xb8g\\xf5\\x94/s[\\xbd\\xa6\\x91y\\x16\\xcd\\x8d\\xe5\\xa8\\x84N\\x14L\\x03\\xb4GB/\\xfaJ\\xa7A@\\xe1y\\xdd\\x0eeU\\x06S5\\xa1\\xe1\\xec\\xdf\\x00\\xf3\\x191\\x86\\x96\\xf4\\\\yP\\xee\\xaa00Z\\x87\\xe7p,\\x96C\\x9f\\xda\\xf8\\xca\\xff.\\x81_\\x9c\\xf0\\x1f\\r\\xb6\\xb2\\x89P\\xe5\\xab\\xc3=\\x7f\\x84\\x18\\xcc\\x1a\\xdb\\xd4\\xdf\\x9a0$fP\\xf4d\\xfb\\xb7\\xd4\\xa6\\xd0Bm\\xfb\\x84\\x8a\\x96\\x83\\x90)X\\n\\x90k\\x95\\xbbo\\x97\\x84@\\x01u\\t1\\xcczl>#\\x9e\\xcd\\xc2\\x80e\\xcd\\xebIN-\\x84\\xce\\xe0H/\\x88|\\xe6\\x19m\\xab\\x12\\x19\\xe6\\x9a(<\\xec\\xaeu\\xa4\\x19{\\x05@3\\xafT\\n\\xbb,Y\\x13\\xa6r\\xee\\x89\\xb7\\xf2\\xc4\\x8cs\\xb4\\x83q\\x8aYU\\xc2\\x81uc\\xd6\\xaa\\n\\x12\\x87\\x18\\x0c\\xf37\\xc7SZ\\x0b\\x15J\\xa6\\x9eN\\xf5/\\xc6\\xdcO\\xf7c\\xe4Sg\\x16A\\xdb\\xe5\\xfcpo\\x1d\\x17\\x9e\\x02k?\\xf9}\\xab\\x00\\xf5\\xc2\\xdc\\x99\\x7f\\x05\\x8f)f\\x075\\x0e,M0\\x8b\\xaa\\xaa\\xb1\\x9fz\\xc3\\xee\\xbejR\\xa3\\x0e\\xed\\x82m;\\x86Zxi\\xef\\x16\\xb7\\xf0\\x1e\\xfbr\\xe9\\x98K\\x9e\\x8d\\xe2\\xcbnu7\\xe6\\xc3x\\x01\\x97\\xa7kn\\x92\\x96d\\x1f\\xfb\\xaf\\xaa9M\\x10>\\xc5\\xbf\\xda|\\x1a\\xe2\\xd2\\xee\\t3.\\x0bt\\x94\\x7fv\\xcel\\xcb\\x8d.7V_\\xb2[\\xd0\\r\\xc3t\\xc2\\x93Ad\\x92\\xcf\\xc0Qt\\x83\\xbd;\\rW\\xd2\\xa7KO06\\xff\\xa5r\\x01z\\x00\\x8c\\xf7\\xf6P \\x9b\\xe3\\x19?R\\xc8\\xa1\\xf8\\xfd\\xf7\\xdaK\\xcc.\\x8f\\xae\\xe90q\\x1ao[\\xab\\x94\\xbd\\x08&\\xf4>\\xea\\x9fa\\x9bS\\xf9\\xce\\x04\\xbd \\xa8\\xba\\\\\\xdd\\x10i\\x1c\\xb8\\x05\\xdcd:\\x0bm$\\xb3\\xb4\\x9f\\xf4\\xac\\xc2\\x828\\xb8\\xaf\\xcd\\xd3\\x8b\\xca\\x89\\x95\\xf4\\xcd\\x06\\xba`j\\xd5\\x1e\\xee-<\\xbf\\xe5e7\\r_\\xdf\\xa1I\\'\\x86 \\xacA3\\x03\\xc7E\\xae\\x86P/YX\\x8d\\xab)\\x8234Qkh+\\x81\\x0f\\xc6\\xbe\\xa7\\xf0/\\xc7H\\x9a~\\\\x+\\xf99y\\xc1\\x8a\\x187\\x80\\t\\x8af\\xb7M\\xbb\\x9f\\x9aA\\xd0\\xc3M\\xc3$\\x14\\xbdV\\xf0\\xee|\\xe8\\x12\\x9cs\\xf4q\\xd1\\x8b2\\xc3h\\x91\\xbe$\\xdb\\x18\\x10L\\x06\\x9dOkl\\x17\\x0f\\t\\x0el\\r\\xdc\\'\\xfb\\xa7\\xcf\\x04itMI>\\x0es\\x84hj\\xa5\\x12)kH\\xc7\\x81\\xdd\\xe8}\\x9d\\xc2\\xa0T\\x7f\\xbc\\x919\\x90\\x90\\x8c\\x9c\\x8d\\xb3\\xb9~O\\x1d\\xddw\\xe4\\x8c\\x0e\\xceR\\xda\\xcf\\xe0\\xf1x\\xfdp|\\x12]\\x9b}\\x811.\\xf7Z\\x00\\xbd\\xcc3\\x7f\\xb1\\xec\\xca\\xe4\\x99\\xae\\x92\\x02h\\xaa6lw\\x8e\\t\\x92\\xb3\\x02\\xbaT\\x0f\\xec\\xd3c\\x0f\\x17\\x8f\\xa6\\xe4\\xcc\\xad\\xcb\\x1a\\x10\\xd3|\\xe3\\xde;\\x9f\\x13\\xb0\\x11W%\\xaej\\xca\\x9e\\xd5K\\xb1^%f\\x96\\x89\\xba\\xe0\\xc9KN\\xae6zgH\\xbc*{@\\xc1\\x10Cc>$%KN\\xff\\xee&<G34\\xefu\\x9f\\xb2X\\xe4.\\xbe-\\xdfP\\xdb\\xe1\\x7f\\xd4w|\\x12)\\xfaZ\\xb0Z\\x13\\x9e\\xe4\\x06\\xc4[\\x19\\x02\\xd5\\n\\xe2\\x8ahqK|Y\\x816\\xdfGMfg\\xc8%\\x03 A\\x1f\\xb2\\xf6\\xea\\xe5\\xca\"\\x9e\\xedt\\xbeA\\x87\\x7fE\\xce\\x1e\\n\\xb01\\xb1k\\xe3\\xd3(\\x87\\xab\\x93\\x07\\xb9\\x1f2T\\x056\\\\\\xc6m\"\\xfb'\n"
     ]
    }
   ],
   "source": [
    "#On est obliger de recrée un mot de pass unique pour chiffrer le texte\n",
    "aes = pyaes.AESModeOfOperationCTR(key, pyaes.Counter(iv))\n",
    "ciphertext = aes.encrypt(text)\n",
    "with open(\"project.enc\", \"wb\") as encrypted_file:\n",
    "    encrypted_file.write(ciphertext)\n",
    "print(ciphertext)"
   ]
  },
  {
   "cell_type": "code",
   "execution_count": 6,
   "metadata": {},
   "outputs": [
    {
     "name": "stdout",
     "output_type": "stream",
     "text": [
      "b\"Le march\\xe9 des sneakers en France a connu une croissance exponentielle au cours des derni\\xe8res ann\\xe9es, devenant un ph\\xe9nom\\xe8ne de mode et un investissement lucratif pour de nombreux amateurs et professionnels. \\nCe texte explore les multiples faceteurs qui sous-tendent le commerce de sneakers dans l'Hexagone, en mettant en lumi\\xe8re ses dynamiques \\xe9conomiques, culturelles et sociales.\\nD'un point de vue \\xe9conomique, le commerce de sneakers en France est stimul\\xe9 par une demande croissante pour des mod\\xe8les rares et exclusifs. \\nLes \\xe9ditions limit\\xe9es et les collaborations entre marques de renom et designers c\\xe9l\\xe8bres cr\\xe9ent une urgence d'achat, poussant les prix sur le march\\xe9 secondaire \\xe0 atteindre des sommets vertigineux. \\nCette situation a engendr\\xe9 l'\\xe9mergence d'une v\\xe9ritable \\xe9conomie parall\\xe8le, o\\xf9 les sneakers sont non seulement des objets de mode, mais \\xe9galement des actifs sp\\xe9culatifs.\\n\\nSur le plan culturel, les sneakers occupent une place pr\\xe9pond\\xe9rante dans l'univers de la mode et de la street culture fran\\xe7aise. \\nElles transcendent leur simple fonctionnalit\\xe9 pour devenir des symboles d'appartenance \\xe0 des groupes sociaux sp\\xe9cifiques, des marqueurs d'identit\\xe9 et des oeuvres d'art portable. \\nLes lancements de nouveaux mod\\xe8les sont d\\xe9sormais des \\xe9v\\xe9nements m\\xe9diatiques majeurs, attirant l'attention de millions de passionn\\xe9s \\xe0 travers le pays.\\n\\nSocialement, le commerce de sneakers en France refl\\xe8te les changements dans les comportements de consommation. \\nLa mont\\xe9e en puissance des r\\xe9seaux sociaux a permis aux consommateurs de partager leur passion, d'\\xe9changer des conseils sur les derni\\xe8res tendances et de se tenir inform\\xe9s des sorties \\xe0 venir. \\nDe plus, le ph\\xe9nom\\xe8ne de revente a favoris\\xe9 l'entrepreneuriat chez les jeunes, nombreux \\xe9tant ceux qui ont saisi cette opportunit\\xe9 pour lancer leur propre business de revente de sneakers.\\n\\nEn conclusion, le commerce de sneakers en France est un miroir des tendances actuelles en mati\\xe8re de mode, d'\\xe9conomie et de culture. \\nIl illustre parfaitement comment un produit peut transcender sa fonction premi\\xe8re pour devenir un v\\xe9ritable ph\\xe9nom\\xe8ne social, englobant une multitude de dimensions. \\nCe march\\xe9 dynamique et en constante \\xe9volution continuera sans doute d'attirer de nouveaux adeptes, tout en d\\xe9fiant les conventions et en repoussant les limites de la mode et du commerce.\"\n"
     ]
    }
   ],
   "source": [
    "#Et du coup de le regénéré\n",
    "aes = pyaes.AESModeOfOperationCTR(key, pyaes.Counter(iv))\n",
    "print(aes.decrypt(ciphertext))"
   ]
  },
  {
   "cell_type": "code",
   "execution_count": 7,
   "metadata": {},
   "outputs": [
    {
     "data": {
      "text/plain": [
       "(3158217543164799972731286, 2400242967411855906388384)"
      ]
     },
     "execution_count": 7,
     "metadata": {},
     "output_type": "execute_result"
    }
   ],
   "source": [
    "p = 7946851324679854613245823\n",
    "g = 5\n",
    "A = 7579501795988122393422986\n",
    "\n",
    "b = random.SystemRandom().randint(2, p-2)\n",
    "\n",
    "# Calcul de B et C pour ElGamal\n",
    "B = pow(g, b, p)\n",
    "K = pow(A, b, p)  # Clé secrète partagée\n",
    "C = (K * N) % p  # Chiffrement de N avec la clé secrète partagée\n",
    "\n",
    "B, C"
   ]
  },
  {
   "cell_type": "code",
   "execution_count": 8,
   "metadata": {},
   "outputs": [
    {
     "data": {
      "text/plain": [
       "'K = pow(B, g, p)\\n\\n# Calculer l\\'inverse modulaire de K\\nK_inv = gm.invert(K, p)\\n\\n# Récupérer N\\nN = (C * K_inv) % p\\n\\nprint(N)\\n\\npassword, iv = str(N)[:-13], int(str(N)[-10:])  # Ceci est un exemple; ajustez selon la structure réelle de N\\nprint(password,iv)\\n# Dérivation de la clé AES à partir du mot de passe\\nkey = pbkdf2_hmac(\\'sha256\\', password.encode(\\'utf-8\\'), salt, 100000, dklen=32)\\n\\naes = pyaes.AESModeOfOperationCTR(key, pyaes.Counter(iv))\\n\\n# Lire le fichier chiffré\\nwith open(\"project.enc\", \"rb\") as encrypted_file:\\n    ciphertext = encrypted_file.read()\\n# Déchiffrer le contenu\\naes = pyaes.AESModeOfOperationCTR(key, pyaes.Counter(iv))\\nprint(aes.decrypt(ciphertext)) '"
      ]
     },
     "execution_count": 8,
     "metadata": {},
     "output_type": "execute_result"
    }
   ],
   "source": [
    "\"\"\"K = pow(B, g, p)\n",
    "\n",
    "# Calculer l'inverse modulaire de K\n",
    "K_inv = gm.invert(K, p)\n",
    "\n",
    "# Récupérer N\n",
    "N = (C * K_inv) % p\n",
    "\n",
    "print(N)\n",
    "\n",
    "password, iv = str(N)[:-13], int(str(N)[-10:])  # Ceci est un exemple; ajustez selon la structure réelle de N\n",
    "print(password,iv)\n",
    "# Dérivation de la clé AES à partir du mot de passe\n",
    "key = pbkdf2_hmac('sha256', password.encode('utf-8'), salt, 100000, dklen=32)\n",
    "\n",
    "aes = pyaes.AESModeOfOperationCTR(key, pyaes.Counter(iv))\n",
    "\n",
    "# Lire le fichier chiffré\n",
    "with open(\"project.enc\", \"rb\") as encrypted_file:\n",
    "    ciphertext = encrypted_file.read()\n",
    "# Déchiffrer le contenu\n",
    "aes = pyaes.AESModeOfOperationCTR(key, pyaes.Counter(iv))\n",
    "print(aes.decrypt(ciphertext)) \"\"\""
   ]
  },
  {
   "cell_type": "markdown",
   "metadata": {},
   "source": [
    "## Exercice 3"
   ]
  },
  {
   "cell_type": "markdown",
   "metadata": {},
   "source": [
    "* Démonstration de la signature ElGamal ou RSA (avec des nombres différents de ceux du cours).\n",
    "* Exemple d'utilisation du RSA, Diffie-Hellman, ElGamal ou de la signature ElGamal dans Python ou openssl (contexte réel)."
   ]
  },
  {
   "cell_type": "markdown",
   "metadata": {},
   "source": [
    "#### 1. Démonstration de la signature ElGamal ou RSA (avec des nombres différents de ceux du cours)."
   ]
  },
  {
   "cell_type": "code",
   "execution_count": 9,
   "metadata": {},
   "outputs": [
    {
     "name": "stdout",
     "output_type": "stream",
     "text": [
      "Signature valide : True\n"
     ]
    }
   ],
   "source": [
    "# Fonction pour calculer l'inverse modulo\n",
    "def inverse_modulo(a, m):\n",
    "    m0, x0, x1 = m, 0, 1\n",
    "    while a > 1:\n",
    "        q = a // m\n",
    "        m, a = a % m, m\n",
    "        x0, x1 = x1 - q * x0, x0\n",
    "    return x1 + m0 if x1 < 0 else x1\n",
    "\n",
    "# Fonction pour calculer la signature\n",
    "def sign_elgamal(m, x, p, g):\n",
    "    # Sélection d'un nombre aléatoire k\n",
    "    k = random.randint(2, p - 2)\n",
    "    while pow(k, -1, p - 1) == 0:  # Assure que k est premier avec p-1\n",
    "        k = random.randint(2, p - 2)\n",
    "    r = pow(g, k, p)\n",
    "    k_inv = inverse_modulo(k, p - 1)\n",
    "    s = (m - x * r) * k_inv % (p - 1)\n",
    "    return r, s\n",
    "\n",
    "# Fonction pour vérifier la signature\n",
    "def verify_elgamal(m, r, s, y, p, g):\n",
    "    v1 = pow(g, m, p)\n",
    "    v2 = (pow(y, r, p) * pow(r, s, p)) % p\n",
    "    return v1 == v2\n",
    "\n",
    "# Paramètres ElGamal\n",
    "p = 257\n",
    "g = 3\n",
    "x = 97\n",
    "\n",
    "# Clé publique\n",
    "y = pow(g, x, p)\n",
    "\n",
    "# Message à signer\n",
    "m = 123\n",
    "\n",
    "# Signature\n",
    "r, s = sign_elgamal(m, x, p, g)\n",
    "\n",
    "# Vérification de la signature\n",
    "valid = verify_elgamal(m, r, s, y, p, g)\n",
    "\n",
    "print(\"Signature valide :\", valid)\n"
   ]
  },
  {
   "cell_type": "markdown",
   "metadata": {},
   "source": [
    "#### 2. Exemple d'utilisation du RSA, Diffie-Hellman, ElGamal ou de la signature ElGamal dans Python ou openssl (contexte réel)."
   ]
  },
  {
   "cell_type": "markdown",
   "metadata": {},
   "source": [
    "Supposons que nous ayons un fichier texte appelé \"format.txt\" contenant le message à signer.\n"
   ]
  },
  {
   "cell_type": "markdown",
   "metadata": {},
   "source": [
    "\n",
    "**a) Génération des clés RSA :**\n",
    "Tout d'abord, nous devons générer une paire de clés RSA privée/publique à l'aide d'OpenSSL."
   ]
  },
  {
   "cell_type": "code",
   "execution_count": 10,
   "metadata": {
    "vscode": {
     "languageId": "shellscript"
    }
   },
   "outputs": [
    {
     "name": "stdout",
     "output_type": "stream",
     "text": [
      ".+....+.....+++++++++++++++++++++++++++++++++++++++*..+.......+..+......+.............+..+....+.........+....................+++++++++++++++++++++++++++++++++++++++*.....+.............+..+...+...+...+.+.....................+..+...+.........+....+..+.......+.....+...+....+...++++++\n",
      "....+....+.....+.+.....+.............+......+.....+....+..+...+++++++++++++++++++++++++++++++++++++++*.+.....+.+..+.........+....+..+++++++++++++++++++++++++++++++++++++++*......+.....+.+...+...........+...++++++\n",
      "writing RSA key\n"
     ]
    }
   ],
   "source": [
    "!openssl genpkey -algorithm RSA -out private_key.pem\n",
    "!openssl rsa -pubout -in private_key.pem -out public_key.pem"
   ]
  },
  {
   "cell_type": "markdown",
   "metadata": {},
   "source": [
    "Ces commandes génèrent une clé privée private_key.pem et une clé publique correspondante `public_key.pem`.\n"
   ]
  },
  {
   "cell_type": "markdown",
   "metadata": {},
   "source": [
    "\n",
    "**b) Signature du message :**\n",
    "\n",
    "Ensuite, nous signons le message avec notre clé privée."
   ]
  },
  {
   "cell_type": "code",
   "execution_count": 11,
   "metadata": {
    "vscode": {
     "languageId": "shellscript"
    }
   },
   "outputs": [],
   "source": [
    "!openssl dgst -sha256 -sign private_key.pem -out signature.bin format.txt"
   ]
  },
  {
   "cell_type": "markdown",
   "metadata": {},
   "source": [
    "Cela crée une signature du message dans le fichier signature.bin.\n"
   ]
  },
  {
   "cell_type": "markdown",
   "metadata": {},
   "source": [
    "**c) Vérification de la signature :**\n",
    "\n",
    "Pour vérifier la signature avec la clé publique correspondante, nous utilisons :"
   ]
  },
  {
   "cell_type": "code",
   "execution_count": 12,
   "metadata": {
    "vscode": {
     "languageId": "shellscript"
    }
   },
   "outputs": [
    {
     "name": "stdout",
     "output_type": "stream",
     "text": [
      "Verified OK\n"
     ]
    }
   ],
   "source": [
    "!openssl dgst -sha256 -verify public_key.pem -signature signature.bin format.txt"
   ]
  },
  {
   "cell_type": "markdown",
   "metadata": {},
   "source": [
    "Si la vérification réussit, OpenSSL affichera \"Verified OK\".\n"
   ]
  },
  {
   "cell_type": "markdown",
   "metadata": {},
   "source": [
    "Cet exemple montre comment utiliser OpenSSL pour générer une paire de clés RSA, signer un message avec la clé privée et vérifier la signature avec la clé publique. Vous pouvez répéter ces étapes dans un terminal pour expérimenter avec vos propres messages et clés."
   ]
  },
  {
   "cell_type": "code",
   "execution_count": null,
   "metadata": {
    "vscode": {
     "languageId": "shellscript"
    }
   },
   "outputs": [
    {
     "name": "stderr",
     "output_type": "stream",
     "text": [
      "........+.....+++++++++++++++++++++++++++++++++++++++*....+..+.+...........+......+...+.+...........+.......+..+...............+.+...+..+............+...+...+.......+...+.........+..+.+++++++++++++++++++++++++++++++++++++++*..+..........+..+.+............+.....+...+.........+.........+.......+..++++++\n",
      ".......+........+.+.....+....+...+.....+.......+...+..+......+.+++++++++++++++++++++++++++++++++++++++*......+......+...+....+...+..+............+.........+.......+...+++++++++++++++++++++++++++++++++++++++*......+...+......+.+....................+..........+...........+.........+.+..+.+...........................+...+.........+..+.+...+.....+..........+..+...+......+......+.........+....+...............+.........+......+..+....+...+...+............+.....+..................+...+....+...+.........+.....+.+.....+...+....+............+.........+..+....+......+..+.......+.....+...............+...+.+......+.....+.+..+...+.........+...................+..+............+......+...............+....+..+.........+.......+..+.+.....+.+.....+.+..+...+....+......+...+..+.......+......+..+....+........+.......+......+.....+...+.+...+............+........+.+..+...+............+..........+...+.....+....+..+...............+...+.............+..+.............+.........+.....+.+...+.....+............+.......+........+.........+.+..+.......+...+......+.....+.+...+.....+...+.......+...+...+...........+.+..+.+..+..........+..+......+.+..............+......+.+..+.......+.....+...+...+...+.+.......................+.............+.....+............+..........+..+....+...........+.+.....+....+...+..+.........+....+...+...+......+........+......+.......+..+......................+...+..+.........+.......+..+.+......+...........+....+......+...+..+...+.+........+............+......+..........+..+......+....+..+.........+......+......+.............+..+.......+...+.................+.+......+.....+...+......+.+.....+.+.....+.......+......+.....+....+.....+.+...........+....+.........+.....+.+.........+..+.........+.+.....+.+...+.....+.+......+.....+........................+.............+.....+...............+.............+..++++++\n",
      "writing RSA key\n"
     ]
    },
    {
     "name": "stdout",
     "output_type": "stream",
     "text": [
      "Verified OK\n"
     ]
    }
   ],
   "source": [
    "!openssl genpkey -algorithm RSA -out private_key.pem\n",
    "!openssl rsa -pubout -in private_key.pem -out public_key.pem\n",
    "!openssl dgst -sha256 -sign private_key.pem -out signature.bin format.txt       \n",
    "!openssl dgst -sha256 -verify public_key.pem -signature signature.bin format.txt"
   ]
  }
 ],
 "metadata": {
  "kernelspec": {
   "display_name": "Python 3",
   "language": "python",
   "name": "python3"
  },
  "language_info": {
   "codemirror_mode": {
    "name": "ipython",
    "version": 3
   },
   "file_extension": ".py",
   "mimetype": "text/x-python",
   "name": "python",
   "nbconvert_exporter": "python",
   "pygments_lexer": "ipython3",
   "version": "3.11.1"
  }
 },
 "nbformat": 4,
 "nbformat_minor": 2
}
